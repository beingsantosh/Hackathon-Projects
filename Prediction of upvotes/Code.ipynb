{
 "cells": [
  {
   "cell_type": "code",
   "execution_count": 433,
   "id": "virtual-mauritius",
   "metadata": {
    "ExecuteTime": {
     "end_time": "2021-03-12T16:21:28.241318Z",
     "start_time": "2021-03-12T16:21:28.213316Z"
    }
   },
   "outputs": [],
   "source": [
    "import pandas as pd\n",
    "import numpy as np\n",
    "import matplotlib.pyplot as plt\n",
    "import seaborn as sns\n",
    "from scipy.stats import skew\n",
    "from scipy.stats import kurtosis\n",
    "\n",
    "from sklearn.model_selection import train_test_split\n",
    "from sklearn.ensemble import RandomForestRegressor\n",
    "from sklearn.metrics import mean_squared_error, r2_score\n",
    "from xgboost import XGBRegressor\n",
    "\n",
    "from sklearn.preprocessing import MinMaxScaler, StandardScaler, RobustScaler"
   ]
  },
  {
   "cell_type": "code",
   "execution_count": 233,
   "id": "synthetic-winning",
   "metadata": {
    "ExecuteTime": {
     "end_time": "2021-03-12T14:44:52.707183Z",
     "start_time": "2021-03-12T14:44:52.245290Z"
    }
   },
   "outputs": [],
   "source": [
    "df_train = pd.read_csv(\"train_NIR5Yl1.csv\")\n",
    "df_test = pd.read_csv(\"test_8i3B3FC.csv\")"
   ]
  },
  {
   "cell_type": "code",
   "execution_count": 234,
   "id": "deadly-passing",
   "metadata": {
    "ExecuteTime": {
     "end_time": "2021-03-12T14:44:52.871002Z",
     "start_time": "2021-03-12T14:44:52.859636Z"
    }
   },
   "outputs": [
    {
     "data": {
      "text/plain": [
       "Index(['ID', 'Tag', 'Reputation', 'Answers', 'Username', 'Views', 'Upvotes'], dtype='object')"
      ]
     },
     "execution_count": 234,
     "metadata": {},
     "output_type": "execute_result"
    }
   ],
   "source": [
    "df_train.columns\n",
    "\n",
    "# it seems it has too many values out side the box"
   ]
  },
  {
   "cell_type": "code",
   "execution_count": 235,
   "id": "cultural-medicare",
   "metadata": {
    "ExecuteTime": {
     "end_time": "2021-03-12T14:44:53.355356Z",
     "start_time": "2021-03-12T14:44:53.318962Z"
    }
   },
   "outputs": [],
   "source": [
    "df_train.Reputation = np.log1p(df_train.Reputation)\n",
    "df_test.Reputation = np.log1p(df_test.Reputation)"
   ]
  },
  {
   "cell_type": "code",
   "execution_count": 236,
   "id": "chronic-jumping",
   "metadata": {
    "ExecuteTime": {
     "end_time": "2021-03-12T14:44:53.813993Z",
     "start_time": "2021-03-12T14:44:53.790782Z"
    }
   },
   "outputs": [],
   "source": [
    "df_train.Answers = np.log1p(df_train.Answers)\n",
    "df_test.Answers = np.log1p(df_test.Answers)"
   ]
  },
  {
   "cell_type": "code",
   "execution_count": 237,
   "id": "other-amber",
   "metadata": {
    "ExecuteTime": {
     "end_time": "2021-03-12T14:44:54.260189Z",
     "start_time": "2021-03-12T14:44:54.226630Z"
    }
   },
   "outputs": [],
   "source": [
    "df_train.Views = np.log1p(df_train.Views)\n",
    "df_test.Views = np.log1p(df_test.Views)"
   ]
  },
  {
   "cell_type": "code",
   "execution_count": 238,
   "id": "numerous-banks",
   "metadata": {
    "ExecuteTime": {
     "end_time": "2021-03-12T14:44:54.729692Z",
     "start_time": "2021-03-12T14:44:54.705853Z"
    }
   },
   "outputs": [],
   "source": [
    "df_train.Upvotes = np.log1p(df_train.Upvotes)"
   ]
  },
  {
   "cell_type": "code",
   "execution_count": 239,
   "id": "physical-burke",
   "metadata": {
    "ExecuteTime": {
     "end_time": "2021-03-12T14:44:55.178108Z",
     "start_time": "2021-03-12T14:44:55.160330Z"
    }
   },
   "outputs": [],
   "source": [
    "mm = MinMaxScaler()"
   ]
  },
  {
   "cell_type": "code",
   "execution_count": 240,
   "id": "closing-fiction",
   "metadata": {
    "ExecuteTime": {
     "end_time": "2021-03-12T14:44:55.649343Z",
     "start_time": "2021-03-12T14:44:55.608203Z"
    }
   },
   "outputs": [],
   "source": [
    "df_train.Reputation = mm.fit_transform(df_train[['Reputation']])\n",
    "df_test.Reputation = mm.transform(df_test[['Reputation']])"
   ]
  },
  {
   "cell_type": "code",
   "execution_count": 241,
   "id": "informative-cabinet",
   "metadata": {
    "ExecuteTime": {
     "end_time": "2021-03-12T14:44:56.124551Z",
     "start_time": "2021-03-12T14:44:56.093785Z"
    }
   },
   "outputs": [],
   "source": [
    "df_train.Views = mm.fit_transform(df_train[['Views']])\n",
    "df_test.Views = mm.transform(df_test[['Views']])"
   ]
  },
  {
   "cell_type": "code",
   "execution_count": 242,
   "id": "trained-health",
   "metadata": {
    "ExecuteTime": {
     "end_time": "2021-03-12T14:44:56.591998Z",
     "start_time": "2021-03-12T14:44:56.559900Z"
    }
   },
   "outputs": [],
   "source": [
    "df_train.Answers = mm.fit_transform(df_train[['Answers']])\n",
    "df_test.Answers = mm.transform(df_test[['Answers']])"
   ]
  },
  {
   "cell_type": "code",
   "execution_count": null,
   "id": "elder-coating",
   "metadata": {},
   "outputs": [],
   "source": []
  },
  {
   "cell_type": "code",
   "execution_count": 232,
   "id": "detailed-poison",
   "metadata": {
    "ExecuteTime": {
     "end_time": "2021-03-12T14:44:47.461129Z",
     "start_time": "2021-03-12T14:44:34.395179Z"
    }
   },
   "outputs": [
    {
     "data": {
      "text/plain": [
       "<AxesSubplot:ylabel='Density'>"
      ]
     },
     "execution_count": 232,
     "metadata": {},
     "output_type": "execute_result"
    },
    {
     "data": {
      "image/png": "[encoded data removed]",
      "text/plain": [
       "<Figure size 432x288 with 1 Axes>"
      ]
     },
     "metadata": {
      "needs_background": "light"
     },
     "output_type": "display_data"
    }
   ],
   "source": [
    "df_train.Reputation.plot(kind='kde')"
   ]
  },
  {
   "cell_type": "code",
   "execution_count": 243,
   "id": "anticipated-brother",
   "metadata": {
    "ExecuteTime": {
     "end_time": "2021-03-12T14:45:02.818499Z",
     "start_time": "2021-03-12T14:45:02.786357Z"
    }
   },
   "outputs": [],
   "source": [
    "df_train.drop(columns=['Username','ID'], inplace=True)\n",
    "df_test.drop(columns=['Username','ID'],inplace=True)"
   ]
  },
  {
   "cell_type": "code",
   "execution_count": 244,
   "id": "european-layer",
   "metadata": {
    "ExecuteTime": {
     "end_time": "2021-03-12T14:45:03.621975Z",
     "start_time": "2021-03-12T14:45:03.464936Z"
    }
   },
   "outputs": [],
   "source": [
    "df_train = pd.get_dummies(df_train, columns=['Tag'], drop_first=True)\n",
    "df_test = pd.get_dummies(df_test, columns=['Tag'], drop_first=True)"
   ]
  },
  {
   "cell_type": "code",
   "execution_count": 245,
   "id": "average-creativity",
   "metadata": {
    "ExecuteTime": {
     "end_time": "2021-03-12T14:45:04.668406Z",
     "start_time": "2021-03-12T14:45:04.653626Z"
    }
   },
   "outputs": [],
   "source": [
    "X = df_train.drop(columns=['Upvotes'])\n",
    "y = df_train.Upvotes"
   ]
  },
  {
   "cell_type": "code",
   "execution_count": 246,
   "id": "available-machine",
   "metadata": {
    "ExecuteTime": {
     "end_time": "2021-03-12T14:45:07.448304Z",
     "start_time": "2021-03-12T14:45:07.359048Z"
    }
   },
   "outputs": [],
   "source": [
    "X_train, X_test, y_train, y_test = train_test_split(X, y, test_size=0.2, random_state=42)"
   ]
  },
  {
   "cell_type": "code",
   "execution_count": 249,
   "id": "documented-injury",
   "metadata": {
    "ExecuteTime": {
     "end_time": "2021-03-12T14:51:19.515132Z",
     "start_time": "2021-03-12T14:45:26.387030Z"
    }
   },
   "outputs": [
    {
     "data": {
      "text/plain": [
       "0.8290223391558331"
      ]
     },
     "execution_count": 249,
     "metadata": {},
     "output_type": "execute_result"
    }
   ],
   "source": [
    "model = RandomForestRegressor()\n",
    "model.fit(X_train, y_train)\n",
    "model.score(X_test,y_test)"
   ]
  },
  {
   "cell_type": "code",
   "execution_count": 250,
   "id": "exclusive-newsletter",
   "metadata": {
    "ExecuteTime": {
     "end_time": "2021-03-12T14:51:31.186605Z",
     "start_time": "2021-03-12T14:51:19.525233Z"
    }
   },
   "outputs": [
    {
     "data": {
      "text/plain": [
       "0.761784619171301"
      ]
     },
     "execution_count": 250,
     "metadata": {},
     "output_type": "execute_result"
    }
   ],
   "source": [
    "y_pred = model.predict(X_test)\n",
    "\n",
    "np.sqrt(mean_squared_error(y_test,y_pred))"
   ]
  },
  {
   "cell_type": "code",
   "execution_count": 251,
   "id": "continent-framing",
   "metadata": {
    "ExecuteTime": {
     "end_time": "2021-03-12T14:52:02.603860Z",
     "start_time": "2021-03-12T14:51:31.195619Z"
    }
   },
   "outputs": [],
   "source": [
    "df_pred = model.predict(df_test)\n",
    "df_pred = np.expm1(df_pred)\n",
    "df_final= pd.DataFrame([pd.read_csv(\"test_8i3B3FC.csv\")['ID'],df_pred])\n",
    "df_final=df_final.T\n",
    "df_final.columns = ['ID','Upvotes']\n",
    "df_final.to_csv('logonall_rf_results.csv',index=False)"
   ]
  },
  {
   "cell_type": "code",
   "execution_count": 198,
   "id": "thirty-spoke",
   "metadata": {
    "ExecuteTime": {
     "end_time": "2021-03-12T14:22:19.585258Z",
     "start_time": "2021-03-12T14:22:13.812513Z"
    }
   },
   "outputs": [
    {
     "data": {
      "text/plain": [
       "<AxesSubplot:ylabel='Density'>"
      ]
     },
     "execution_count": 198,
     "metadata": {},
     "output_type": "execute_result"
    },
    {
     "data": {
      "image/png": "[encoded data removed]",
      "text/plain": [
       "<Figure size 432x288 with 1 Axes>"
      ]
     },
     "metadata": {
      "needs_background": "light"
     },
     "output_type": "display_data"
    }
   ],
   "source": [
    "pd.DataFrame(model.predict(df_test)).plot(kind='kde')"
   ]
  },
  {
   "cell_type": "code",
   "execution_count": 221,
   "id": "sensitive-variance",
   "metadata": {
    "ExecuteTime": {
     "end_time": "2021-03-12T14:38:51.110242Z",
     "start_time": "2021-03-12T14:38:50.860582Z"
    }
   },
   "outputs": [
    {
     "data": {
      "text/html": [
       "<div>\n",
       "<style scoped>\n",
       "    .dataframe tbody tr th:only-of-type {\n",
       "        vertical-align: middle;\n",
       "    }\n",
       "\n",
       "    .dataframe tbody tr th {\n",
       "        vertical-align: top;\n",
       "    }\n",
       "\n",
       "    .dataframe thead th {\n",
       "        text-align: right;\n",
       "    }\n",
       "</style>\n",
       "<table border=\"1\" class=\"dataframe\">\n",
       "  <thead>\n",
       "    <tr style=\"text-align: right;\">\n",
       "      <th></th>\n",
       "      <th>Reputation</th>\n",
       "      <th>Answers</th>\n",
       "      <th>Views</th>\n",
       "      <th>Tag_c</th>\n",
       "      <th>Tag_h</th>\n",
       "      <th>Tag_i</th>\n",
       "      <th>Tag_j</th>\n",
       "      <th>Tag_o</th>\n",
       "      <th>Tag_p</th>\n",
       "      <th>Tag_r</th>\n",
       "      <th>Tag_s</th>\n",
       "      <th>Tag_x</th>\n",
       "    </tr>\n",
       "  </thead>\n",
       "  <tbody>\n",
       "    <tr>\n",
       "      <th>count</th>\n",
       "      <td>264036.000000</td>\n",
       "      <td>264036.000000</td>\n",
       "      <td>264036.000000</td>\n",
       "      <td>264036.000000</td>\n",
       "      <td>264036.000000</td>\n",
       "      <td>264036.000000</td>\n",
       "      <td>264036.000000</td>\n",
       "      <td>264036.000000</td>\n",
       "      <td>264036.000000</td>\n",
       "      <td>264036.000000</td>\n",
       "      <td>264036.000000</td>\n",
       "      <td>264036.000000</td>\n",
       "    </tr>\n",
       "    <tr>\n",
       "      <th>mean</th>\n",
       "      <td>6.944570</td>\n",
       "      <td>1.415746</td>\n",
       "      <td>8.966706</td>\n",
       "      <td>0.219277</td>\n",
       "      <td>0.062412</td>\n",
       "      <td>0.097862</td>\n",
       "      <td>0.219103</td>\n",
       "      <td>0.043956</td>\n",
       "      <td>0.131971</td>\n",
       "      <td>0.037840</td>\n",
       "      <td>0.070577</td>\n",
       "      <td>0.021232</td>\n",
       "    </tr>\n",
       "    <tr>\n",
       "      <th>std</th>\n",
       "      <td>2.302730</td>\n",
       "      <td>0.565916</td>\n",
       "      <td>1.776880</td>\n",
       "      <td>0.413757</td>\n",
       "      <td>0.241903</td>\n",
       "      <td>0.297128</td>\n",
       "      <td>0.413639</td>\n",
       "      <td>0.204998</td>\n",
       "      <td>0.338459</td>\n",
       "      <td>0.190808</td>\n",
       "      <td>0.256118</td>\n",
       "      <td>0.144157</td>\n",
       "    </tr>\n",
       "    <tr>\n",
       "      <th>min</th>\n",
       "      <td>0.000000</td>\n",
       "      <td>0.000000</td>\n",
       "      <td>2.772589</td>\n",
       "      <td>0.000000</td>\n",
       "      <td>0.000000</td>\n",
       "      <td>0.000000</td>\n",
       "      <td>0.000000</td>\n",
       "      <td>0.000000</td>\n",
       "      <td>0.000000</td>\n",
       "      <td>0.000000</td>\n",
       "      <td>0.000000</td>\n",
       "      <td>0.000000</td>\n",
       "    </tr>\n",
       "    <tr>\n",
       "      <th>25%</th>\n",
       "      <td>5.641907</td>\n",
       "      <td>1.098612</td>\n",
       "      <td>7.860185</td>\n",
       "      <td>0.000000</td>\n",
       "      <td>0.000000</td>\n",
       "      <td>0.000000</td>\n",
       "      <td>0.000000</td>\n",
       "      <td>0.000000</td>\n",
       "      <td>0.000000</td>\n",
       "      <td>0.000000</td>\n",
       "      <td>0.000000</td>\n",
       "      <td>0.000000</td>\n",
       "    </tr>\n",
       "    <tr>\n",
       "      <th>50%</th>\n",
       "      <td>7.120444</td>\n",
       "      <td>1.386294</td>\n",
       "      <td>9.099967</td>\n",
       "      <td>0.000000</td>\n",
       "      <td>0.000000</td>\n",
       "      <td>0.000000</td>\n",
       "      <td>0.000000</td>\n",
       "      <td>0.000000</td>\n",
       "      <td>0.000000</td>\n",
       "      <td>0.000000</td>\n",
       "      <td>0.000000</td>\n",
       "      <td>0.000000</td>\n",
       "    </tr>\n",
       "    <tr>\n",
       "      <th>75%</th>\n",
       "      <td>8.537976</td>\n",
       "      <td>1.791759</td>\n",
       "      <td>10.199668</td>\n",
       "      <td>0.000000</td>\n",
       "      <td>0.000000</td>\n",
       "      <td>0.000000</td>\n",
       "      <td>0.000000</td>\n",
       "      <td>0.000000</td>\n",
       "      <td>0.000000</td>\n",
       "      <td>0.000000</td>\n",
       "      <td>0.000000</td>\n",
       "      <td>0.000000</td>\n",
       "    </tr>\n",
       "    <tr>\n",
       "      <th>max</th>\n",
       "      <td>13.857064</td>\n",
       "      <td>4.343805</td>\n",
       "      <td>15.470124</td>\n",
       "      <td>1.000000</td>\n",
       "      <td>1.000000</td>\n",
       "      <td>1.000000</td>\n",
       "      <td>1.000000</td>\n",
       "      <td>1.000000</td>\n",
       "      <td>1.000000</td>\n",
       "      <td>1.000000</td>\n",
       "      <td>1.000000</td>\n",
       "      <td>1.000000</td>\n",
       "    </tr>\n",
       "  </tbody>\n",
       "</table>\n",
       "</div>"
      ],
      "text/plain": [
       "          Reputation        Answers          Views          Tag_c  \\\n",
       "count  264036.000000  264036.000000  264036.000000  264036.000000   \n",
       "mean        6.944570       1.415746       8.966706       0.219277   \n",
       "std         2.302730       0.565916       1.776880       0.413757   \n",
       "min         0.000000       0.000000       2.772589       0.000000   \n",
       "25%         5.641907       1.098612       7.860185       0.000000   \n",
       "50%         7.120444       1.386294       9.099967       0.000000   \n",
       "75%         8.537976       1.791759      10.199668       0.000000   \n",
       "max        13.857064       4.343805      15.470124       1.000000   \n",
       "\n",
       "               Tag_h          Tag_i          Tag_j          Tag_o  \\\n",
       "count  264036.000000  264036.000000  264036.000000  264036.000000   \n",
       "mean        0.062412       0.097862       0.219103       0.043956   \n",
       "std         0.241903       0.297128       0.413639       0.204998   \n",
       "min         0.000000       0.000000       0.000000       0.000000   \n",
       "25%         0.000000       0.000000       0.000000       0.000000   \n",
       "50%         0.000000       0.000000       0.000000       0.000000   \n",
       "75%         0.000000       0.000000       0.000000       0.000000   \n",
       "max         1.000000       1.000000       1.000000       1.000000   \n",
       "\n",
       "               Tag_p          Tag_r          Tag_s          Tag_x  \n",
       "count  264036.000000  264036.000000  264036.000000  264036.000000  \n",
       "mean        0.131971       0.037840       0.070577       0.021232  \n",
       "std         0.338459       0.190808       0.256118       0.144157  \n",
       "min         0.000000       0.000000       0.000000       0.000000  \n",
       "25%         0.000000       0.000000       0.000000       0.000000  \n",
       "50%         0.000000       0.000000       0.000000       0.000000  \n",
       "75%         0.000000       0.000000       0.000000       0.000000  \n",
       "max         1.000000       1.000000       1.000000       1.000000  "
      ]
     },
     "execution_count": 221,
     "metadata": {},
     "output_type": "execute_result"
    }
   ],
   "source": [
    "X_train.describe()"
   ]
  },
  {
   "cell_type": "markdown",
   "id": "contained-yield",
   "metadata": {},
   "source": [
    "#### Trying normal"
   ]
  },
  {
   "cell_type": "code",
   "execution_count": 253,
   "id": "ignored-harrison",
   "metadata": {
    "ExecuteTime": {
     "end_time": "2021-03-12T15:03:20.229312Z",
     "start_time": "2021-03-12T15:03:19.674805Z"
    }
   },
   "outputs": [],
   "source": [
    "df_train = pd.read_csv(\"train_NIR5Yl1.csv\")\n",
    "df_test = pd.read_csv(\"test_8i3B3FC.csv\")"
   ]
  },
  {
   "cell_type": "code",
   "execution_count": 254,
   "id": "superb-entrance",
   "metadata": {
    "ExecuteTime": {
     "end_time": "2021-03-12T15:03:20.271981Z",
     "start_time": "2021-03-12T15:03:20.234970Z"
    }
   },
   "outputs": [],
   "source": [
    "df_train.drop(columns=['Username','ID'], inplace=True)\n",
    "df_test.drop(columns=['Username','ID'],inplace=True)"
   ]
  },
  {
   "cell_type": "code",
   "execution_count": 255,
   "id": "relevant-reaction",
   "metadata": {
    "ExecuteTime": {
     "end_time": "2021-03-12T15:03:20.479159Z",
     "start_time": "2021-03-12T15:03:20.370745Z"
    }
   },
   "outputs": [],
   "source": [
    "df_train = pd.get_dummies(df_train, columns=['Tag'], drop_first=True)\n",
    "df_test = pd.get_dummies(df_test, columns=['Tag'], drop_first=True)"
   ]
  },
  {
   "cell_type": "code",
   "execution_count": 256,
   "id": "interested-declaration",
   "metadata": {
    "ExecuteTime": {
     "end_time": "2021-03-12T15:03:20.767713Z",
     "start_time": "2021-03-12T15:03:20.738416Z"
    }
   },
   "outputs": [],
   "source": [
    "X = df_train.drop(columns=['Upvotes'])\n",
    "y = df_train.Upvotes"
   ]
  },
  {
   "cell_type": "code",
   "execution_count": 257,
   "id": "horizontal-suite",
   "metadata": {
    "ExecuteTime": {
     "end_time": "2021-03-12T15:03:21.226596Z",
     "start_time": "2021-03-12T15:03:21.089153Z"
    }
   },
   "outputs": [],
   "source": [
    "X_train, X_test, y_train, y_test = train_test_split(X, y, test_size=0.2, random_state=42)"
   ]
  },
  {
   "cell_type": "code",
   "execution_count": 258,
   "id": "clean-testing",
   "metadata": {
    "ExecuteTime": {
     "end_time": "2021-03-12T15:10:27.697554Z",
     "start_time": "2021-03-12T15:03:21.738163Z"
    }
   },
   "outputs": [
    {
     "data": {
      "text/plain": [
       "0.8704274114927795"
      ]
     },
     "execution_count": 258,
     "metadata": {},
     "output_type": "execute_result"
    }
   ],
   "source": [
    "model = RandomForestRegressor()\n",
    "model.fit(X_train, y_train)\n",
    "model.score(X_test,y_test)"
   ]
  },
  {
   "cell_type": "code",
   "execution_count": 259,
   "id": "permanent-following",
   "metadata": {
    "ExecuteTime": {
     "end_time": "2021-03-12T15:10:38.302117Z",
     "start_time": "2021-03-12T15:10:27.704569Z"
    }
   },
   "outputs": [
    {
     "data": {
      "text/plain": [
       "1410.2455708498478"
      ]
     },
     "execution_count": 259,
     "metadata": {},
     "output_type": "execute_result"
    }
   ],
   "source": [
    "y_pred = model.predict(X_test)\n",
    "\n",
    "np.sqrt(mean_squared_error(y_test,y_pred))"
   ]
  },
  {
   "cell_type": "code",
   "execution_count": 261,
   "id": "double-quebec",
   "metadata": {
    "ExecuteTime": {
     "end_time": "2021-03-12T15:17:03.635822Z",
     "start_time": "2021-03-12T15:16:47.393286Z"
    }
   },
   "outputs": [],
   "source": [
    "df_pred = model.predict(df_test)\n",
    "#df_pred = np.expm1(df_pred)\n",
    "df_final= pd.DataFrame([pd.read_csv(\"test_8i3B3FC.csv\")['ID'],df_pred])\n",
    "df_final=df_final.T\n",
    "df_final.columns = ['ID','Upvotes']\n",
    "df_final.to_csv('nothing_results.csv',index=False)"
   ]
  },
  {
   "cell_type": "markdown",
   "id": "loaded-namibia",
   "metadata": {},
   "source": [
    "### Suggestion from medium \n"
   ]
  },
  {
   "cell_type": "code",
   "execution_count": 437,
   "id": "novel-innocent",
   "metadata": {
    "ExecuteTime": {
     "end_time": "2021-03-12T16:26:05.332230Z",
     "start_time": "2021-03-12T16:26:04.901779Z"
    }
   },
   "outputs": [],
   "source": [
    "df_train = pd.read_csv(\"train_NIR5Yl1.csv\")\n",
    "df_test = pd.read_csv(\"test_8i3B3FC.csv\")"
   ]
  },
  {
   "cell_type": "code",
   "execution_count": 438,
   "id": "parental-manual",
   "metadata": {
    "ExecuteTime": {
     "end_time": "2021-03-12T16:26:05.469240Z",
     "start_time": "2021-03-12T16:26:05.425058Z"
    }
   },
   "outputs": [],
   "source": [
    "df_train.drop(columns=['Username','ID'], inplace=True)\n",
    "df_test.drop(columns=['Username','ID'],inplace=True)"
   ]
  },
  {
   "cell_type": "code",
   "execution_count": 439,
   "id": "productive-spiritual",
   "metadata": {
    "ExecuteTime": {
     "end_time": "2021-03-12T16:26:06.668938Z",
     "start_time": "2021-03-12T16:26:06.003846Z"
    }
   },
   "outputs": [
    {
     "data": {
      "text/plain": [
       "<AxesSubplot:xlabel='Tag'>"
      ]
     },
     "execution_count": 439,
     "metadata": {},
     "output_type": "execute_result"
    },
    {
     "data": {
      "image/png": "[encoded data removed]",
      "text/plain": [
       "<Figure size 576x360 with 2 Axes>"
      ]
     },
     "metadata": {
      "needs_background": "light"
     },
     "output_type": "display_data"
    }
   ],
   "source": [
    "m = df_train.groupby('Tag').mean()\n",
    "\n",
    "plt.figure(figsize=(8,5))\n",
    "\n",
    "plt.subplot(1,2,1)\n",
    "\n",
    "m['Answers'].plot(kind='bar')\n",
    "\n",
    "\n",
    "plt.subplot(1,2,2)\n",
    "\n",
    "m['Views'].plot(kind='bar')"
   ]
  },
  {
   "cell_type": "code",
   "execution_count": 440,
   "id": "communist-impression",
   "metadata": {
    "ExecuteTime": {
     "end_time": "2021-03-12T16:26:06.684876Z",
     "start_time": "2021-03-12T16:26:06.676393Z"
    }
   },
   "outputs": [],
   "source": [
    "from sklearn.preprocessing import LabelEncoder, Binarizer"
   ]
  },
  {
   "cell_type": "code",
   "execution_count": 441,
   "id": "economic-campaign",
   "metadata": {
    "ExecuteTime": {
     "end_time": "2021-03-12T16:26:06.938546Z",
     "start_time": "2021-03-12T16:26:06.924138Z"
    }
   },
   "outputs": [],
   "source": [
    "b = Binarizer(threshold=4)"
   ]
  },
  {
   "cell_type": "code",
   "execution_count": 442,
   "id": "operating-scheduling",
   "metadata": {
    "ExecuteTime": {
     "end_time": "2021-03-12T16:26:07.370607Z",
     "start_time": "2021-03-12T16:26:07.323189Z"
    }
   },
   "outputs": [],
   "source": [
    "df_train['watched'] = b.fit_transform(df_train[['Answers']])\n",
    "df_test['watched'] = b.fit_transform(df_test[['Answers']])"
   ]
  },
  {
   "cell_type": "code",
   "execution_count": 443,
   "id": "arabic-empty",
   "metadata": {
    "ExecuteTime": {
     "end_time": "2021-03-12T16:26:07.710772Z",
     "start_time": "2021-03-12T16:26:07.682035Z"
    }
   },
   "outputs": [
    {
     "data": {
      "text/plain": [
       "0.0    235605\n",
       "1.0     94440\n",
       "Name: watched, dtype: int64"
      ]
     },
     "execution_count": 443,
     "metadata": {},
     "output_type": "execute_result"
    }
   ],
   "source": [
    "df_train['watched'].value_counts()"
   ]
  },
  {
   "cell_type": "code",
   "execution_count": 444,
   "id": "simple-population",
   "metadata": {
    "ExecuteTime": {
     "end_time": "2021-03-12T16:26:08.012929Z",
     "start_time": "2021-03-12T16:26:08.006118Z"
    }
   },
   "outputs": [],
   "source": [
    "le = LabelEncoder()"
   ]
  },
  {
   "cell_type": "code",
   "execution_count": 445,
   "id": "verified-immune",
   "metadata": {
    "ExecuteTime": {
     "end_time": "2021-03-12T16:26:08.440287Z",
     "start_time": "2021-03-12T16:26:08.293747Z"
    }
   },
   "outputs": [],
   "source": [
    "df_train['Tag'] = le.fit_transform(df_train['Tag'])\n",
    "df_test['Tag'] = le.transform(df_test['Tag'])\n",
    "\n",
    "# df_train = pd.get_dummies(df_train, columns=['Tag'], drop_first=True)\n",
    "# df_test = pd.get_dummies(df_test, columns=['Tag'], drop_first=True)"
   ]
  },
  {
   "cell_type": "code",
   "execution_count": 446,
   "id": "familiar-anthony",
   "metadata": {
    "ExecuteTime": {
     "end_time": "2021-03-12T16:26:08.636418Z",
     "start_time": "2021-03-12T16:26:08.591666Z"
    }
   },
   "outputs": [
    {
     "data": {
      "text/html": [
       "<div>\n",
       "<style scoped>\n",
       "    .dataframe tbody tr th:only-of-type {\n",
       "        vertical-align: middle;\n",
       "    }\n",
       "\n",
       "    .dataframe tbody tr th {\n",
       "        vertical-align: top;\n",
       "    }\n",
       "\n",
       "    .dataframe thead th {\n",
       "        text-align: right;\n",
       "    }\n",
       "</style>\n",
       "<table border=\"1\" class=\"dataframe\">\n",
       "  <thead>\n",
       "    <tr style=\"text-align: right;\">\n",
       "      <th></th>\n",
       "      <th>Tag</th>\n",
       "      <th>Reputation</th>\n",
       "      <th>Answers</th>\n",
       "      <th>Views</th>\n",
       "      <th>Upvotes</th>\n",
       "      <th>watched</th>\n",
       "    </tr>\n",
       "  </thead>\n",
       "  <tbody>\n",
       "    <tr>\n",
       "      <th>0</th>\n",
       "      <td>0</td>\n",
       "      <td>3942.0</td>\n",
       "      <td>2.0</td>\n",
       "      <td>7855.0</td>\n",
       "      <td>42.0</td>\n",
       "      <td>0.0</td>\n",
       "    </tr>\n",
       "    <tr>\n",
       "      <th>1</th>\n",
       "      <td>0</td>\n",
       "      <td>26046.0</td>\n",
       "      <td>12.0</td>\n",
       "      <td>55801.0</td>\n",
       "      <td>1175.0</td>\n",
       "      <td>1.0</td>\n",
       "    </tr>\n",
       "    <tr>\n",
       "      <th>2</th>\n",
       "      <td>1</td>\n",
       "      <td>1358.0</td>\n",
       "      <td>4.0</td>\n",
       "      <td>8067.0</td>\n",
       "      <td>60.0</td>\n",
       "      <td>0.0</td>\n",
       "    </tr>\n",
       "    <tr>\n",
       "      <th>3</th>\n",
       "      <td>0</td>\n",
       "      <td>264.0</td>\n",
       "      <td>3.0</td>\n",
       "      <td>27064.0</td>\n",
       "      <td>9.0</td>\n",
       "      <td>0.0</td>\n",
       "    </tr>\n",
       "    <tr>\n",
       "      <th>4</th>\n",
       "      <td>1</td>\n",
       "      <td>4271.0</td>\n",
       "      <td>4.0</td>\n",
       "      <td>13986.0</td>\n",
       "      <td>83.0</td>\n",
       "      <td>0.0</td>\n",
       "    </tr>\n",
       "    <tr>\n",
       "      <th>...</th>\n",
       "      <td>...</td>\n",
       "      <td>...</td>\n",
       "      <td>...</td>\n",
       "      <td>...</td>\n",
       "      <td>...</td>\n",
       "      <td>...</td>\n",
       "    </tr>\n",
       "    <tr>\n",
       "      <th>330040</th>\n",
       "      <td>1</td>\n",
       "      <td>36.0</td>\n",
       "      <td>2.0</td>\n",
       "      <td>1063.0</td>\n",
       "      <td>0.0</td>\n",
       "      <td>0.0</td>\n",
       "    </tr>\n",
       "    <tr>\n",
       "      <th>330041</th>\n",
       "      <td>1</td>\n",
       "      <td>1649.0</td>\n",
       "      <td>2.0</td>\n",
       "      <td>23319.0</td>\n",
       "      <td>73.0</td>\n",
       "      <td>0.0</td>\n",
       "    </tr>\n",
       "    <tr>\n",
       "      <th>330042</th>\n",
       "      <td>1</td>\n",
       "      <td>6178.0</td>\n",
       "      <td>2.0</td>\n",
       "      <td>2453.0</td>\n",
       "      <td>15.0</td>\n",
       "      <td>0.0</td>\n",
       "    </tr>\n",
       "    <tr>\n",
       "      <th>330043</th>\n",
       "      <td>4</td>\n",
       "      <td>89.0</td>\n",
       "      <td>2.0</td>\n",
       "      <td>2107.0</td>\n",
       "      <td>3.0</td>\n",
       "      <td>0.0</td>\n",
       "    </tr>\n",
       "    <tr>\n",
       "      <th>330044</th>\n",
       "      <td>4</td>\n",
       "      <td>2001.0</td>\n",
       "      <td>4.0</td>\n",
       "      <td>2554.0</td>\n",
       "      <td>37.0</td>\n",
       "      <td>0.0</td>\n",
       "    </tr>\n",
       "  </tbody>\n",
       "</table>\n",
       "<p>330045 rows × 6 columns</p>\n",
       "</div>"
      ],
      "text/plain": [
       "        Tag  Reputation  Answers    Views  Upvotes  watched\n",
       "0         0      3942.0      2.0   7855.0     42.0      0.0\n",
       "1         0     26046.0     12.0  55801.0   1175.0      1.0\n",
       "2         1      1358.0      4.0   8067.0     60.0      0.0\n",
       "3         0       264.0      3.0  27064.0      9.0      0.0\n",
       "4         1      4271.0      4.0  13986.0     83.0      0.0\n",
       "...     ...         ...      ...      ...      ...      ...\n",
       "330040    1        36.0      2.0   1063.0      0.0      0.0\n",
       "330041    1      1649.0      2.0  23319.0     73.0      0.0\n",
       "330042    1      6178.0      2.0   2453.0     15.0      0.0\n",
       "330043    4        89.0      2.0   2107.0      3.0      0.0\n",
       "330044    4      2001.0      4.0   2554.0     37.0      0.0\n",
       "\n",
       "[330045 rows x 6 columns]"
      ]
     },
     "execution_count": 446,
     "metadata": {},
     "output_type": "execute_result"
    }
   ],
   "source": [
    "df_train"
   ]
  },
  {
   "cell_type": "code",
   "execution_count": 447,
   "id": "covered-pioneer",
   "metadata": {
    "ExecuteTime": {
     "end_time": "2021-03-12T16:26:09.236776Z",
     "start_time": "2021-03-12T16:26:09.205852Z"
    }
   },
   "outputs": [],
   "source": [
    "X = df_train.drop(columns=['Upvotes'])"
   ]
  },
  {
   "cell_type": "code",
   "execution_count": 448,
   "id": "celtic-evanescence",
   "metadata": {
    "ExecuteTime": {
     "end_time": "2021-03-12T16:26:09.706531Z",
     "start_time": "2021-03-12T16:26:09.697185Z"
    }
   },
   "outputs": [],
   "source": [
    "y = df_train.Upvotes"
   ]
  },
  {
   "cell_type": "code",
   "execution_count": 449,
   "id": "selected-double",
   "metadata": {
    "ExecuteTime": {
     "end_time": "2021-03-12T16:26:10.107014Z",
     "start_time": "2021-03-12T16:26:10.089304Z"
    }
   },
   "outputs": [
    {
     "data": {
      "text/plain": [
       "((141448, 5), (330045, 5))"
      ]
     },
     "execution_count": 449,
     "metadata": {},
     "output_type": "execute_result"
    }
   ],
   "source": [
    "df_test.shape, X.shape"
   ]
  },
  {
   "cell_type": "code",
   "execution_count": 450,
   "id": "polar-attack",
   "metadata": {
    "ExecuteTime": {
     "end_time": "2021-03-12T16:26:10.480637Z",
     "start_time": "2021-03-12T16:26:10.405465Z"
    }
   },
   "outputs": [],
   "source": [
    "X_train, X_test, y_train, y_test = train_test_split(X, y, test_size=0.2, random_state=42)"
   ]
  },
  {
   "cell_type": "code",
   "execution_count": null,
   "id": "renewable-there",
   "metadata": {},
   "outputs": [],
   "source": []
  },
  {
   "cell_type": "code",
   "execution_count": 451,
   "id": "competent-postage",
   "metadata": {
    "ExecuteTime": {
     "end_time": "2021-03-12T16:26:11.164253Z",
     "start_time": "2021-03-12T16:26:11.147099Z"
    }
   },
   "outputs": [],
   "source": [
    "mm = StandardScaler()"
   ]
  },
  {
   "cell_type": "code",
   "execution_count": 452,
   "id": "labeled-treasury",
   "metadata": {
    "ExecuteTime": {
     "end_time": "2021-03-12T16:26:11.534976Z",
     "start_time": "2021-03-12T16:26:11.463640Z"
    }
   },
   "outputs": [],
   "source": [
    "X_train = mm.fit_transform(X_train)"
   ]
  },
  {
   "cell_type": "code",
   "execution_count": 453,
   "id": "framed-spouse",
   "metadata": {
    "ExecuteTime": {
     "end_time": "2021-03-12T16:26:11.830403Z",
     "start_time": "2021-03-12T16:26:11.789575Z"
    }
   },
   "outputs": [],
   "source": [
    "X_test = mm.transform(X_test)\n",
    "df_test = mm.transform(df_test)"
   ]
  },
  {
   "cell_type": "code",
   "execution_count": 454,
   "id": "cordless-hypothetical",
   "metadata": {
    "ExecuteTime": {
     "end_time": "2021-03-12T16:26:13.144574Z",
     "start_time": "2021-03-12T16:26:13.135814Z"
    }
   },
   "outputs": [
    {
     "data": {
      "text/plain": [
       "((141448, 5), (66009, 5), (264036, 5))"
      ]
     },
     "execution_count": 454,
     "metadata": {},
     "output_type": "execute_result"
    }
   ],
   "source": [
    "df_test.shape, X_test.shape, X_train.shape"
   ]
  },
  {
   "cell_type": "code",
   "execution_count": 455,
   "id": "tropical-victoria",
   "metadata": {
    "ExecuteTime": {
     "end_time": "2021-03-12T16:26:13.543871Z",
     "start_time": "2021-03-12T16:26:13.529551Z"
    }
   },
   "outputs": [],
   "source": [
    "# from sklearn.preprocessing import PolynomialFeatures\n",
    "# from sklearn import linear_model"
   ]
  },
  {
   "cell_type": "code",
   "execution_count": 456,
   "id": "drawn-citation",
   "metadata": {
    "ExecuteTime": {
     "end_time": "2021-03-12T16:26:13.955369Z",
     "start_time": "2021-03-12T16:26:13.937455Z"
    }
   },
   "outputs": [],
   "source": [
    "# pol = PolynomialFeatures(degree=4, interaction_only=False, include_bias=True)\n",
    "\n",
    "# X_p = pol.fit_transform(X_train)\n",
    "\n",
    "# pol.fit(X_train, y_train)\n",
    "\n",
    "# lin_reg = linear_model.LassoLars(alpha=0.021, max_iter=150)\n",
    "\n",
    "# lin_reg.fit(X_p, y_train)'"
   ]
  },
  {
   "cell_type": "code",
   "execution_count": 457,
   "id": "round-hawaii",
   "metadata": {
    "ExecuteTime": {
     "end_time": "2021-03-12T16:26:14.351777Z",
     "start_time": "2021-03-12T16:26:14.346522Z"
    }
   },
   "outputs": [],
   "source": [
    "# pred = pol.fit_transform(X_test)\n",
    "\n",
    "# pred_val = lin_reg.predict(pred)\n",
    "\n",
    "# print(r2_score(y_test, pred_val))"
   ]
  },
  {
   "cell_type": "code",
   "execution_count": 458,
   "id": "valid-candy",
   "metadata": {
    "ExecuteTime": {
     "end_time": "2021-03-12T17:03:20.594338Z",
     "start_time": "2021-03-12T16:26:14.723139Z"
    }
   },
   "outputs": [
    {
     "name": "stdout",
     "output_type": "stream",
     "text": [
      "Fitting 5 folds for each of 10 candidates, totalling 50 fits\n"
     ]
    },
    {
     "name": "stderr",
     "output_type": "stream",
     "text": [
      "[Parallel(n_jobs=4)]: Using backend LokyBackend with 4 concurrent workers.\n",
      "[Parallel(n_jobs=4)]: Done  10 tasks      | elapsed:  1.8min\n",
      "[Parallel(n_jobs=4)]: Done  50 out of  50 | elapsed: 36.3min finished\n"
     ]
    },
    {
     "data": {
      "text/plain": [
       "RandomizedSearchCV(cv=5,\n",
       "                   estimator=XGBRegressor(base_score=None, booster=None,\n",
       "                                          colsample_bylevel=None,\n",
       "                                          colsample_bynode=None,\n",
       "                                          colsample_bytree=None, gamma=None,\n",
       "                                          gpu_id=None, importance_type='gain',\n",
       "                                          interaction_constraints=None,\n",
       "                                          learning_rate=None,\n",
       "                                          max_delta_step=None, max_depth=None,\n",
       "                                          min_child_weight=None, missing=nan,\n",
       "                                          monotone_constraints=None,\n",
       "                                          n_estimators=100, n...\n",
       "                                          scale_pos_weight=None, subsample=None,\n",
       "                                          tree_method=None,\n",
       "                                          validate_parameters=None,\n",
       "                                          verbosity=None),\n",
       "                   n_jobs=4,\n",
       "                   param_distributions={'base_score': [0.2, 0.6, 1],\n",
       "                                        'booster': ['gbtree'],\n",
       "                                        'learning_rate': [0.02, 0.1, 0.2],\n",
       "                                        'max_depth': [2, 9, 15],\n",
       "                                        'min_child_weight': [1, 3, 6],\n",
       "                                        'n_estimators': [100, 600, 1500]},\n",
       "                   random_state=42, return_train_score=True,\n",
       "                   scoring='neg_root_mean_squared_error', verbose=5)"
      ]
     },
     "execution_count": 458,
     "metadata": {},
     "output_type": "execute_result"
    }
   ],
   "source": [
    "# Lets try with randomizedsearchCV\n",
    "from sklearn.model_selection import RandomizedSearchCV\n",
    "\n",
    "\n",
    "model = XGBRegressor()\n",
    "\n",
    "n_estimators = [100,600,1500]\n",
    "max_depth = [2,9,15]\n",
    "booster = ['gbtree']\n",
    "learning_rate = [0.02,0.1,0.2]\n",
    "min_child_weight = [1,3,6]\n",
    "base_score = [0.2,0.6,1]\n",
    "\n",
    "hyperparameter_grid = {\n",
    "    'n_estimators' : n_estimators,\n",
    "    'max_depth' : max_depth,\n",
    "    'learning_rate' : learning_rate,\n",
    "    'min_child_weight':min_child_weight,\n",
    "    'booster': booster,\n",
    "    'base_score': base_score   \n",
    "    \n",
    "}\n",
    "\n",
    "\n",
    "random_cv = RandomizedSearchCV(estimator=model,param_distributions=hyperparameter_grid,\n",
    "                              cv= 5, n_iter = 10,\n",
    "                              scoring = 'neg_root_mean_squared_error',\n",
    "                              n_jobs = 4,\n",
    "                              verbose = 5,\n",
    "                              return_train_score = True,\n",
    "                              random_state= 42)\n",
    "\n",
    "random_cv.fit(X_train,y_train)"
   ]
  },
  {
   "cell_type": "code",
   "execution_count": null,
   "id": "responsible-shelter",
   "metadata": {},
   "outputs": [],
   "source": []
  },
  {
   "cell_type": "code",
   "execution_count": 428,
   "id": "authorized-economy",
   "metadata": {
    "ExecuteTime": {
     "end_time": "2021-03-12T16:11:16.242027Z",
     "start_time": "2021-03-12T16:10:59.106219Z"
    }
   },
   "outputs": [
    {
     "data": {
      "text/plain": [
       "0.9199068262009071"
      ]
     },
     "execution_count": 428,
     "metadata": {},
     "output_type": "execute_result"
    }
   ],
   "source": [
    "model = XGBRegressor(base_score=0.6, booster='gbtree', colsample_bylevel=1,\n",
    "             colsample_bynode=1, colsample_bytree=1, gamma=0, gpu_id=-1,\n",
    "             importance_type='gain', interaction_constraints='',\n",
    "             learning_rate=0.1, max_delta_step=0, max_depth=2,\n",
    "             min_child_weight=3, missing=np.nan, monotone_constraints='()',\n",
    "             n_estimators=600, n_jobs=8, num_parallel_tree=1, random_state=0,\n",
    "             reg_alpha=0, reg_lambda=1, scale_pos_weight=1, subsample=1,\n",
    "             tree_method='exact', validate_parameters=1, verbosity=None)\n",
    "model.fit(X_train, y_train)\n",
    "model.score(X_test,y_test)"
   ]
  },
  {
   "cell_type": "code",
   "execution_count": 429,
   "id": "silent-reduction",
   "metadata": {
    "ExecuteTime": {
     "end_time": "2021-03-12T16:11:16.331163Z",
     "start_time": "2021-03-12T16:11:16.244166Z"
    }
   },
   "outputs": [
    {
     "data": {
      "text/plain": [
       "1108.7558613982421"
      ]
     },
     "execution_count": 429,
     "metadata": {},
     "output_type": "execute_result"
    }
   ],
   "source": [
    "y_pred = model.predict(X_test)\n",
    "\n",
    "np.sqrt(mean_squared_error(y_test,y_pred))"
   ]
  },
  {
   "cell_type": "code",
   "execution_count": 430,
   "id": "laden-horizon",
   "metadata": {
    "ExecuteTime": {
     "end_time": "2021-03-12T16:11:27.651124Z",
     "start_time": "2021-03-12T16:11:16.332745Z"
    }
   },
   "outputs": [],
   "source": [
    "df_pred = model.predict(df_test)\n",
    "#df_pred = np.expm1(df_pred)\n",
    "df_final= pd.DataFrame([pd.read_csv(\"test_8i3B3FC.csv\")['ID'],df_pred])\n",
    "df_final=df_final.T\n",
    "df_final.columns = ['ID','Upvotes']\n",
    "df_final.to_csv('medium_results.csv',index=False)"
   ]
  },
  {
   "cell_type": "code",
   "execution_count": null,
   "id": "finite-ceiling",
   "metadata": {},
   "outputs": [],
   "source": []
  },
  {
   "cell_type": "code",
   "execution_count": null,
   "id": "quiet-singapore",
   "metadata": {},
   "outputs": [],
   "source": []
  }
 ],
 "metadata": {
  "kernelspec": {
   "display_name": "Python 3",
   "language": "python",
   "name": "python3"
  },
  "language_info": {
   "codemirror_mode": {
    "name": "ipython",
    "version": 3
   },
   "file_extension": ".py",
   "mimetype": "text/x-python",
   "name": "python",
   "nbconvert_exporter": "python",
   "pygments_lexer": "ipython3",
   "version": "3.8.5"
  }
 },
 "nbformat": 4,
 "nbformat_minor": 5
}
