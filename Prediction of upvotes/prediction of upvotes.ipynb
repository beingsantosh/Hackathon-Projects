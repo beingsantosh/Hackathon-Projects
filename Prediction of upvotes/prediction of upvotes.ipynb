{
 "cells": [
  {
   "cell_type": "markdown",
   "id": "thousand-amateur",
   "metadata": {},
   "source": [
    "# Index\n",
    "\n",
    "#### 1. EDA ( Exploratory Data Analysis) \n",
    "\n",
    "- [Upvotes](#upvotes)\n",
    "- [Views](#views)\n",
    "- [Username](#username)\n",
    "- [Answers](#answers)\n",
    "- [Reputation](#reputation)\n",
    "- [Tag](#tag)\n",
    "- [ID](#id)\n",
    "\n",
    "#### 2. Feature engineering \n",
    "[Link](#feature)\n",
    "#### 3. Modelling\n",
    "- Without Username feature\n",
    "[Link](#modelling)\n",
    "\n",
    "- MSE score was 1123.1773891912\t\t\t\n",
    "#### 4. with username feature\n",
    "    - [link](#withusername)\n",
    "#### 4. With Hyper parameter tuning \n",
    "    "
   ]
  },
  {
   "cell_type": "markdown",
   "id": "crucial-faculty",
   "metadata": {},
   "source": [
    "## Undertstanding the data ( EDA )"
   ]
  },
  {
   "cell_type": "code",
   "execution_count": 1,
   "id": "compliant-partner",
   "metadata": {
    "ExecuteTime": {
     "end_time": "2021-03-11T09:16:13.629658Z",
     "start_time": "2021-03-11T09:16:11.871919Z"
    }
   },
   "outputs": [],
   "source": [
    "import pandas as pd\n",
    "import numpy as np\n",
    "import matplotlib.pyplot as plt\n",
    "import seaborn as sns\n",
    "from scipy.stats import skew\n",
    "from scipy.stats import kurtosis\n"
   ]
  },
  {
   "cell_type": "code",
   "execution_count": 27,
   "id": "affiliated-melissa",
   "metadata": {
    "ExecuteTime": {
     "end_time": "2021-03-11T09:23:15.026816Z",
     "start_time": "2021-03-11T09:23:14.874907Z"
    }
   },
   "outputs": [],
   "source": [
    "df= pd.read_csv(\"train_NIR5Yl1.csv\")\n"
   ]
  },
  {
   "cell_type": "code",
   "execution_count": null,
   "id": "joint-topic",
   "metadata": {
    "ExecuteTime": {
     "end_time": "2021-03-11T09:20:42.069081Z",
     "start_time": "2021-03-11T09:20:42.046079Z"
    }
   },
   "outputs": [],
   "source": []
  },
  {
   "cell_type": "markdown",
   "id": "transsexual-ability",
   "metadata": {},
   "source": [
    "## Undertstanding the data ( EDA )"
   ]
  },
  {
   "cell_type": "markdown",
   "id": "rough-entrepreneur",
   "metadata": {},
   "source": [
    "-------------------------------------------\n",
    "## Upvotes  <a id = 'upvotes'></a>"
   ]
  },
  {
   "cell_type": "code",
   "execution_count": 8,
   "id": "social-rehabilitation",
   "metadata": {
    "ExecuteTime": {
     "end_time": "2021-03-10T09:42:41.434339Z",
     "start_time": "2021-03-10T09:42:41.141002Z"
    }
   },
   "outputs": [
    {
     "data": {
      "text/plain": [
       "<AxesSubplot:>"
      ]
     },
     "execution_count": 8,
     "metadata": {},
     "output_type": "execute_result"
    },
    {
     "data": {
      "image/png": "[encoded data removed]",
      "text/plain": [
       "<Figure size 432x288 with 1 Axes>"
      ]
     },
     "metadata": {
      "needs_background": "light"
     },
     "output_type": "display_data"
    }
   ],
   "source": [
    "df.boxplot(column='Upvotes')\n",
    "\n",
    "# it seems it has too many values out side the box"
   ]
  },
  {
   "cell_type": "code",
   "execution_count": 10,
   "id": "preliminary-arctic",
   "metadata": {
    "ExecuteTime": {
     "end_time": "2021-03-10T09:44:47.515199Z",
     "start_time": "2021-03-10T09:44:03.370610Z"
    }
   },
   "outputs": [
    {
     "data": {
      "text/plain": [
       "<AxesSubplot:ylabel='Density'>"
      ]
     },
     "execution_count": 10,
     "metadata": {},
     "output_type": "execute_result"
    },
    {
     "data": {
      "image/png": "[encoded data removed]",
      "text/plain": [
       "<Figure size 432x288 with 1 Axes>"
      ]
     },
     "metadata": {
      "needs_background": "light"
     },
     "output_type": "display_data"
    }
   ],
   "source": [
    "# try with kde plot\n",
    "\n",
    "df.Upvotes.plot.kde()"
   ]
  },
  {
   "cell_type": "code",
   "execution_count": 31,
   "id": "similar-influence",
   "metadata": {
    "ExecuteTime": {
     "end_time": "2021-03-10T09:50:28.903075Z",
     "start_time": "2021-03-10T09:50:28.856801Z"
    }
   },
   "outputs": [
    {
     "data": {
      "text/plain": [
       "count    330045.000000\n",
       "mean        337.505358\n",
       "std        3592.441135\n",
       "min           0.000000\n",
       "25%           8.000000\n",
       "50%          28.000000\n",
       "75%         107.000000\n",
       "max      615278.000000\n",
       "Name: Upvotes, dtype: float64"
      ]
     },
     "execution_count": 31,
     "metadata": {},
     "output_type": "execute_result"
    }
   ],
   "source": [
    "df.Upvotes.describe()"
   ]
  },
  {
   "cell_type": "code",
   "execution_count": 18,
   "id": "regional-placement",
   "metadata": {
    "ExecuteTime": {
     "end_time": "2021-03-10T09:46:53.894667Z",
     "start_time": "2021-03-10T09:46:53.876692Z"
    }
   },
   "outputs": [
    {
     "data": {
      "text/plain": [
       "959.0"
      ]
     },
     "execution_count": 18,
     "metadata": {},
     "output_type": "execute_result"
    }
   ],
   "source": [
    "df.Upvotes.quantile(0.95)"
   ]
  },
  {
   "cell_type": "code",
   "execution_count": 30,
   "id": "universal-germany",
   "metadata": {
    "ExecuteTime": {
     "end_time": "2021-03-10T09:50:00.999092Z",
     "start_time": "2021-03-10T09:50:00.984284Z"
    }
   },
   "outputs": [
    {
     "data": {
      "text/plain": [
       "(15919, 7)"
      ]
     },
     "execution_count": 30,
     "metadata": {},
     "output_type": "execute_result"
    }
   ],
   "source": [
    "df[df.Upvotes>1000].shape"
   ]
  },
  {
   "cell_type": "markdown",
   "id": "whole-mouse",
   "metadata": {},
   "source": [
    "##### Key Observations:\n",
    "- Minimum upvotes are 0\n",
    "- Max upvotes are 615278\n",
    "- median is at 28\n",
    "- even 3rd quartile is at 107\n",
    "- only around 5% of whole questions have above 1000 upvotes. "
   ]
  },
  {
   "cell_type": "markdown",
   "id": "meaningful-covering",
   "metadata": {},
   "source": [
    "-----------------------------------"
   ]
  },
  {
   "cell_type": "markdown",
   "id": "unauthorized-warner",
   "metadata": {},
   "source": [
    "## Views <a id = 'views'></a> "
   ]
  },
  {
   "cell_type": "code",
   "execution_count": 35,
   "id": "genetic-visitor",
   "metadata": {
    "ExecuteTime": {
     "end_time": "2021-03-10T10:04:27.276537Z",
     "start_time": "2021-03-10T10:04:10.964335Z"
    }
   },
   "outputs": [
    {
     "data": {
      "text/plain": [
       "<AxesSubplot:ylabel='Density'>"
      ]
     },
     "execution_count": 35,
     "metadata": {},
     "output_type": "execute_result"
    },
    {
     "data": {
      "image/png": "[encoded data removed]",
      "text/plain": [
       "<Figure size 432x288 with 1 Axes>"
      ]
     },
     "metadata": {
      "needs_background": "light"
     },
     "output_type": "display_data"
    }
   ],
   "source": [
    "df.Views.plot.kde()"
   ]
  },
  {
   "cell_type": "code",
   "execution_count": 36,
   "id": "different-damage",
   "metadata": {
    "ExecuteTime": {
     "end_time": "2021-03-10T10:27:21.931293Z",
     "start_time": "2021-03-10T10:27:21.675898Z"
    }
   },
   "outputs": [
    {
     "data": {
      "text/plain": [
       "<AxesSubplot:>"
      ]
     },
     "execution_count": 36,
     "metadata": {},
     "output_type": "execute_result"
    },
    {
     "data": {
      "image/png": "[encoded data removed]",
      "text/plain": [
       "<Figure size 432x288 with 1 Axes>"
      ]
     },
     "metadata": {
      "needs_background": "light"
     },
     "output_type": "display_data"
    }
   ],
   "source": [
    "df.boxplot('Views')"
   ]
  },
  {
   "cell_type": "code",
   "execution_count": 53,
   "id": "closed-squad",
   "metadata": {
    "ExecuteTime": {
     "end_time": "2021-03-10T10:38:48.194306Z",
     "start_time": "2021-03-10T10:38:48.140826Z"
    }
   },
   "outputs": [
    {
     "data": {
      "text/plain": [
       "count    3.300450e+05\n",
       "mean     2.964507e+04\n",
       "std      8.095646e+04\n",
       "min      9.000000e+00\n",
       "25%      2.594000e+03\n",
       "50%      8.954000e+03\n",
       "75%      2.687000e+04\n",
       "max      5.231058e+06\n",
       "Name: Views, dtype: float64"
      ]
     },
     "execution_count": 53,
     "metadata": {},
     "output_type": "execute_result"
    }
   ],
   "source": [
    "df.Views.describe()"
   ]
  },
  {
   "cell_type": "code",
   "execution_count": 54,
   "id": "naval-manitoba",
   "metadata": {
    "ExecuteTime": {
     "end_time": "2021-03-10T10:40:09.794266Z",
     "start_time": "2021-03-10T10:40:09.741459Z"
    }
   },
   "outputs": [
    {
     "name": "stdout",
     "output_type": "stream",
     "text": [
      "24276.0\n",
      "min range of box 63284.0\n",
      "Max range of box -9544.0\n"
     ]
    }
   ],
   "source": [
    "# lets check how many values are out of the 1.5*IQR = 1.5*(Q3-Q1)\n",
    "\n",
    "iqr = (df.Views.quantile(.75) - df.Views.quantile(.25)) \n",
    "print(iqr)\n",
    "\n",
    "maxrange = df.Views.quantile(.75) + 1.5*iqr\n",
    "minrange = df.Views.quantile(.75) - 1.5*iqr\n",
    "print('min range of box',maxrange)\n",
    "print('Max range of box',minrange)\n"
   ]
  },
  {
   "cell_type": "code",
   "execution_count": 59,
   "id": "immediate-pressing",
   "metadata": {
    "ExecuteTime": {
     "end_time": "2021-03-10T10:41:10.176017Z",
     "start_time": "2021-03-10T10:41:10.160448Z"
    }
   },
   "outputs": [
    {
     "data": {
      "text/plain": [
       "(35961, 7)"
      ]
     },
     "execution_count": 59,
     "metadata": {},
     "output_type": "execute_result"
    }
   ],
   "source": [
    "# outliers detection\n",
    "\n",
    "df[(df.Views>maxrange) | (df.Views<minrange)].shape"
   ]
  },
  {
   "cell_type": "markdown",
   "id": "russian-selling",
   "metadata": {},
   "source": [
    "###### There are 35961 entries in data which are outside the box and can be considered as outliers. \n",
    "###### However this scenario needs these values, will discuss later. So we are not getting rid of these values. "
   ]
  },
  {
   "cell_type": "code",
   "execution_count": 100,
   "id": "excessive-milwaukee",
   "metadata": {
    "ExecuteTime": {
     "end_time": "2021-03-10T12:23:36.814577Z",
     "start_time": "2021-03-10T12:23:36.326656Z"
    }
   },
   "outputs": [
    {
     "name": "stderr",
     "output_type": "stream",
     "text": [
      "E:\\SoftwareBinaries\\miniconda\\envs\\test_env\\lib\\site-packages\\seaborn\\_decorators.py:36: FutureWarning: Pass the following variables as keyword args: x, y. From version 0.12, the only valid positional argument will be `data`, and passing other arguments without an explicit keyword will result in an error or misinterpretation.\n",
      "  warnings.warn(\n"
     ]
    },
    {
     "data": {
      "text/plain": [
       "<AxesSubplot:xlabel='Views', ylabel='Upvotes'>"
      ]
     },
     "execution_count": 100,
     "metadata": {},
     "output_type": "execute_result"
    },
    {
     "data": {
      "image/png": "[encoded data removed]",
      "text/plain": [
       "<Figure size 432x288 with 1 Axes>"
      ]
     },
     "metadata": {
      "needs_background": "light"
     },
     "output_type": "display_data"
    }
   ],
   "source": [
    "# Comparing views with upvotes\n",
    "\n",
    "sns.scatterplot(df.Views, df.Upvotes)"
   ]
  },
  {
   "cell_type": "markdown",
   "id": "christian-nebraska",
   "metadata": {},
   "source": [
    "#### Views increase more rapdly as compared to Upvotes"
   ]
  },
  {
   "cell_type": "code",
   "execution_count": null,
   "id": "statewide-rider",
   "metadata": {},
   "outputs": [],
   "source": []
  },
  {
   "cell_type": "markdown",
   "id": "excited-education",
   "metadata": {},
   "source": [
    "-----------------------------------------\n",
    "## Username <a id = 'username'></a>"
   ]
  },
  {
   "cell_type": "markdown",
   "id": "hollywood-spiritual",
   "metadata": {
    "ExecuteTime": {
     "end_time": "2021-03-10T10:49:24.380247Z",
     "start_time": "2021-03-10T10:49:24.341999Z"
    }
   },
   "source": [
    "As name suggests, it looks like a categorical variable. Kind of user id, unique for each user.\n",
    "From this column, we can find out the how active the user is. How many questions user has raised."
   ]
  },
  {
   "cell_type": "code",
   "execution_count": 65,
   "id": "collaborative-throw",
   "metadata": {
    "ExecuteTime": {
     "end_time": "2021-03-10T10:51:51.261033Z",
     "start_time": "2021-03-10T10:51:51.210609Z"
    }
   },
   "outputs": [
    {
     "data": {
      "text/plain": [
       "4118     797\n",
       "17878    608\n",
       "45704    483\n",
       "23223    413\n",
       "6697     408\n",
       "        ... \n",
       "33671      1\n",
       "64392      1\n",
       "62345      1\n",
       "60298      1\n",
       "0          1\n",
       "Name: Username, Length: 141802, dtype: int64"
      ]
     },
     "execution_count": 65,
     "metadata": {},
     "output_type": "execute_result"
    }
   ],
   "source": [
    "df.Username.value_counts()"
   ]
  },
  {
   "cell_type": "markdown",
   "id": "quantitative-disposal",
   "metadata": {},
   "source": [
    "- user#4118 has raised questions 797 times\n",
    "- user#60298 has raised questions 1 time only\n",
    "\n",
    "This information would be useful in modelling to calculate the upvote count"
   ]
  },
  {
   "cell_type": "code",
   "execution_count": 113,
   "id": "activated-paradise",
   "metadata": {
    "ExecuteTime": {
     "end_time": "2021-03-10T20:37:39.343680Z",
     "start_time": "2021-03-10T20:37:38.389607Z"
    }
   },
   "outputs": [
    {
     "data": {
      "text/plain": [
       "<AxesSubplot:xlabel='count', ylabel='mean'>"
      ]
     },
     "execution_count": 113,
     "metadata": {},
     "output_type": "execute_result"
    },
    {
     "data": {
      "image/png": "[encoded data removed]",
      "text/plain": [
       "<Figure size 432x288 with 1 Axes>"
      ]
     },
     "metadata": {
      "needs_background": "light"
     },
     "output_type": "display_data"
    }
   ],
   "source": [
    "df.groupby('Username').Upvotes.agg(['count','mean']).sort_values(by='count', ascending= False).plot.scatter('count','mean')"
   ]
  },
  {
   "cell_type": "markdown",
   "id": "solid-delaware",
   "metadata": {},
   "source": [
    "##### User who has raised questions around 800 times, he also have less average views."
   ]
  },
  {
   "cell_type": "code",
   "execution_count": null,
   "id": "fatal-marriage",
   "metadata": {},
   "outputs": [],
   "source": []
  },
  {
   "cell_type": "markdown",
   "id": "wrong-closer",
   "metadata": {
    "ExecuteTime": {
     "end_time": "2021-03-10T11:14:11.675781Z",
     "start_time": "2021-03-10T11:14:11.644055Z"
    }
   },
   "source": [
    "-----------------------\n",
    "## Answers <a id = 'answers'>"
   ]
  },
  {
   "cell_type": "code",
   "execution_count": 71,
   "id": "american-confidence",
   "metadata": {
    "ExecuteTime": {
     "end_time": "2021-03-10T11:16:16.912319Z",
     "start_time": "2021-03-10T11:16:01.521290Z"
    }
   },
   "outputs": [
    {
     "data": {
      "text/plain": [
       "<AxesSubplot:ylabel='Density'>"
      ]
     },
     "execution_count": 71,
     "metadata": {},
     "output_type": "execute_result"
    },
    {
     "data": {
      "image/png": "[encoded data removed]",
      "text/plain": [
       "<Figure size 432x288 with 1 Axes>"
      ]
     },
     "metadata": {
      "needs_background": "light"
     },
     "output_type": "display_data"
    }
   ],
   "source": [
    "df.Answers.plot.kde()"
   ]
  },
  {
   "cell_type": "code",
   "execution_count": 72,
   "id": "utility-insulin",
   "metadata": {
    "ExecuteTime": {
     "end_time": "2021-03-10T11:17:14.238003Z",
     "start_time": "2021-03-10T11:17:14.190667Z"
    }
   },
   "outputs": [
    {
     "data": {
      "text/plain": [
       "count    330045.000000\n",
       "mean          3.917672\n",
       "std           3.579515\n",
       "min           0.000000\n",
       "25%           2.000000\n",
       "50%           3.000000\n",
       "75%           5.000000\n",
       "max          76.000000\n",
       "Name: Answers, dtype: float64"
      ]
     },
     "execution_count": 72,
     "metadata": {},
     "output_type": "execute_result"
    }
   ],
   "source": [
    "df.Answers.describe()"
   ]
  },
  {
   "cell_type": "code",
   "execution_count": 114,
   "id": "disturbed-plain",
   "metadata": {
    "ExecuteTime": {
     "end_time": "2021-03-10T20:39:57.975654Z",
     "start_time": "2021-03-10T20:39:57.936399Z"
    }
   },
   "outputs": [
    {
     "data": {
      "text/plain": [
       "0    2.0\n",
       "dtype: float64"
      ]
     },
     "execution_count": 114,
     "metadata": {},
     "output_type": "execute_result"
    }
   ],
   "source": [
    "df.Answers.mode()"
   ]
  },
  {
   "cell_type": "code",
   "execution_count": 115,
   "id": "filled-subject",
   "metadata": {
    "ExecuteTime": {
     "end_time": "2021-03-10T20:40:41.302676Z",
     "start_time": "2021-03-10T20:40:39.474810Z"
    }
   },
   "outputs": [
    {
     "name": "stderr",
     "output_type": "stream",
     "text": [
      "E:\\SoftwareBinaries\\miniconda\\envs\\test_env\\lib\\site-packages\\seaborn\\_decorators.py:36: FutureWarning: Pass the following variables as keyword args: x, y. From version 0.12, the only valid positional argument will be `data`, and passing other arguments without an explicit keyword will result in an error or misinterpretation.\n",
      "  warnings.warn(\n"
     ]
    },
    {
     "data": {
      "text/plain": [
       "<AxesSubplot:xlabel='Answers', ylabel='Upvotes'>"
      ]
     },
     "execution_count": 115,
     "metadata": {},
     "output_type": "execute_result"
    },
    {
     "data": {
      "image/png": "[encoded data removed]",
      "text/plain": [
       "<Figure size 432x288 with 1 Axes>"
      ]
     },
     "metadata": {
      "needs_background": "light"
     },
     "output_type": "display_data"
    }
   ],
   "source": [
    "sns.scatterplot(df.Answers, df.Upvotes)"
   ]
  },
  {
   "cell_type": "code",
   "execution_count": null,
   "id": "selected-elephant",
   "metadata": {},
   "outputs": [],
   "source": []
  },
  {
   "cell_type": "code",
   "execution_count": null,
   "id": "constant-compensation",
   "metadata": {},
   "outputs": [],
   "source": []
  },
  {
   "cell_type": "code",
   "execution_count": null,
   "id": "floral-message",
   "metadata": {},
   "outputs": [],
   "source": []
  },
  {
   "cell_type": "code",
   "execution_count": null,
   "id": "manual-mainland",
   "metadata": {},
   "outputs": [],
   "source": []
  },
  {
   "cell_type": "markdown",
   "id": "unexpected-mining",
   "metadata": {},
   "source": [
    "-----------------\n",
    "## Reputation <a id = 'reputation'>"
   ]
  },
  {
   "cell_type": "code",
   "execution_count": 76,
   "id": "above-three",
   "metadata": {
    "ExecuteTime": {
     "end_time": "2021-03-10T11:25:44.672216Z",
     "start_time": "2021-03-10T11:25:27.159379Z"
    }
   },
   "outputs": [
    {
     "data": {
      "text/plain": [
       "<AxesSubplot:ylabel='Density'>"
      ]
     },
     "execution_count": 76,
     "metadata": {},
     "output_type": "execute_result"
    },
    {
     "data": {
      "image/png": "[encoded data removed]",
      "text/plain": [
       "<Figure size 432x288 with 1 Axes>"
      ]
     },
     "metadata": {
      "needs_background": "light"
     },
     "output_type": "display_data"
    }
   ],
   "source": [
    "df.Reputation.plot.kde()"
   ]
  },
  {
   "cell_type": "code",
   "execution_count": 79,
   "id": "light-groove",
   "metadata": {
    "ExecuteTime": {
     "end_time": "2021-03-10T11:26:18.473366Z",
     "start_time": "2021-03-10T11:26:18.291856Z"
    }
   },
   "outputs": [
    {
     "data": {
      "text/plain": [
       "count    330045.000000\n",
       "mean          7.773147\n",
       "std          27.061413\n",
       "min           0.000000\n",
       "25%           0.282000\n",
       "50%           1.236000\n",
       "75%           5.118000\n",
       "max        1042.428000\n",
       "Name: Reputation, dtype: float64"
      ]
     },
     "execution_count": 79,
     "metadata": {},
     "output_type": "execute_result"
    }
   ],
   "source": [
    "df.Reputation.apply(lambda x : x/1000).describe()"
   ]
  },
  {
   "cell_type": "code",
   "execution_count": 116,
   "id": "compliant-wichita",
   "metadata": {
    "ExecuteTime": {
     "end_time": "2021-03-10T20:42:17.793128Z",
     "start_time": "2021-03-10T20:42:16.142758Z"
    }
   },
   "outputs": [
    {
     "name": "stderr",
     "output_type": "stream",
     "text": [
      "E:\\SoftwareBinaries\\miniconda\\envs\\test_env\\lib\\site-packages\\seaborn\\_decorators.py:36: FutureWarning: Pass the following variables as keyword args: x, y. From version 0.12, the only valid positional argument will be `data`, and passing other arguments without an explicit keyword will result in an error or misinterpretation.\n",
      "  warnings.warn(\n"
     ]
    },
    {
     "data": {
      "text/plain": [
       "<AxesSubplot:xlabel='Reputation', ylabel='Upvotes'>"
      ]
     },
     "execution_count": 116,
     "metadata": {},
     "output_type": "execute_result"
    },
    {
     "data": {
      "image/png": "[encoded data removed]",
      "text/plain": [
       "<Figure size 432x288 with 1 Axes>"
      ]
     },
     "metadata": {
      "needs_background": "light"
     },
     "output_type": "display_data"
    }
   ],
   "source": [
    "sns.scatterplot(df.Reputation, df.Upvotes)"
   ]
  },
  {
   "cell_type": "code",
   "execution_count": 127,
   "id": "ongoing-mandate",
   "metadata": {
    "ExecuteTime": {
     "end_time": "2021-03-10T20:52:25.480148Z",
     "start_time": "2021-03-10T20:52:25.047145Z"
    }
   },
   "outputs": [
    {
     "data": {
      "text/plain": [
       "<AxesSubplot:xlabel='Reputation', ylabel='Upvotes'>"
      ]
     },
     "execution_count": 127,
     "metadata": {},
     "output_type": "execute_result"
    },
    {
     "data": {
      "image/png": "[encoded data removed]",
      "text/plain": [
       "<Figure size 432x288 with 1 Axes>"
      ]
     },
     "metadata": {
      "needs_background": "light"
     },
     "output_type": "display_data"
    }
   ],
   "source": [
    "df[df.Username==4118].plot.scatter('Reputation','Upvotes')"
   ]
  },
  {
   "cell_type": "markdown",
   "id": "circular-position",
   "metadata": {},
   "source": [
    "##### As reputation increases , chances of getting upvotes also increases\n",
    "##### Checked on total data and for single user also."
   ]
  },
  {
   "cell_type": "code",
   "execution_count": null,
   "id": "vanilla-satin",
   "metadata": {},
   "outputs": [],
   "source": []
  },
  {
   "cell_type": "markdown",
   "id": "pretty-interference",
   "metadata": {},
   "source": [
    "-----------------------------\n",
    "## Tags  <a id = 'tag'>"
   ]
  },
  {
   "cell_type": "code",
   "execution_count": 90,
   "id": "collaborative-blowing",
   "metadata": {
    "ExecuteTime": {
     "end_time": "2021-03-10T11:33:32.132510Z",
     "start_time": "2021-03-10T11:33:32.089189Z"
    }
   },
   "outputs": [
    {
     "data": {
      "text/plain": [
       "array(['a', 'c', 'r', 'j', 'p', 's', 'h', 'o', 'i', 'x'], dtype=object)"
      ]
     },
     "execution_count": 90,
     "metadata": {},
     "output_type": "execute_result"
    }
   ],
   "source": [
    "df.Tag.unique()"
   ]
  },
  {
   "cell_type": "code",
   "execution_count": 91,
   "id": "balanced-internet",
   "metadata": {
    "ExecuteTime": {
     "end_time": "2021-03-10T11:33:52.265356Z",
     "start_time": "2021-03-10T11:33:52.209069Z"
    }
   },
   "outputs": [
    {
     "data": {
      "text/plain": [
       "c    72458\n",
       "j    72232\n",
       "p    43407\n",
       "i    32400\n",
       "a    31695\n",
       "s    23323\n",
       "h    20564\n",
       "o    14546\n",
       "r    12442\n",
       "x     6978\n",
       "Name: Tag, dtype: int64"
      ]
     },
     "execution_count": 91,
     "metadata": {},
     "output_type": "execute_result"
    }
   ],
   "source": [
    "df.Tag.value_counts()"
   ]
  },
  {
   "cell_type": "code",
   "execution_count": 93,
   "id": "million-romance",
   "metadata": {
    "ExecuteTime": {
     "end_time": "2021-03-10T11:34:11.966924Z",
     "start_time": "2021-03-10T11:34:11.590646Z"
    }
   },
   "outputs": [
    {
     "data": {
      "text/plain": [
       "<AxesSubplot:>"
      ]
     },
     "execution_count": 93,
     "metadata": {},
     "output_type": "execute_result"
    },
    {
     "data": {
      "image/png": "[encoded data removed]",
      "text/plain": [
       "<Figure size 432x288 with 1 Axes>"
      ]
     },
     "metadata": {
      "needs_background": "light"
     },
     "output_type": "display_data"
    }
   ],
   "source": [
    "df.Tag.hist()"
   ]
  },
  {
   "cell_type": "code",
   "execution_count": 141,
   "id": "bibliographic-fellow",
   "metadata": {
    "ExecuteTime": {
     "end_time": "2021-03-10T20:58:38.341520Z",
     "start_time": "2021-03-10T20:58:37.545255Z"
    }
   },
   "outputs": [
    {
     "data": {
      "text/plain": [
       "array([<AxesSubplot:title={'center':'count'}, xlabel='Tag'>,\n",
       "       <AxesSubplot:title={'center':'mean'}, xlabel='Tag'>], dtype=object)"
      ]
     },
     "execution_count": 141,
     "metadata": {},
     "output_type": "execute_result"
    },
    {
     "data": {
      "image/png": "[encoded data removed]",
      "text/plain": [
       "<Figure size 432x288 with 2 Axes>"
      ]
     },
     "metadata": {
      "needs_background": "light"
     },
     "output_type": "display_data"
    }
   ],
   "source": [
    "df.groupby('Tag').Upvotes.agg(['count','mean']).plot.bar(subplots= True)"
   ]
  },
  {
   "cell_type": "markdown",
   "id": "selective-ownership",
   "metadata": {},
   "source": [
    "##### General trend is 'more count for specific tag means more upvotes for same tag'.\n",
    "##### Only h and c has different results. "
   ]
  },
  {
   "cell_type": "code",
   "execution_count": null,
   "id": "floral-stream",
   "metadata": {},
   "outputs": [],
   "source": []
  },
  {
   "cell_type": "markdown",
   "id": "attempted-proxy",
   "metadata": {
    "ExecuteTime": {
     "end_time": "2021-03-10T11:36:15.948333Z",
     "start_time": "2021-03-10T11:36:15.914287Z"
    }
   },
   "source": [
    "------------------\n",
    "## ID  <a id = 'id'>"
   ]
  },
  {
   "cell_type": "code",
   "execution_count": 98,
   "id": "rubber-argument",
   "metadata": {
    "ExecuteTime": {
     "end_time": "2021-03-10T11:37:11.561598Z",
     "start_time": "2021-03-10T11:37:11.529458Z"
    }
   },
   "outputs": [
    {
     "data": {
      "text/plain": [
       "(330045, (330045, 7))"
      ]
     },
     "execution_count": 98,
     "metadata": {},
     "output_type": "execute_result"
    }
   ],
   "source": [
    "df.ID.nunique() , df.shape"
   ]
  },
  {
   "cell_type": "markdown",
   "id": "assumed-gardening",
   "metadata": {},
   "source": [
    "###### All are unique, ID would not bring any value to the model. so can be removed easily."
   ]
  },
  {
   "cell_type": "code",
   "execution_count": null,
   "id": "expressed-worthy",
   "metadata": {
    "ExecuteTime": {
     "end_time": "2021-03-10T11:37:49.181484Z",
     "start_time": "2021-03-10T11:37:49.161288Z"
    }
   },
   "outputs": [],
   "source": []
  },
  {
   "cell_type": "markdown",
   "id": "accompanied-gazette",
   "metadata": {},
   "source": [
    "-------------------------------------\n",
    "## Feature engineering <a id = 'feature'>"
   ]
  },
  {
   "cell_type": "markdown",
   "id": "multiple-recycling",
   "metadata": {},
   "source": [
    "##### Before going ahead , lets merge the test and train data for all same update in both"
   ]
  },
  {
   "cell_type": "code",
   "execution_count": 28,
   "id": "current-sleeping",
   "metadata": {
    "ExecuteTime": {
     "end_time": "2021-03-11T09:23:29.282482Z",
     "start_time": "2021-03-11T09:23:29.075202Z"
    }
   },
   "outputs": [],
   "source": [
    "df_train = pd.read_csv(\"train_NIR5Yl1.csv\")\n",
    "df_test = pd.read_csv(\"test_8i3B3FC.csv\")"
   ]
  },
  {
   "cell_type": "code",
   "execution_count": 29,
   "id": "worse-myrtle",
   "metadata": {
    "ExecuteTime": {
     "end_time": "2021-03-11T09:23:31.182784Z",
     "start_time": "2021-03-11T09:23:31.169789Z"
    }
   },
   "outputs": [
    {
     "data": {
      "text/plain": [
       "((330045, 7), (141448, 6))"
      ]
     },
     "execution_count": 29,
     "metadata": {},
     "output_type": "execute_result"
    }
   ],
   "source": [
    "df_train.shape, df_test.shape"
   ]
  },
  {
   "cell_type": "code",
   "execution_count": 30,
   "id": "labeled-identity",
   "metadata": {
    "ExecuteTime": {
     "end_time": "2021-03-11T09:23:31.988187Z",
     "start_time": "2021-03-11T09:23:31.980226Z"
    }
   },
   "outputs": [],
   "source": [
    "df_train['type']='Train'\n",
    "df_test['type']='Test'"
   ]
  },
  {
   "cell_type": "code",
   "execution_count": 31,
   "id": "composed-latest",
   "metadata": {
    "ExecuteTime": {
     "end_time": "2021-03-11T09:23:32.659337Z",
     "start_time": "2021-03-11T09:23:32.605270Z"
    }
   },
   "outputs": [],
   "source": [
    "df = pd.concat([df_train,df_test])"
   ]
  },
  {
   "cell_type": "code",
   "execution_count": 32,
   "id": "beginning-horizon",
   "metadata": {
    "ExecuteTime": {
     "end_time": "2021-03-11T09:23:34.177647Z",
     "start_time": "2021-03-11T09:23:34.172611Z"
    }
   },
   "outputs": [],
   "source": [
    "# Removing ID feature "
   ]
  },
  {
   "cell_type": "code",
   "execution_count": 33,
   "id": "adequate-salvation",
   "metadata": {
    "ExecuteTime": {
     "end_time": "2021-03-11T09:23:36.653580Z",
     "start_time": "2021-03-11T09:23:36.603228Z"
    }
   },
   "outputs": [],
   "source": [
    "df.drop(columns='ID', inplace=True)"
   ]
  },
  {
   "cell_type": "code",
   "execution_count": 34,
   "id": "creative-mission",
   "metadata": {
    "ExecuteTime": {
     "end_time": "2021-03-11T09:23:38.017153Z",
     "start_time": "2021-03-11T09:23:37.993151Z"
    }
   },
   "outputs": [
    {
     "data": {
      "text/html": [
       "<div>\n",
       "<style scoped>\n",
       "    .dataframe tbody tr th:only-of-type {\n",
       "        vertical-align: middle;\n",
       "    }\n",
       "\n",
       "    .dataframe tbody tr th {\n",
       "        vertical-align: top;\n",
       "    }\n",
       "\n",
       "    .dataframe thead th {\n",
       "        text-align: right;\n",
       "    }\n",
       "</style>\n",
       "<table border=\"1\" class=\"dataframe\">\n",
       "  <thead>\n",
       "    <tr style=\"text-align: right;\">\n",
       "      <th></th>\n",
       "      <th>Tag</th>\n",
       "      <th>Reputation</th>\n",
       "      <th>Answers</th>\n",
       "      <th>Username</th>\n",
       "      <th>Views</th>\n",
       "      <th>Upvotes</th>\n",
       "      <th>type</th>\n",
       "    </tr>\n",
       "  </thead>\n",
       "  <tbody>\n",
       "    <tr>\n",
       "      <th>0</th>\n",
       "      <td>a</td>\n",
       "      <td>3942.0</td>\n",
       "      <td>2.0</td>\n",
       "      <td>155623</td>\n",
       "      <td>7855.0</td>\n",
       "      <td>42.0</td>\n",
       "      <td>Train</td>\n",
       "    </tr>\n",
       "    <tr>\n",
       "      <th>1</th>\n",
       "      <td>a</td>\n",
       "      <td>26046.0</td>\n",
       "      <td>12.0</td>\n",
       "      <td>21781</td>\n",
       "      <td>55801.0</td>\n",
       "      <td>1175.0</td>\n",
       "      <td>Train</td>\n",
       "    </tr>\n",
       "    <tr>\n",
       "      <th>2</th>\n",
       "      <td>c</td>\n",
       "      <td>1358.0</td>\n",
       "      <td>4.0</td>\n",
       "      <td>56177</td>\n",
       "      <td>8067.0</td>\n",
       "      <td>60.0</td>\n",
       "      <td>Train</td>\n",
       "    </tr>\n",
       "    <tr>\n",
       "      <th>3</th>\n",
       "      <td>a</td>\n",
       "      <td>264.0</td>\n",
       "      <td>3.0</td>\n",
       "      <td>168793</td>\n",
       "      <td>27064.0</td>\n",
       "      <td>9.0</td>\n",
       "      <td>Train</td>\n",
       "    </tr>\n",
       "    <tr>\n",
       "      <th>4</th>\n",
       "      <td>c</td>\n",
       "      <td>4271.0</td>\n",
       "      <td>4.0</td>\n",
       "      <td>112223</td>\n",
       "      <td>13986.0</td>\n",
       "      <td>83.0</td>\n",
       "      <td>Train</td>\n",
       "    </tr>\n",
       "    <tr>\n",
       "      <th>...</th>\n",
       "      <td>...</td>\n",
       "      <td>...</td>\n",
       "      <td>...</td>\n",
       "      <td>...</td>\n",
       "      <td>...</td>\n",
       "      <td>...</td>\n",
       "      <td>...</td>\n",
       "    </tr>\n",
       "    <tr>\n",
       "      <th>141443</th>\n",
       "      <td>j</td>\n",
       "      <td>4681.0</td>\n",
       "      <td>4.0</td>\n",
       "      <td>152060</td>\n",
       "      <td>2469.0</td>\n",
       "      <td>NaN</td>\n",
       "      <td>Test</td>\n",
       "    </tr>\n",
       "    <tr>\n",
       "      <th>141444</th>\n",
       "      <td>j</td>\n",
       "      <td>7782.0</td>\n",
       "      <td>3.0</td>\n",
       "      <td>89235</td>\n",
       "      <td>18998.0</td>\n",
       "      <td>NaN</td>\n",
       "      <td>Test</td>\n",
       "    </tr>\n",
       "    <tr>\n",
       "      <th>141445</th>\n",
       "      <td>p</td>\n",
       "      <td>435.0</td>\n",
       "      <td>5.0</td>\n",
       "      <td>119788</td>\n",
       "      <td>57048.0</td>\n",
       "      <td>NaN</td>\n",
       "      <td>Test</td>\n",
       "    </tr>\n",
       "    <tr>\n",
       "      <th>141446</th>\n",
       "      <td>o</td>\n",
       "      <td>176.0</td>\n",
       "      <td>3.0</td>\n",
       "      <td>86824</td>\n",
       "      <td>10193.0</td>\n",
       "      <td>NaN</td>\n",
       "      <td>Test</td>\n",
       "    </tr>\n",
       "    <tr>\n",
       "      <th>141447</th>\n",
       "      <td>a</td>\n",
       "      <td>648.0</td>\n",
       "      <td>2.0</td>\n",
       "      <td>102240</td>\n",
       "      <td>12785.0</td>\n",
       "      <td>NaN</td>\n",
       "      <td>Test</td>\n",
       "    </tr>\n",
       "  </tbody>\n",
       "</table>\n",
       "<p>471493 rows × 7 columns</p>\n",
       "</div>"
      ],
      "text/plain": [
       "       Tag  Reputation  Answers  Username    Views  Upvotes   type\n",
       "0        a      3942.0      2.0    155623   7855.0     42.0  Train\n",
       "1        a     26046.0     12.0     21781  55801.0   1175.0  Train\n",
       "2        c      1358.0      4.0     56177   8067.0     60.0  Train\n",
       "3        a       264.0      3.0    168793  27064.0      9.0  Train\n",
       "4        c      4271.0      4.0    112223  13986.0     83.0  Train\n",
       "...     ..         ...      ...       ...      ...      ...    ...\n",
       "141443   j      4681.0      4.0    152060   2469.0      NaN   Test\n",
       "141444   j      7782.0      3.0     89235  18998.0      NaN   Test\n",
       "141445   p       435.0      5.0    119788  57048.0      NaN   Test\n",
       "141446   o       176.0      3.0     86824  10193.0      NaN   Test\n",
       "141447   a       648.0      2.0    102240  12785.0      NaN   Test\n",
       "\n",
       "[471493 rows x 7 columns]"
      ]
     },
     "execution_count": 34,
     "metadata": {},
     "output_type": "execute_result"
    }
   ],
   "source": [
    "df"
   ]
  },
  {
   "cell_type": "code",
   "execution_count": 35,
   "id": "pressed-carolina",
   "metadata": {
    "ExecuteTime": {
     "end_time": "2021-03-11T09:24:02.849404Z",
     "start_time": "2021-03-11T09:24:02.782234Z"
    }
   },
   "outputs": [],
   "source": [
    "df = pd.get_dummies(df, columns=['Tag'], drop_first=True)"
   ]
  },
  {
   "cell_type": "code",
   "execution_count": 36,
   "id": "twenty-bhutan",
   "metadata": {
    "ExecuteTime": {
     "end_time": "2021-03-11T09:24:07.644206Z",
     "start_time": "2021-03-11T09:24:07.624243Z"
    }
   },
   "outputs": [
    {
     "data": {
      "text/html": [
       "<div>\n",
       "<style scoped>\n",
       "    .dataframe tbody tr th:only-of-type {\n",
       "        vertical-align: middle;\n",
       "    }\n",
       "\n",
       "    .dataframe tbody tr th {\n",
       "        vertical-align: top;\n",
       "    }\n",
       "\n",
       "    .dataframe thead th {\n",
       "        text-align: right;\n",
       "    }\n",
       "</style>\n",
       "<table border=\"1\" class=\"dataframe\">\n",
       "  <thead>\n",
       "    <tr style=\"text-align: right;\">\n",
       "      <th></th>\n",
       "      <th>Reputation</th>\n",
       "      <th>Answers</th>\n",
       "      <th>Username</th>\n",
       "      <th>Views</th>\n",
       "      <th>Upvotes</th>\n",
       "      <th>type</th>\n",
       "      <th>Tag_c</th>\n",
       "      <th>Tag_h</th>\n",
       "      <th>Tag_i</th>\n",
       "      <th>Tag_j</th>\n",
       "      <th>Tag_o</th>\n",
       "      <th>Tag_p</th>\n",
       "      <th>Tag_r</th>\n",
       "      <th>Tag_s</th>\n",
       "      <th>Tag_x</th>\n",
       "    </tr>\n",
       "  </thead>\n",
       "  <tbody>\n",
       "    <tr>\n",
       "      <th>0</th>\n",
       "      <td>3942.0</td>\n",
       "      <td>2.0</td>\n",
       "      <td>155623</td>\n",
       "      <td>7855.0</td>\n",
       "      <td>42.0</td>\n",
       "      <td>Train</td>\n",
       "      <td>0</td>\n",
       "      <td>0</td>\n",
       "      <td>0</td>\n",
       "      <td>0</td>\n",
       "      <td>0</td>\n",
       "      <td>0</td>\n",
       "      <td>0</td>\n",
       "      <td>0</td>\n",
       "      <td>0</td>\n",
       "    </tr>\n",
       "    <tr>\n",
       "      <th>1</th>\n",
       "      <td>26046.0</td>\n",
       "      <td>12.0</td>\n",
       "      <td>21781</td>\n",
       "      <td>55801.0</td>\n",
       "      <td>1175.0</td>\n",
       "      <td>Train</td>\n",
       "      <td>0</td>\n",
       "      <td>0</td>\n",
       "      <td>0</td>\n",
       "      <td>0</td>\n",
       "      <td>0</td>\n",
       "      <td>0</td>\n",
       "      <td>0</td>\n",
       "      <td>0</td>\n",
       "      <td>0</td>\n",
       "    </tr>\n",
       "    <tr>\n",
       "      <th>2</th>\n",
       "      <td>1358.0</td>\n",
       "      <td>4.0</td>\n",
       "      <td>56177</td>\n",
       "      <td>8067.0</td>\n",
       "      <td>60.0</td>\n",
       "      <td>Train</td>\n",
       "      <td>1</td>\n",
       "      <td>0</td>\n",
       "      <td>0</td>\n",
       "      <td>0</td>\n",
       "      <td>0</td>\n",
       "      <td>0</td>\n",
       "      <td>0</td>\n",
       "      <td>0</td>\n",
       "      <td>0</td>\n",
       "    </tr>\n",
       "    <tr>\n",
       "      <th>3</th>\n",
       "      <td>264.0</td>\n",
       "      <td>3.0</td>\n",
       "      <td>168793</td>\n",
       "      <td>27064.0</td>\n",
       "      <td>9.0</td>\n",
       "      <td>Train</td>\n",
       "      <td>0</td>\n",
       "      <td>0</td>\n",
       "      <td>0</td>\n",
       "      <td>0</td>\n",
       "      <td>0</td>\n",
       "      <td>0</td>\n",
       "      <td>0</td>\n",
       "      <td>0</td>\n",
       "      <td>0</td>\n",
       "    </tr>\n",
       "    <tr>\n",
       "      <th>4</th>\n",
       "      <td>4271.0</td>\n",
       "      <td>4.0</td>\n",
       "      <td>112223</td>\n",
       "      <td>13986.0</td>\n",
       "      <td>83.0</td>\n",
       "      <td>Train</td>\n",
       "      <td>1</td>\n",
       "      <td>0</td>\n",
       "      <td>0</td>\n",
       "      <td>0</td>\n",
       "      <td>0</td>\n",
       "      <td>0</td>\n",
       "      <td>0</td>\n",
       "      <td>0</td>\n",
       "      <td>0</td>\n",
       "    </tr>\n",
       "    <tr>\n",
       "      <th>...</th>\n",
       "      <td>...</td>\n",
       "      <td>...</td>\n",
       "      <td>...</td>\n",
       "      <td>...</td>\n",
       "      <td>...</td>\n",
       "      <td>...</td>\n",
       "      <td>...</td>\n",
       "      <td>...</td>\n",
       "      <td>...</td>\n",
       "      <td>...</td>\n",
       "      <td>...</td>\n",
       "      <td>...</td>\n",
       "      <td>...</td>\n",
       "      <td>...</td>\n",
       "      <td>...</td>\n",
       "    </tr>\n",
       "    <tr>\n",
       "      <th>141443</th>\n",
       "      <td>4681.0</td>\n",
       "      <td>4.0</td>\n",
       "      <td>152060</td>\n",
       "      <td>2469.0</td>\n",
       "      <td>NaN</td>\n",
       "      <td>Test</td>\n",
       "      <td>0</td>\n",
       "      <td>0</td>\n",
       "      <td>0</td>\n",
       "      <td>1</td>\n",
       "      <td>0</td>\n",
       "      <td>0</td>\n",
       "      <td>0</td>\n",
       "      <td>0</td>\n",
       "      <td>0</td>\n",
       "    </tr>\n",
       "    <tr>\n",
       "      <th>141444</th>\n",
       "      <td>7782.0</td>\n",
       "      <td>3.0</td>\n",
       "      <td>89235</td>\n",
       "      <td>18998.0</td>\n",
       "      <td>NaN</td>\n",
       "      <td>Test</td>\n",
       "      <td>0</td>\n",
       "      <td>0</td>\n",
       "      <td>0</td>\n",
       "      <td>1</td>\n",
       "      <td>0</td>\n",
       "      <td>0</td>\n",
       "      <td>0</td>\n",
       "      <td>0</td>\n",
       "      <td>0</td>\n",
       "    </tr>\n",
       "    <tr>\n",
       "      <th>141445</th>\n",
       "      <td>435.0</td>\n",
       "      <td>5.0</td>\n",
       "      <td>119788</td>\n",
       "      <td>57048.0</td>\n",
       "      <td>NaN</td>\n",
       "      <td>Test</td>\n",
       "      <td>0</td>\n",
       "      <td>0</td>\n",
       "      <td>0</td>\n",
       "      <td>0</td>\n",
       "      <td>0</td>\n",
       "      <td>1</td>\n",
       "      <td>0</td>\n",
       "      <td>0</td>\n",
       "      <td>0</td>\n",
       "    </tr>\n",
       "    <tr>\n",
       "      <th>141446</th>\n",
       "      <td>176.0</td>\n",
       "      <td>3.0</td>\n",
       "      <td>86824</td>\n",
       "      <td>10193.0</td>\n",
       "      <td>NaN</td>\n",
       "      <td>Test</td>\n",
       "      <td>0</td>\n",
       "      <td>0</td>\n",
       "      <td>0</td>\n",
       "      <td>0</td>\n",
       "      <td>1</td>\n",
       "      <td>0</td>\n",
       "      <td>0</td>\n",
       "      <td>0</td>\n",
       "      <td>0</td>\n",
       "    </tr>\n",
       "    <tr>\n",
       "      <th>141447</th>\n",
       "      <td>648.0</td>\n",
       "      <td>2.0</td>\n",
       "      <td>102240</td>\n",
       "      <td>12785.0</td>\n",
       "      <td>NaN</td>\n",
       "      <td>Test</td>\n",
       "      <td>0</td>\n",
       "      <td>0</td>\n",
       "      <td>0</td>\n",
       "      <td>0</td>\n",
       "      <td>0</td>\n",
       "      <td>0</td>\n",
       "      <td>0</td>\n",
       "      <td>0</td>\n",
       "      <td>0</td>\n",
       "    </tr>\n",
       "  </tbody>\n",
       "</table>\n",
       "<p>471493 rows × 15 columns</p>\n",
       "</div>"
      ],
      "text/plain": [
       "        Reputation  Answers  Username    Views  Upvotes   type  Tag_c  Tag_h  \\\n",
       "0           3942.0      2.0    155623   7855.0     42.0  Train      0      0   \n",
       "1          26046.0     12.0     21781  55801.0   1175.0  Train      0      0   \n",
       "2           1358.0      4.0     56177   8067.0     60.0  Train      1      0   \n",
       "3            264.0      3.0    168793  27064.0      9.0  Train      0      0   \n",
       "4           4271.0      4.0    112223  13986.0     83.0  Train      1      0   \n",
       "...            ...      ...       ...      ...      ...    ...    ...    ...   \n",
       "141443      4681.0      4.0    152060   2469.0      NaN   Test      0      0   \n",
       "141444      7782.0      3.0     89235  18998.0      NaN   Test      0      0   \n",
       "141445       435.0      5.0    119788  57048.0      NaN   Test      0      0   \n",
       "141446       176.0      3.0     86824  10193.0      NaN   Test      0      0   \n",
       "141447       648.0      2.0    102240  12785.0      NaN   Test      0      0   \n",
       "\n",
       "        Tag_i  Tag_j  Tag_o  Tag_p  Tag_r  Tag_s  Tag_x  \n",
       "0           0      0      0      0      0      0      0  \n",
       "1           0      0      0      0      0      0      0  \n",
       "2           0      0      0      0      0      0      0  \n",
       "3           0      0      0      0      0      0      0  \n",
       "4           0      0      0      0      0      0      0  \n",
       "...       ...    ...    ...    ...    ...    ...    ...  \n",
       "141443      0      1      0      0      0      0      0  \n",
       "141444      0      1      0      0      0      0      0  \n",
       "141445      0      0      0      1      0      0      0  \n",
       "141446      0      0      1      0      0      0      0  \n",
       "141447      0      0      0      0      0      0      0  \n",
       "\n",
       "[471493 rows x 15 columns]"
      ]
     },
     "execution_count": 36,
     "metadata": {},
     "output_type": "execute_result"
    }
   ],
   "source": [
    "df"
   ]
  },
  {
   "cell_type": "code",
   "execution_count": 39,
   "id": "surface-revelation",
   "metadata": {
    "ExecuteTime": {
     "end_time": "2021-03-11T09:25:56.182291Z",
     "start_time": "2021-03-11T09:25:56.095813Z"
    }
   },
   "outputs": [],
   "source": [
    "# seperating the train and test data\n",
    "\n",
    "df_train = df[df['type']=='Train']\n",
    "df_test = df[df['type']=='Test']"
   ]
  },
  {
   "cell_type": "code",
   "execution_count": 41,
   "id": "limiting-october",
   "metadata": {
    "ExecuteTime": {
     "end_time": "2021-03-11T09:30:25.737118Z",
     "start_time": "2021-03-11T09:30:25.731115Z"
    }
   },
   "outputs": [
    {
     "data": {
      "text/plain": [
       "((330045, 15), (141448, 15))"
      ]
     },
     "execution_count": 41,
     "metadata": {},
     "output_type": "execute_result"
    }
   ],
   "source": [
    "df_train.shape, df_test.shape"
   ]
  },
  {
   "cell_type": "code",
   "execution_count": 42,
   "id": "systematic-transition",
   "metadata": {
    "ExecuteTime": {
     "end_time": "2021-03-11T09:30:37.090299Z",
     "start_time": "2021-03-11T09:30:37.074332Z"
    }
   },
   "outputs": [
    {
     "data": {
      "text/plain": [
       "Index(['Reputation', 'Answers', 'Username', 'Views', 'Upvotes', 'type',\n",
       "       'Tag_c', 'Tag_h', 'Tag_i', 'Tag_j', 'Tag_o', 'Tag_p', 'Tag_r', 'Tag_s',\n",
       "       'Tag_x'],\n",
       "      dtype='object')"
      ]
     },
     "execution_count": 42,
     "metadata": {},
     "output_type": "execute_result"
    }
   ],
   "source": [
    "df_train.columns"
   ]
  },
  {
   "cell_type": "code",
   "execution_count": null,
   "id": "central-frost",
   "metadata": {},
   "outputs": [],
   "source": [
    "df"
   ]
  },
  {
   "cell_type": "markdown",
   "id": "ceramic-tolerance",
   "metadata": {},
   "source": [
    "## 1st try: Modelling <a id = 'modelling'>\n"
   ]
  },
  {
   "cell_type": "code",
   "execution_count": 40,
   "id": "chemical-guarantee",
   "metadata": {
    "ExecuteTime": {
     "end_time": "2021-03-11T09:29:41.073101Z",
     "start_time": "2021-03-11T09:29:41.062065Z"
    }
   },
   "outputs": [],
   "source": [
    "# first lets try with statmodel just to check the statiscal significance of the features"
   ]
  },
  {
   "cell_type": "code",
   "execution_count": 48,
   "id": "graphic-arthur",
   "metadata": {
    "ExecuteTime": {
     "end_time": "2021-03-11T09:32:35.838218Z",
     "start_time": "2021-03-11T09:32:35.239971Z"
    }
   },
   "outputs": [],
   "source": [
    "import statsmodels.api as sm\n"
   ]
  },
  {
   "cell_type": "code",
   "execution_count": 74,
   "id": "threatened-research",
   "metadata": {
    "ExecuteTime": {
     "end_time": "2021-03-11T09:41:07.480386Z",
     "start_time": "2021-03-11T09:41:07.468383Z"
    }
   },
   "outputs": [],
   "source": [
    "X = df_train.drop(columns=['Upvotes','Username','type'])"
   ]
  },
  {
   "cell_type": "code",
   "execution_count": 75,
   "id": "atlantic-holder",
   "metadata": {
    "ExecuteTime": {
     "end_time": "2021-03-11T09:41:09.851067Z",
     "start_time": "2021-03-11T09:41:09.822068Z"
    }
   },
   "outputs": [
    {
     "data": {
      "text/html": [
       "<div>\n",
       "<style scoped>\n",
       "    .dataframe tbody tr th:only-of-type {\n",
       "        vertical-align: middle;\n",
       "    }\n",
       "\n",
       "    .dataframe tbody tr th {\n",
       "        vertical-align: top;\n",
       "    }\n",
       "\n",
       "    .dataframe thead th {\n",
       "        text-align: right;\n",
       "    }\n",
       "</style>\n",
       "<table border=\"1\" class=\"dataframe\">\n",
       "  <thead>\n",
       "    <tr style=\"text-align: right;\">\n",
       "      <th></th>\n",
       "      <th>Reputation</th>\n",
       "      <th>Answers</th>\n",
       "      <th>Views</th>\n",
       "      <th>Tag_c</th>\n",
       "      <th>Tag_h</th>\n",
       "      <th>Tag_i</th>\n",
       "      <th>Tag_j</th>\n",
       "      <th>Tag_o</th>\n",
       "      <th>Tag_p</th>\n",
       "      <th>Tag_r</th>\n",
       "      <th>Tag_s</th>\n",
       "      <th>Tag_x</th>\n",
       "    </tr>\n",
       "  </thead>\n",
       "  <tbody>\n",
       "    <tr>\n",
       "      <th>0</th>\n",
       "      <td>3942.0</td>\n",
       "      <td>2.0</td>\n",
       "      <td>7855.0</td>\n",
       "      <td>0</td>\n",
       "      <td>0</td>\n",
       "      <td>0</td>\n",
       "      <td>0</td>\n",
       "      <td>0</td>\n",
       "      <td>0</td>\n",
       "      <td>0</td>\n",
       "      <td>0</td>\n",
       "      <td>0</td>\n",
       "    </tr>\n",
       "    <tr>\n",
       "      <th>1</th>\n",
       "      <td>26046.0</td>\n",
       "      <td>12.0</td>\n",
       "      <td>55801.0</td>\n",
       "      <td>0</td>\n",
       "      <td>0</td>\n",
       "      <td>0</td>\n",
       "      <td>0</td>\n",
       "      <td>0</td>\n",
       "      <td>0</td>\n",
       "      <td>0</td>\n",
       "      <td>0</td>\n",
       "      <td>0</td>\n",
       "    </tr>\n",
       "    <tr>\n",
       "      <th>2</th>\n",
       "      <td>1358.0</td>\n",
       "      <td>4.0</td>\n",
       "      <td>8067.0</td>\n",
       "      <td>1</td>\n",
       "      <td>0</td>\n",
       "      <td>0</td>\n",
       "      <td>0</td>\n",
       "      <td>0</td>\n",
       "      <td>0</td>\n",
       "      <td>0</td>\n",
       "      <td>0</td>\n",
       "      <td>0</td>\n",
       "    </tr>\n",
       "    <tr>\n",
       "      <th>3</th>\n",
       "      <td>264.0</td>\n",
       "      <td>3.0</td>\n",
       "      <td>27064.0</td>\n",
       "      <td>0</td>\n",
       "      <td>0</td>\n",
       "      <td>0</td>\n",
       "      <td>0</td>\n",
       "      <td>0</td>\n",
       "      <td>0</td>\n",
       "      <td>0</td>\n",
       "      <td>0</td>\n",
       "      <td>0</td>\n",
       "    </tr>\n",
       "    <tr>\n",
       "      <th>4</th>\n",
       "      <td>4271.0</td>\n",
       "      <td>4.0</td>\n",
       "      <td>13986.0</td>\n",
       "      <td>1</td>\n",
       "      <td>0</td>\n",
       "      <td>0</td>\n",
       "      <td>0</td>\n",
       "      <td>0</td>\n",
       "      <td>0</td>\n",
       "      <td>0</td>\n",
       "      <td>0</td>\n",
       "      <td>0</td>\n",
       "    </tr>\n",
       "    <tr>\n",
       "      <th>...</th>\n",
       "      <td>...</td>\n",
       "      <td>...</td>\n",
       "      <td>...</td>\n",
       "      <td>...</td>\n",
       "      <td>...</td>\n",
       "      <td>...</td>\n",
       "      <td>...</td>\n",
       "      <td>...</td>\n",
       "      <td>...</td>\n",
       "      <td>...</td>\n",
       "      <td>...</td>\n",
       "      <td>...</td>\n",
       "    </tr>\n",
       "    <tr>\n",
       "      <th>330040</th>\n",
       "      <td>36.0</td>\n",
       "      <td>2.0</td>\n",
       "      <td>1063.0</td>\n",
       "      <td>1</td>\n",
       "      <td>0</td>\n",
       "      <td>0</td>\n",
       "      <td>0</td>\n",
       "      <td>0</td>\n",
       "      <td>0</td>\n",
       "      <td>0</td>\n",
       "      <td>0</td>\n",
       "      <td>0</td>\n",
       "    </tr>\n",
       "    <tr>\n",
       "      <th>330041</th>\n",
       "      <td>1649.0</td>\n",
       "      <td>2.0</td>\n",
       "      <td>23319.0</td>\n",
       "      <td>1</td>\n",
       "      <td>0</td>\n",
       "      <td>0</td>\n",
       "      <td>0</td>\n",
       "      <td>0</td>\n",
       "      <td>0</td>\n",
       "      <td>0</td>\n",
       "      <td>0</td>\n",
       "      <td>0</td>\n",
       "    </tr>\n",
       "    <tr>\n",
       "      <th>330042</th>\n",
       "      <td>6178.0</td>\n",
       "      <td>2.0</td>\n",
       "      <td>2453.0</td>\n",
       "      <td>1</td>\n",
       "      <td>0</td>\n",
       "      <td>0</td>\n",
       "      <td>0</td>\n",
       "      <td>0</td>\n",
       "      <td>0</td>\n",
       "      <td>0</td>\n",
       "      <td>0</td>\n",
       "      <td>0</td>\n",
       "    </tr>\n",
       "    <tr>\n",
       "      <th>330043</th>\n",
       "      <td>89.0</td>\n",
       "      <td>2.0</td>\n",
       "      <td>2107.0</td>\n",
       "      <td>0</td>\n",
       "      <td>0</td>\n",
       "      <td>0</td>\n",
       "      <td>1</td>\n",
       "      <td>0</td>\n",
       "      <td>0</td>\n",
       "      <td>0</td>\n",
       "      <td>0</td>\n",
       "      <td>0</td>\n",
       "    </tr>\n",
       "    <tr>\n",
       "      <th>330044</th>\n",
       "      <td>2001.0</td>\n",
       "      <td>4.0</td>\n",
       "      <td>2554.0</td>\n",
       "      <td>0</td>\n",
       "      <td>0</td>\n",
       "      <td>0</td>\n",
       "      <td>1</td>\n",
       "      <td>0</td>\n",
       "      <td>0</td>\n",
       "      <td>0</td>\n",
       "      <td>0</td>\n",
       "      <td>0</td>\n",
       "    </tr>\n",
       "  </tbody>\n",
       "</table>\n",
       "<p>330045 rows × 12 columns</p>\n",
       "</div>"
      ],
      "text/plain": [
       "        Reputation  Answers    Views  Tag_c  Tag_h  Tag_i  Tag_j  Tag_o  \\\n",
       "0           3942.0      2.0   7855.0      0      0      0      0      0   \n",
       "1          26046.0     12.0  55801.0      0      0      0      0      0   \n",
       "2           1358.0      4.0   8067.0      1      0      0      0      0   \n",
       "3            264.0      3.0  27064.0      0      0      0      0      0   \n",
       "4           4271.0      4.0  13986.0      1      0      0      0      0   \n",
       "...            ...      ...      ...    ...    ...    ...    ...    ...   \n",
       "330040        36.0      2.0   1063.0      1      0      0      0      0   \n",
       "330041      1649.0      2.0  23319.0      1      0      0      0      0   \n",
       "330042      6178.0      2.0   2453.0      1      0      0      0      0   \n",
       "330043        89.0      2.0   2107.0      0      0      0      1      0   \n",
       "330044      2001.0      4.0   2554.0      0      0      0      1      0   \n",
       "\n",
       "        Tag_p  Tag_r  Tag_s  Tag_x  \n",
       "0           0      0      0      0  \n",
       "1           0      0      0      0  \n",
       "2           0      0      0      0  \n",
       "3           0      0      0      0  \n",
       "4           0      0      0      0  \n",
       "...       ...    ...    ...    ...  \n",
       "330040      0      0      0      0  \n",
       "330041      0      0      0      0  \n",
       "330042      0      0      0      0  \n",
       "330043      0      0      0      0  \n",
       "330044      0      0      0      0  \n",
       "\n",
       "[330045 rows x 12 columns]"
      ]
     },
     "execution_count": 75,
     "metadata": {},
     "output_type": "execute_result"
    }
   ],
   "source": [
    "X"
   ]
  },
  {
   "cell_type": "code",
   "execution_count": 45,
   "id": "ongoing-lodge",
   "metadata": {
    "ExecuteTime": {
     "end_time": "2021-03-11T09:32:21.132967Z",
     "start_time": "2021-03-11T09:32:21.117967Z"
    }
   },
   "outputs": [],
   "source": [
    "y = df_train.Upvotes"
   ]
  },
  {
   "cell_type": "code",
   "execution_count": 46,
   "id": "sweet-bearing",
   "metadata": {
    "ExecuteTime": {
     "end_time": "2021-03-11T09:32:24.883786Z",
     "start_time": "2021-03-11T09:32:24.868755Z"
    }
   },
   "outputs": [
    {
     "data": {
      "text/plain": [
       "((330045, 12), (330045,))"
      ]
     },
     "execution_count": 46,
     "metadata": {},
     "output_type": "execute_result"
    }
   ],
   "source": [
    "X.shape, y.shape"
   ]
  },
  {
   "cell_type": "code",
   "execution_count": 49,
   "id": "southeast-cedar",
   "metadata": {
    "ExecuteTime": {
     "end_time": "2021-03-11T09:32:38.262846Z",
     "start_time": "2021-03-11T09:32:38.236845Z"
    }
   },
   "outputs": [],
   "source": [
    "X_s = sm.add_constant(X)\n"
   ]
  },
  {
   "cell_type": "code",
   "execution_count": 50,
   "id": "classical-silver",
   "metadata": {
    "ExecuteTime": {
     "end_time": "2021-03-11T09:32:39.922947Z",
     "start_time": "2021-03-11T09:32:39.889814Z"
    }
   },
   "outputs": [],
   "source": [
    "model = sm.OLS(y,X_s)"
   ]
  },
  {
   "cell_type": "code",
   "execution_count": 51,
   "id": "disciplinary-gamma",
   "metadata": {
    "ExecuteTime": {
     "end_time": "2021-03-11T09:32:40.848115Z",
     "start_time": "2021-03-11T09:32:40.622107Z"
    }
   },
   "outputs": [],
   "source": [
    "results = model.fit()"
   ]
  },
  {
   "cell_type": "code",
   "execution_count": 52,
   "id": "aboriginal-paris",
   "metadata": {
    "ExecuteTime": {
     "end_time": "2021-03-11T09:32:41.588956Z",
     "start_time": "2021-03-11T09:32:41.504999Z"
    }
   },
   "outputs": [
    {
     "data": {
      "text/html": [
       "<table class=\"simpletable\">\n",
       "<caption>OLS Regression Results</caption>\n",
       "<tr>\n",
       "  <th>Dep. Variable:</th>         <td>Upvotes</td>     <th>  R-squared:         </th>  <td>   0.256</td>  \n",
       "</tr>\n",
       "<tr>\n",
       "  <th>Model:</th>                   <td>OLS</td>       <th>  Adj. R-squared:    </th>  <td>   0.256</td>  \n",
       "</tr>\n",
       "<tr>\n",
       "  <th>Method:</th>             <td>Least Squares</td>  <th>  F-statistic:       </th>  <td>   9446.</td>  \n",
       "</tr>\n",
       "<tr>\n",
       "  <th>Date:</th>             <td>Thu, 11 Mar 2021</td> <th>  Prob (F-statistic):</th>   <td>  0.00</td>   \n",
       "</tr>\n",
       "<tr>\n",
       "  <th>Time:</th>                 <td>10:32:41</td>     <th>  Log-Likelihood:    </th> <td>-3.1215e+06</td>\n",
       "</tr>\n",
       "<tr>\n",
       "  <th>No. Observations:</th>      <td>330045</td>      <th>  AIC:               </th>  <td>6.243e+06</td> \n",
       "</tr>\n",
       "<tr>\n",
       "  <th>Df Residuals:</th>          <td>330032</td>      <th>  BIC:               </th>  <td>6.243e+06</td> \n",
       "</tr>\n",
       "<tr>\n",
       "  <th>Df Model:</th>              <td>    12</td>      <th>                     </th>      <td> </td>     \n",
       "</tr>\n",
       "<tr>\n",
       "  <th>Covariance Type:</th>      <td>nonrobust</td>    <th>                     </th>      <td> </td>     \n",
       "</tr>\n",
       "</table>\n",
       "<table class=\"simpletable\">\n",
       "<tr>\n",
       "       <td></td>         <th>coef</th>     <th>std err</th>      <th>t</th>      <th>P>|t|</th>  <th>[0.025</th>    <th>0.975]</th>  \n",
       "</tr>\n",
       "<tr>\n",
       "  <th>const</th>      <td> -364.1599</td> <td>   18.632</td> <td>  -19.545</td> <td> 0.000</td> <td> -400.677</td> <td> -327.642</td>\n",
       "</tr>\n",
       "<tr>\n",
       "  <th>Reputation</th> <td>    0.0337</td> <td>    0.000</td> <td>  168.260</td> <td> 0.000</td> <td>    0.033</td> <td>    0.034</td>\n",
       "</tr>\n",
       "<tr>\n",
       "  <th>Answers</th>    <td>  -36.7055</td> <td>    1.751</td> <td>  -20.968</td> <td> 0.000</td> <td>  -40.137</td> <td>  -33.275</td>\n",
       "</tr>\n",
       "<tr>\n",
       "  <th>Views</th>      <td>    0.0199</td> <td> 7.72e-05</td> <td>  257.662</td> <td> 0.000</td> <td>    0.020</td> <td>    0.020</td>\n",
       "</tr>\n",
       "<tr>\n",
       "  <th>Tag_c</th>      <td>  -47.7449</td> <td>   20.897</td> <td>   -2.285</td> <td> 0.022</td> <td>  -88.702</td> <td>   -6.788</td>\n",
       "</tr>\n",
       "<tr>\n",
       "  <th>Tag_h</th>      <td>  -23.0939</td> <td>   27.770</td> <td>   -0.832</td> <td> 0.406</td> <td>  -77.522</td> <td>   31.334</td>\n",
       "</tr>\n",
       "<tr>\n",
       "  <th>Tag_i</th>      <td>  125.6756</td> <td>   24.514</td> <td>    5.127</td> <td> 0.000</td> <td>   77.630</td> <td>  173.722</td>\n",
       "</tr>\n",
       "<tr>\n",
       "  <th>Tag_j</th>      <td>  -76.2449</td> <td>   20.903</td> <td>   -3.647</td> <td> 0.000</td> <td> -117.215</td> <td>  -35.275</td>\n",
       "</tr>\n",
       "<tr>\n",
       "  <th>Tag_o</th>      <td>  141.1860</td> <td>   31.076</td> <td>    4.543</td> <td> 0.000</td> <td>   80.278</td> <td>  202.094</td>\n",
       "</tr>\n",
       "<tr>\n",
       "  <th>Tag_p</th>      <td>  -14.2683</td> <td>   22.911</td> <td>   -0.623</td> <td> 0.533</td> <td>  -59.172</td> <td>   30.636</td>\n",
       "</tr>\n",
       "<tr>\n",
       "  <th>Tag_r</th>      <td>  110.1684</td> <td>   32.925</td> <td>    3.346</td> <td> 0.001</td> <td>   45.636</td> <td>  174.700</td>\n",
       "</tr>\n",
       "<tr>\n",
       "  <th>Tag_s</th>      <td>   -0.5413</td> <td>   26.759</td> <td>   -0.020</td> <td> 0.984</td> <td>  -52.987</td> <td>   51.905</td>\n",
       "</tr>\n",
       "<tr>\n",
       "  <th>Tag_x</th>      <td>   78.8832</td> <td>   41.048</td> <td>    1.922</td> <td> 0.055</td> <td>   -1.571</td> <td>  159.337</td>\n",
       "</tr>\n",
       "</table>\n",
       "<table class=\"simpletable\">\n",
       "<tr>\n",
       "  <th>Omnibus:</th>       <td>1224094.248</td> <th>  Durbin-Watson:     </th>     <td>   2.000</td>     \n",
       "</tr>\n",
       "<tr>\n",
       "  <th>Prob(Omnibus):</th>   <td> 0.000</td>    <th>  Jarque-Bera (JB):  </th> <td>1678736872412.292</td>\n",
       "</tr>\n",
       "<tr>\n",
       "  <th>Skew:</th>            <td>80.742</td>    <th>  Prob(JB):          </th>     <td>    0.00</td>     \n",
       "</tr>\n",
       "<tr>\n",
       "  <th>Kurtosis:</th>       <td>11050.499</td>  <th>  Cond. No.          </th>     <td>9.55e+05</td>     \n",
       "</tr>\n",
       "</table><br/><br/>Notes:<br/>[1] Standard Errors assume that the covariance matrix of the errors is correctly specified.<br/>[2] The condition number is large, 9.55e+05. This might indicate that there are<br/>strong multicollinearity or other numerical problems."
      ],
      "text/plain": [
       "<class 'statsmodels.iolib.summary.Summary'>\n",
       "\"\"\"\n",
       "                            OLS Regression Results                            \n",
       "==============================================================================\n",
       "Dep. Variable:                Upvotes   R-squared:                       0.256\n",
       "Model:                            OLS   Adj. R-squared:                  0.256\n",
       "Method:                 Least Squares   F-statistic:                     9446.\n",
       "Date:                Thu, 11 Mar 2021   Prob (F-statistic):               0.00\n",
       "Time:                        10:32:41   Log-Likelihood:            -3.1215e+06\n",
       "No. Observations:              330045   AIC:                         6.243e+06\n",
       "Df Residuals:                  330032   BIC:                         6.243e+06\n",
       "Df Model:                          12                                         \n",
       "Covariance Type:            nonrobust                                         \n",
       "==============================================================================\n",
       "                 coef    std err          t      P>|t|      [0.025      0.975]\n",
       "------------------------------------------------------------------------------\n",
       "const       -364.1599     18.632    -19.545      0.000    -400.677    -327.642\n",
       "Reputation     0.0337      0.000    168.260      0.000       0.033       0.034\n",
       "Answers      -36.7055      1.751    -20.968      0.000     -40.137     -33.275\n",
       "Views          0.0199   7.72e-05    257.662      0.000       0.020       0.020\n",
       "Tag_c        -47.7449     20.897     -2.285      0.022     -88.702      -6.788\n",
       "Tag_h        -23.0939     27.770     -0.832      0.406     -77.522      31.334\n",
       "Tag_i        125.6756     24.514      5.127      0.000      77.630     173.722\n",
       "Tag_j        -76.2449     20.903     -3.647      0.000    -117.215     -35.275\n",
       "Tag_o        141.1860     31.076      4.543      0.000      80.278     202.094\n",
       "Tag_p        -14.2683     22.911     -0.623      0.533     -59.172      30.636\n",
       "Tag_r        110.1684     32.925      3.346      0.001      45.636     174.700\n",
       "Tag_s         -0.5413     26.759     -0.020      0.984     -52.987      51.905\n",
       "Tag_x         78.8832     41.048      1.922      0.055      -1.571     159.337\n",
       "==============================================================================\n",
       "Omnibus:                  1224094.248   Durbin-Watson:                   2.000\n",
       "Prob(Omnibus):                  0.000   Jarque-Bera (JB):    1678736872412.292\n",
       "Skew:                          80.742   Prob(JB):                         0.00\n",
       "Kurtosis:                   11050.499   Cond. No.                     9.55e+05\n",
       "==============================================================================\n",
       "\n",
       "Notes:\n",
       "[1] Standard Errors assume that the covariance matrix of the errors is correctly specified.\n",
       "[2] The condition number is large, 9.55e+05. This might indicate that there are\n",
       "strong multicollinearity or other numerical problems.\n",
       "\"\"\""
      ]
     },
     "execution_count": 52,
     "metadata": {},
     "output_type": "execute_result"
    }
   ],
   "source": [
    "results.summary()"
   ]
  },
  {
   "cell_type": "markdown",
   "id": "universal-dividend",
   "metadata": {},
   "source": [
    "###### So most of the features are statistically significant, but tag \"p,h,s\" are not showing any significance. Either we can remove them and go ahead with model. Model will take care of it.\n",
    "# first R&d"
   ]
  },
  {
   "cell_type": "markdown",
   "id": "developing-chassis",
   "metadata": {},
   "source": [
    "-----------------------------------------\n",
    "#### Lets apply traditional models\n"
   ]
  },
  {
   "cell_type": "code",
   "execution_count": 53,
   "id": "built-chamber",
   "metadata": {
    "ExecuteTime": {
     "end_time": "2021-03-11T09:33:21.511383Z",
     "start_time": "2021-03-11T09:33:21.027279Z"
    }
   },
   "outputs": [],
   "source": [
    "from sklearn.linear_model import LinearRegression\n",
    "from sklearn.ensemble import RandomForestRegressor\n",
    "from xgboost import XGBRegressor\n",
    "from sklearn.model_selection import train_test_split\n",
    "from sklearn.metrics import mean_squared_error"
   ]
  },
  {
   "cell_type": "code",
   "execution_count": 76,
   "id": "extraordinary-world",
   "metadata": {
    "ExecuteTime": {
     "end_time": "2021-03-11T09:41:35.663768Z",
     "start_time": "2021-03-11T09:41:35.611751Z"
    }
   },
   "outputs": [],
   "source": [
    "X_train, X_test, y_train, y_test = train_test_split(X, y, test_size=0.33, random_state=42)"
   ]
  },
  {
   "cell_type": "code",
   "execution_count": 77,
   "id": "industrial-adapter",
   "metadata": {
    "ExecuteTime": {
     "end_time": "2021-03-11T09:41:37.512761Z",
     "start_time": "2021-03-11T09:41:37.500769Z"
    }
   },
   "outputs": [],
   "source": [
    "lr = LinearRegression()\n",
    "rf = RandomForestRegressor()\n",
    "xg = XGBRegressor()\n",
    "\n",
    "lr.fit(X_train,y_train)\n",
    "rf.fit(X_train,y_train)\n",
    "xg.fit(X_train,y_train)"
   ]
  },
  {
   "cell_type": "markdown",
   "id": "scheduled-pizza",
   "metadata": {},
   "source": [
    "### Testing the models"
   ]
  },
  {
   "cell_type": "code",
   "execution_count": 81,
   "id": "everyday-sending",
   "metadata": {
    "ExecuteTime": {
     "end_time": "2021-03-11T09:43:21.717974Z",
     "start_time": "2021-03-11T09:43:21.688973Z"
    }
   },
   "outputs": [],
   "source": [
    "lr_pred= lr.predict(X_test)\n",
    "rf_pred = rf.predict(X_test)\n",
    "xg_pred = xg.predict(X_test)"
   ]
  },
  {
   "cell_type": "code",
   "execution_count": 84,
   "id": "focal-awareness",
   "metadata": {
    "ExecuteTime": {
     "end_time": "2021-03-11T09:43:26.147229Z",
     "start_time": "2021-03-11T09:43:26.133229Z"
    }
   },
   "outputs": [
    {
     "data": {
      "text/plain": [
       "(10986003.060170015, 2040272.0619482414)"
      ]
     },
     "execution_count": 84,
     "metadata": {},
     "output_type": "execute_result"
    }
   ],
   "source": [
    "mean_squared_error(y_test,lr_pred), mean_squared_error(y_test,xg_pred)"
   ]
  },
  {
   "cell_type": "code",
   "execution_count": 85,
   "id": "dental-interest",
   "metadata": {
    "ExecuteTime": {
     "end_time": "2021-03-11T09:43:26.163230Z",
     "start_time": "2021-03-11T09:43:26.149229Z"
    }
   },
   "outputs": [
    {
     "data": {
      "text/plain": [
       "3314.5140005994867"
      ]
     },
     "execution_count": 85,
     "metadata": {},
     "output_type": "execute_result"
    }
   ],
   "source": [
    "# linear regression\n",
    "np.sqrt(mean_squared_error(y_test,lr_pred))"
   ]
  },
  {
   "cell_type": "code",
   "execution_count": 86,
   "id": "alpha-curtis",
   "metadata": {
    "ExecuteTime": {
     "end_time": "2021-03-11T09:43:26.179259Z",
     "start_time": "2021-03-11T09:43:26.165231Z"
    }
   },
   "outputs": [
    {
     "data": {
      "text/plain": [
       "1276.7452076888978"
      ]
     },
     "execution_count": 86,
     "metadata": {},
     "output_type": "execute_result"
    }
   ],
   "source": [
    "# random forest\n",
    "np.sqrt(mean_squared_error(y_test,rf_pred))"
   ]
  },
  {
   "cell_type": "code",
   "execution_count": 87,
   "id": "secure-joseph",
   "metadata": {
    "ExecuteTime": {
     "end_time": "2021-03-11T09:43:26.195229Z",
     "start_time": "2021-03-11T09:43:26.184234Z"
    }
   },
   "outputs": [
    {
     "data": {
      "text/plain": [
       "1428.3809232653036"
      ]
     },
     "execution_count": 87,
     "metadata": {},
     "output_type": "execute_result"
    }
   ],
   "source": [
    "# xgboost\n",
    "np.sqrt(mean_squared_error(y_test,xg_pred))"
   ]
  },
  {
   "cell_type": "code",
   "execution_count": 88,
   "id": "disabled-yacht",
   "metadata": {
    "ExecuteTime": {
     "end_time": "2021-03-11T09:43:26.211230Z",
     "start_time": "2021-03-11T09:43:26.197229Z"
    }
   },
   "outputs": [],
   "source": [
    "# work on username and hyperparameter tuning"
   ]
  },
  {
   "cell_type": "markdown",
   "id": "fifteen-missile",
   "metadata": {},
   "source": [
    "### Predicting actual data"
   ]
  },
  {
   "cell_type": "code",
   "execution_count": 89,
   "id": "likely-nebraska",
   "metadata": {
    "ExecuteTime": {
     "end_time": "2021-03-11T09:43:26.227228Z",
     "start_time": "2021-03-11T09:43:26.213241Z"
    }
   },
   "outputs": [
    {
     "data": {
      "text/plain": [
       "(221130, 12)"
      ]
     },
     "execution_count": 89,
     "metadata": {},
     "output_type": "execute_result"
    }
   ],
   "source": [
    "X_train.shape"
   ]
  },
  {
   "cell_type": "code",
   "execution_count": 95,
   "id": "adult-creation",
   "metadata": {
    "ExecuteTime": {
     "end_time": "2021-03-11T09:44:48.019913Z",
     "start_time": "2021-03-11T09:44:48.002887Z"
    }
   },
   "outputs": [
    {
     "data": {
      "text/plain": [
       "Index(['Reputation', 'Answers', 'Username', 'Views', 'Upvotes', 'type',\n",
       "       'Tag_c', 'Tag_h', 'Tag_i', 'Tag_j', 'Tag_o', 'Tag_p', 'Tag_r', 'Tag_s',\n",
       "       'Tag_x'],\n",
       "      dtype='object')"
      ]
     },
     "execution_count": 95,
     "metadata": {},
     "output_type": "execute_result"
    }
   ],
   "source": [
    "df_test.columns"
   ]
  },
  {
   "cell_type": "code",
   "execution_count": 97,
   "id": "according-lightning",
   "metadata": {
    "ExecuteTime": {
     "end_time": "2021-03-11T09:45:14.545811Z",
     "start_time": "2021-03-11T09:45:14.534796Z"
    }
   },
   "outputs": [],
   "source": [
    "df_test = df_test.drop(columns=['Username','Upvotes','type'])"
   ]
  },
  {
   "cell_type": "code",
   "execution_count": 98,
   "id": "recorded-anime",
   "metadata": {
    "ExecuteTime": {
     "end_time": "2021-03-11T09:45:56.422726Z",
     "start_time": "2021-03-11T09:45:51.255994Z"
    }
   },
   "outputs": [],
   "source": [
    "df_pred = rf.predict(df_test)"
   ]
  },
  {
   "cell_type": "code",
   "execution_count": 101,
   "id": "supported-switzerland",
   "metadata": {
    "ExecuteTime": {
     "end_time": "2021-03-11T09:46:05.307255Z",
     "start_time": "2021-03-11T09:46:05.299223Z"
    }
   },
   "outputs": [
    {
     "data": {
      "text/plain": [
       "array([220.66,  72.8 ,  40.06, ...,  75.64,  14.84,  27.04])"
      ]
     },
     "execution_count": 101,
     "metadata": {},
     "output_type": "execute_result"
    }
   ],
   "source": [
    "df_pred"
   ]
  },
  {
   "cell_type": "code",
   "execution_count": 119,
   "id": "cordless-hydrogen",
   "metadata": {
    "ExecuteTime": {
     "end_time": "2021-03-11T09:56:10.589263Z",
     "start_time": "2021-03-11T09:56:08.122226Z"
    }
   },
   "outputs": [],
   "source": [
    "df_final= pd.DataFrame([pd.read_csv(\"test_8i3B3FC.csv\")['ID'],df_pred])\n",
    "df_final=df_final.T\n",
    "df_final.columns = ['ID','Upvotes']\n",
    "df_final.to_csv('rf_results.csv',index=False)"
   ]
  },
  {
   "cell_type": "code",
   "execution_count": 123,
   "id": "brief-warner",
   "metadata": {
    "ExecuteTime": {
     "end_time": "2021-03-11T09:56:41.460010Z",
     "start_time": "2021-03-11T09:56:41.443010Z"
    }
   },
   "outputs": [
    {
     "data": {
      "text/html": [
       "<div>\n",
       "<style scoped>\n",
       "    .dataframe tbody tr th:only-of-type {\n",
       "        vertical-align: middle;\n",
       "    }\n",
       "\n",
       "    .dataframe tbody tr th {\n",
       "        vertical-align: top;\n",
       "    }\n",
       "\n",
       "    .dataframe thead th {\n",
       "        text-align: right;\n",
       "    }\n",
       "</style>\n",
       "<table border=\"1\" class=\"dataframe\">\n",
       "  <thead>\n",
       "    <tr style=\"text-align: right;\">\n",
       "      <th></th>\n",
       "      <th>ID</th>\n",
       "      <th>Upvotes</th>\n",
       "    </tr>\n",
       "  </thead>\n",
       "  <tbody>\n",
       "    <tr>\n",
       "      <th>0</th>\n",
       "      <td>366953.0</td>\n",
       "      <td>220.66</td>\n",
       "    </tr>\n",
       "    <tr>\n",
       "      <th>1</th>\n",
       "      <td>71864.0</td>\n",
       "      <td>72.80</td>\n",
       "    </tr>\n",
       "    <tr>\n",
       "      <th>2</th>\n",
       "      <td>141692.0</td>\n",
       "      <td>40.06</td>\n",
       "    </tr>\n",
       "    <tr>\n",
       "      <th>3</th>\n",
       "      <td>316833.0</td>\n",
       "      <td>11.90</td>\n",
       "    </tr>\n",
       "    <tr>\n",
       "      <th>4</th>\n",
       "      <td>440445.0</td>\n",
       "      <td>323.95</td>\n",
       "    </tr>\n",
       "    <tr>\n",
       "      <th>...</th>\n",
       "      <td>...</td>\n",
       "      <td>...</td>\n",
       "    </tr>\n",
       "    <tr>\n",
       "      <th>141443</th>\n",
       "      <td>47187.0</td>\n",
       "      <td>36.42</td>\n",
       "    </tr>\n",
       "    <tr>\n",
       "      <th>141444</th>\n",
       "      <td>329126.0</td>\n",
       "      <td>202.79</td>\n",
       "    </tr>\n",
       "    <tr>\n",
       "      <th>141445</th>\n",
       "      <td>282334.0</td>\n",
       "      <td>75.64</td>\n",
       "    </tr>\n",
       "    <tr>\n",
       "      <th>141446</th>\n",
       "      <td>386629.0</td>\n",
       "      <td>14.84</td>\n",
       "    </tr>\n",
       "    <tr>\n",
       "      <th>141447</th>\n",
       "      <td>107271.0</td>\n",
       "      <td>27.04</td>\n",
       "    </tr>\n",
       "  </tbody>\n",
       "</table>\n",
       "<p>141448 rows × 2 columns</p>\n",
       "</div>"
      ],
      "text/plain": [
       "              ID  Upvotes\n",
       "0       366953.0   220.66\n",
       "1        71864.0    72.80\n",
       "2       141692.0    40.06\n",
       "3       316833.0    11.90\n",
       "4       440445.0   323.95\n",
       "...          ...      ...\n",
       "141443   47187.0    36.42\n",
       "141444  329126.0   202.79\n",
       "141445  282334.0    75.64\n",
       "141446  386629.0    14.84\n",
       "141447  107271.0    27.04\n",
       "\n",
       "[141448 rows x 2 columns]"
      ]
     },
     "execution_count": 123,
     "metadata": {},
     "output_type": "execute_result"
    }
   ],
   "source": [
    "df_final"
   ]
  },
  {
   "cell_type": "markdown",
   "id": "understanding-short",
   "metadata": {},
   "source": [
    "--------------------------------\n"
   ]
  },
  {
   "cell_type": "markdown",
   "id": "sixth-financing",
   "metadata": {},
   "source": [
    "## 2nd try: With Username feature (Modelling again from scratch)  <a id = 'withusername'>"
   ]
  },
  {
   "cell_type": "code",
   "execution_count": 140,
   "id": "anonymous-commons",
   "metadata": {
    "ExecuteTime": {
     "end_time": "2021-03-11T10:28:22.860550Z",
     "start_time": "2021-03-11T10:28:22.649582Z"
    }
   },
   "outputs": [],
   "source": [
    "df_train = pd.read_csv(\"train_NIR5Yl1.csv\")\n",
    "df_test = pd.read_csv(\"test_8i3B3FC.csv\")"
   ]
  },
  {
   "cell_type": "code",
   "execution_count": 141,
   "id": "golden-disability",
   "metadata": {
    "ExecuteTime": {
     "end_time": "2021-03-11T10:28:30.656003Z",
     "start_time": "2021-03-11T10:28:30.348249Z"
    }
   },
   "outputs": [
    {
     "data": {
      "text/plain": [
       "<AxesSubplot:xlabel='count', ylabel='mean'>"
      ]
     },
     "execution_count": 141,
     "metadata": {},
     "output_type": "execute_result"
    },
    {
     "data": {
      "image/png": "[encoded data removed]",
      "text/plain": [
       "<Figure size 432x288 with 1 Axes>"
      ]
     },
     "metadata": {
      "needs_background": "light"
     },
     "output_type": "display_data"
    }
   ],
   "source": [
    "df_train.groupby('Username').Upvotes.agg(['count','mean']).sort_values(by='count', ascending= False).plot.scatter('count','mean')"
   ]
  },
  {
   "cell_type": "code",
   "execution_count": 142,
   "id": "touched-child",
   "metadata": {
    "ExecuteTime": {
     "end_time": "2021-03-11T10:28:34.910110Z",
     "start_time": "2021-03-11T10:28:34.849111Z"
    }
   },
   "outputs": [
    {
     "data": {
      "text/html": [
       "<div>\n",
       "<style scoped>\n",
       "    .dataframe tbody tr th:only-of-type {\n",
       "        vertical-align: middle;\n",
       "    }\n",
       "\n",
       "    .dataframe tbody tr th {\n",
       "        vertical-align: top;\n",
       "    }\n",
       "\n",
       "    .dataframe thead th {\n",
       "        text-align: right;\n",
       "    }\n",
       "</style>\n",
       "<table border=\"1\" class=\"dataframe\">\n",
       "  <thead>\n",
       "    <tr style=\"text-align: right;\">\n",
       "      <th></th>\n",
       "      <th>count</th>\n",
       "      <th>mean</th>\n",
       "    </tr>\n",
       "    <tr>\n",
       "      <th>Username</th>\n",
       "      <th></th>\n",
       "      <th></th>\n",
       "    </tr>\n",
       "  </thead>\n",
       "  <tbody>\n",
       "    <tr>\n",
       "      <th>0</th>\n",
       "      <td>1</td>\n",
       "      <td>10.0</td>\n",
       "    </tr>\n",
       "    <tr>\n",
       "      <th>1</th>\n",
       "      <td>1</td>\n",
       "      <td>0.0</td>\n",
       "    </tr>\n",
       "    <tr>\n",
       "      <th>2</th>\n",
       "      <td>1</td>\n",
       "      <td>1.0</td>\n",
       "    </tr>\n",
       "    <tr>\n",
       "      <th>3</th>\n",
       "      <td>1</td>\n",
       "      <td>73.0</td>\n",
       "    </tr>\n",
       "    <tr>\n",
       "      <th>5</th>\n",
       "      <td>1</td>\n",
       "      <td>14.0</td>\n",
       "    </tr>\n",
       "    <tr>\n",
       "      <th>...</th>\n",
       "      <td>...</td>\n",
       "      <td>...</td>\n",
       "    </tr>\n",
       "    <tr>\n",
       "      <th>175733</th>\n",
       "      <td>1</td>\n",
       "      <td>52.0</td>\n",
       "    </tr>\n",
       "    <tr>\n",
       "      <th>175734</th>\n",
       "      <td>1</td>\n",
       "      <td>1.0</td>\n",
       "    </tr>\n",
       "    <tr>\n",
       "      <th>175735</th>\n",
       "      <td>1</td>\n",
       "      <td>12.0</td>\n",
       "    </tr>\n",
       "    <tr>\n",
       "      <th>175736</th>\n",
       "      <td>1</td>\n",
       "      <td>7.0</td>\n",
       "    </tr>\n",
       "    <tr>\n",
       "      <th>175738</th>\n",
       "      <td>2</td>\n",
       "      <td>155.5</td>\n",
       "    </tr>\n",
       "  </tbody>\n",
       "</table>\n",
       "<p>141802 rows × 2 columns</p>\n",
       "</div>"
      ],
      "text/plain": [
       "          count   mean\n",
       "Username              \n",
       "0             1   10.0\n",
       "1             1    0.0\n",
       "2             1    1.0\n",
       "3             1   73.0\n",
       "5             1   14.0\n",
       "...         ...    ...\n",
       "175733        1   52.0\n",
       "175734        1    1.0\n",
       "175735        1   12.0\n",
       "175736        1    7.0\n",
       "175738        2  155.5\n",
       "\n",
       "[141802 rows x 2 columns]"
      ]
     },
     "execution_count": 142,
     "metadata": {},
     "output_type": "execute_result"
    }
   ],
   "source": [
    "gb = df_train.groupby('Username').Upvotes.agg(['count','mean'])\n",
    "gb"
   ]
  },
  {
   "cell_type": "code",
   "execution_count": 143,
   "id": "social-mongolia",
   "metadata": {
    "ExecuteTime": {
     "end_time": "2021-03-11T10:28:40.150586Z",
     "start_time": "2021-03-11T10:28:40.129552Z"
    }
   },
   "outputs": [
    {
     "data": {
      "text/html": [
       "<div>\n",
       "<style scoped>\n",
       "    .dataframe tbody tr th:only-of-type {\n",
       "        vertical-align: middle;\n",
       "    }\n",
       "\n",
       "    .dataframe tbody tr th {\n",
       "        vertical-align: top;\n",
       "    }\n",
       "\n",
       "    .dataframe thead th {\n",
       "        text-align: right;\n",
       "    }\n",
       "</style>\n",
       "<table border=\"1\" class=\"dataframe\">\n",
       "  <thead>\n",
       "    <tr style=\"text-align: right;\">\n",
       "      <th></th>\n",
       "      <th>ID</th>\n",
       "      <th>Tag</th>\n",
       "      <th>Reputation</th>\n",
       "      <th>Answers</th>\n",
       "      <th>Username</th>\n",
       "      <th>Views</th>\n",
       "      <th>Upvotes</th>\n",
       "    </tr>\n",
       "  </thead>\n",
       "  <tbody>\n",
       "    <tr>\n",
       "      <th>0</th>\n",
       "      <td>52664</td>\n",
       "      <td>a</td>\n",
       "      <td>3942.0</td>\n",
       "      <td>2.0</td>\n",
       "      <td>155623</td>\n",
       "      <td>7855.0</td>\n",
       "      <td>42.0</td>\n",
       "    </tr>\n",
       "    <tr>\n",
       "      <th>1</th>\n",
       "      <td>327662</td>\n",
       "      <td>a</td>\n",
       "      <td>26046.0</td>\n",
       "      <td>12.0</td>\n",
       "      <td>21781</td>\n",
       "      <td>55801.0</td>\n",
       "      <td>1175.0</td>\n",
       "    </tr>\n",
       "    <tr>\n",
       "      <th>2</th>\n",
       "      <td>468453</td>\n",
       "      <td>c</td>\n",
       "      <td>1358.0</td>\n",
       "      <td>4.0</td>\n",
       "      <td>56177</td>\n",
       "      <td>8067.0</td>\n",
       "      <td>60.0</td>\n",
       "    </tr>\n",
       "    <tr>\n",
       "      <th>3</th>\n",
       "      <td>96996</td>\n",
       "      <td>a</td>\n",
       "      <td>264.0</td>\n",
       "      <td>3.0</td>\n",
       "      <td>168793</td>\n",
       "      <td>27064.0</td>\n",
       "      <td>9.0</td>\n",
       "    </tr>\n",
       "    <tr>\n",
       "      <th>4</th>\n",
       "      <td>131465</td>\n",
       "      <td>c</td>\n",
       "      <td>4271.0</td>\n",
       "      <td>4.0</td>\n",
       "      <td>112223</td>\n",
       "      <td>13986.0</td>\n",
       "      <td>83.0</td>\n",
       "    </tr>\n",
       "  </tbody>\n",
       "</table>\n",
       "</div>"
      ],
      "text/plain": [
       "       ID Tag  Reputation  Answers  Username    Views  Upvotes\n",
       "0   52664   a      3942.0      2.0    155623   7855.0     42.0\n",
       "1  327662   a     26046.0     12.0     21781  55801.0   1175.0\n",
       "2  468453   c      1358.0      4.0     56177   8067.0     60.0\n",
       "3   96996   a       264.0      3.0    168793  27064.0      9.0\n",
       "4  131465   c      4271.0      4.0    112223  13986.0     83.0"
      ]
     },
     "execution_count": 143,
     "metadata": {},
     "output_type": "execute_result"
    }
   ],
   "source": [
    "df_train.head()"
   ]
  },
  {
   "cell_type": "code",
   "execution_count": 205,
   "id": "latter-passing",
   "metadata": {
    "ExecuteTime": {
     "end_time": "2021-03-11T11:00:40.595412Z",
     "start_time": "2021-03-11T11:00:40.575417Z"
    }
   },
   "outputs": [
    {
     "name": "stdout",
     "output_type": "stream",
     "text": [
      "hello\n"
     ]
    }
   ],
   "source": [
    "try:\n",
    "    gb.loc[100000000000]\n",
    "    \n",
    "except:\n",
    "    print('hello')"
   ]
  },
  {
   "cell_type": "code",
   "execution_count": 300,
   "id": "cellular-auditor",
   "metadata": {
    "ExecuteTime": {
     "end_time": "2021-03-11T12:35:51.928998Z",
     "start_time": "2021-03-11T12:35:51.915998Z"
    }
   },
   "outputs": [],
   "source": [
    "def updatecount(d):\n",
    "    try:\n",
    "        return gb.loc[d.Username]\n",
    "    except:\n",
    "        return np.nan"
   ]
  },
  {
   "cell_type": "code",
   "execution_count": 225,
   "id": "framed-church",
   "metadata": {
    "ExecuteTime": {
     "end_time": "2021-03-11T11:13:47.387439Z",
     "start_time": "2021-03-11T11:12:55.204978Z"
    }
   },
   "outputs": [],
   "source": [
    "# applying on both\n",
    "\n",
    "df_train['how_frequent_user_is'] = df_train.apply(updatecount,axis=1)\n"
   ]
  },
  {
   "cell_type": "markdown",
   "id": "brazilian-timothy",
   "metadata": {},
   "source": [
    "##### for test dataset"
   ]
  },
  {
   "cell_type": "code",
   "execution_count": 227,
   "id": "stock-german",
   "metadata": {
    "ExecuteTime": {
     "end_time": "2021-03-11T11:15:37.818681Z",
     "start_time": "2021-03-11T11:15:37.788684Z"
    }
   },
   "outputs": [
    {
     "data": {
      "text/plain": [
       "4118     336\n",
       "17878    228\n",
       "45704    205\n",
       "62142    200\n",
       "23223    199\n",
       "        ... \n",
       "96096      1\n",
       "40797      1\n",
       "38748      1\n",
       "42842      1\n",
       "2049       1\n",
       "Name: Username, Length: 79351, dtype: int64"
      ]
     },
     "execution_count": 227,
     "metadata": {},
     "output_type": "execute_result"
    }
   ],
   "source": [
    "gb_test = df_test.Username.value_counts()\n",
    "gb_test"
   ]
  },
  {
   "cell_type": "code",
   "execution_count": 260,
   "id": "aboriginal-incidence",
   "metadata": {
    "ExecuteTime": {
     "end_time": "2021-03-11T12:11:08.896045Z",
     "start_time": "2021-03-11T12:11:08.868090Z"
    }
   },
   "outputs": [
    {
     "data": {
      "text/plain": [
       "4118     797\n",
       "17878    608\n",
       "45704    483\n",
       "23223    413\n",
       "6697     408\n",
       "        ... \n",
       "33671      1\n",
       "64392      1\n",
       "62345      1\n",
       "60298      1\n",
       "0          1\n",
       "Name: Username, Length: 141802, dtype: int64"
      ]
     },
     "execution_count": 260,
     "metadata": {},
     "output_type": "execute_result"
    }
   ],
   "source": [
    "gb_train = df_train.Username.value_counts()\n",
    "gb_train"
   ]
  },
  {
   "cell_type": "code",
   "execution_count": 273,
   "id": "exotic-paste",
   "metadata": {
    "ExecuteTime": {
     "end_time": "2021-03-11T12:16:03.930355Z",
     "start_time": "2021-03-11T12:16:03.910357Z"
    }
   },
   "outputs": [
    {
     "data": {
      "text/plain": [
       "((141802,), (79351,))"
      ]
     },
     "execution_count": 273,
     "metadata": {},
     "output_type": "execute_result"
    }
   ],
   "source": [
    "gb_train.shape, gb_test.shape"
   ]
  },
  {
   "cell_type": "code",
   "execution_count": 291,
   "id": "major-planner",
   "metadata": {
    "ExecuteTime": {
     "end_time": "2021-03-11T12:29:55.072265Z",
     "start_time": "2021-03-11T12:29:55.024232Z"
    }
   },
   "outputs": [],
   "source": [
    "test_= list(set(gb_test.index) - set(gb_train.index))"
   ]
  },
  {
   "cell_type": "code",
   "execution_count": 277,
   "id": "reported-satisfaction",
   "metadata": {
    "ExecuteTime": {
     "end_time": "2021-03-11T12:23:39.829053Z",
     "start_time": "2021-03-11T12:23:39.822022Z"
    }
   },
   "outputs": [
    {
     "data": {
      "text/plain": [
       "(336, 797)"
      ]
     },
     "execution_count": 277,
     "metadata": {},
     "output_type": "execute_result"
    }
   ],
   "source": [
    "gb_test[4118], gb_train[4118]"
   ]
  },
  {
   "cell_type": "code",
   "execution_count": 283,
   "id": "available-david",
   "metadata": {
    "ExecuteTime": {
     "end_time": "2021-03-11T12:26:06.195276Z",
     "start_time": "2021-03-11T12:26:04.141782Z"
    }
   },
   "outputs": [],
   "source": [
    "\n",
    "temp = {}\n",
    "for i,d in gb_train.iteritems():\n",
    "    if i in gb_test.index:\n",
    "        temp[i] = gb_train.loc[i] + gb_test.loc[i]\n",
    "    else:\n",
    "        temp[i] = gb_train.loc[i]\n",
    "\n",
    "        \n",
    "gb_final = pd.Series(temp)\n"
   ]
  },
  {
   "cell_type": "code",
   "execution_count": 297,
   "id": "hispanic-rebate",
   "metadata": {
    "ExecuteTime": {
     "end_time": "2021-03-11T12:34:48.964797Z",
     "start_time": "2021-03-11T12:34:48.629687Z"
    }
   },
   "outputs": [],
   "source": [
    "\n",
    "temp = {}\n",
    "\n",
    "for j in test_:\n",
    "    temp[j]= gb_test.loc[j]\n",
    "    \n",
    "\n",
    "gb_final= gb_final.append(pd.Series(temp))   "
   ]
  },
  {
   "cell_type": "code",
   "execution_count": 298,
   "id": "premier-jenny",
   "metadata": {
    "ExecuteTime": {
     "end_time": "2021-03-11T12:34:51.346696Z",
     "start_time": "2021-03-11T12:34:51.329705Z"
    }
   },
   "outputs": [
    {
     "data": {
      "text/plain": [
       "(175739,)"
      ]
     },
     "execution_count": 298,
     "metadata": {},
     "output_type": "execute_result"
    }
   ],
   "source": [
    "gb_final.shape"
   ]
  },
  {
   "cell_type": "code",
   "execution_count": 299,
   "id": "educational-endorsement",
   "metadata": {
    "ExecuteTime": {
     "end_time": "2021-03-11T12:35:05.217926Z",
     "start_time": "2021-03-11T12:35:05.210927Z"
    }
   },
   "outputs": [
    {
     "data": {
      "text/plain": [
       "4118      1133\n",
       "17878      836\n",
       "45704      688\n",
       "23223      612\n",
       "6697       598\n",
       "          ... \n",
       "131026       1\n",
       "131043       2\n",
       "131044       1\n",
       "131047       2\n",
       "131058       1\n",
       "Length: 175739, dtype: int64"
      ]
     },
     "execution_count": 299,
     "metadata": {},
     "output_type": "execute_result"
    }
   ],
   "source": [
    "gb_final"
   ]
  },
  {
   "cell_type": "code",
   "execution_count": 302,
   "id": "constitutional-thumbnail",
   "metadata": {
    "ExecuteTime": {
     "end_time": "2021-03-11T12:36:21.778107Z",
     "start_time": "2021-03-11T12:36:21.762104Z"
    }
   },
   "outputs": [],
   "source": [
    "def updatecount(d):\n",
    "    try:\n",
    "        return gb_final.loc[d.Username]\n",
    "    except:\n",
    "        return np.nan"
   ]
  },
  {
   "cell_type": "code",
   "execution_count": 303,
   "id": "understood-effectiveness",
   "metadata": {
    "ExecuteTime": {
     "end_time": "2021-03-11T12:36:50.758547Z",
     "start_time": "2021-03-11T12:36:47.803327Z"
    }
   },
   "outputs": [],
   "source": [
    "\n",
    "df_test['how_frequent_user_is'] = df_test.apply(updatecount,axis=1)\n"
   ]
  },
  {
   "cell_type": "code",
   "execution_count": 304,
   "id": "stainless-schema",
   "metadata": {
    "ExecuteTime": {
     "end_time": "2021-03-11T12:36:56.749412Z",
     "start_time": "2021-03-11T12:36:56.726410Z"
    }
   },
   "outputs": [
    {
     "data": {
      "text/html": [
       "<div>\n",
       "<style scoped>\n",
       "    .dataframe tbody tr th:only-of-type {\n",
       "        vertical-align: middle;\n",
       "    }\n",
       "\n",
       "    .dataframe tbody tr th {\n",
       "        vertical-align: top;\n",
       "    }\n",
       "\n",
       "    .dataframe thead th {\n",
       "        text-align: right;\n",
       "    }\n",
       "</style>\n",
       "<table border=\"1\" class=\"dataframe\">\n",
       "  <thead>\n",
       "    <tr style=\"text-align: right;\">\n",
       "      <th></th>\n",
       "      <th>ID</th>\n",
       "      <th>Tag</th>\n",
       "      <th>Reputation</th>\n",
       "      <th>Answers</th>\n",
       "      <th>Username</th>\n",
       "      <th>Views</th>\n",
       "      <th>how_frequent_user_is</th>\n",
       "    </tr>\n",
       "  </thead>\n",
       "  <tbody>\n",
       "    <tr>\n",
       "      <th>0</th>\n",
       "      <td>366953</td>\n",
       "      <td>a</td>\n",
       "      <td>5645.0</td>\n",
       "      <td>3.0</td>\n",
       "      <td>50652</td>\n",
       "      <td>33200.0</td>\n",
       "      <td>2</td>\n",
       "    </tr>\n",
       "    <tr>\n",
       "      <th>1</th>\n",
       "      <td>71864</td>\n",
       "      <td>c</td>\n",
       "      <td>24511.0</td>\n",
       "      <td>6.0</td>\n",
       "      <td>37685</td>\n",
       "      <td>2730.0</td>\n",
       "      <td>37</td>\n",
       "    </tr>\n",
       "    <tr>\n",
       "      <th>2</th>\n",
       "      <td>141692</td>\n",
       "      <td>i</td>\n",
       "      <td>927.0</td>\n",
       "      <td>1.0</td>\n",
       "      <td>135293</td>\n",
       "      <td>21167.0</td>\n",
       "      <td>7</td>\n",
       "    </tr>\n",
       "    <tr>\n",
       "      <th>3</th>\n",
       "      <td>316833</td>\n",
       "      <td>i</td>\n",
       "      <td>21.0</td>\n",
       "      <td>6.0</td>\n",
       "      <td>166998</td>\n",
       "      <td>18528.0</td>\n",
       "      <td>2</td>\n",
       "    </tr>\n",
       "    <tr>\n",
       "      <th>4</th>\n",
       "      <td>440445</td>\n",
       "      <td>i</td>\n",
       "      <td>4475.0</td>\n",
       "      <td>10.0</td>\n",
       "      <td>53504</td>\n",
       "      <td>57240.0</td>\n",
       "      <td>7</td>\n",
       "    </tr>\n",
       "    <tr>\n",
       "      <th>...</th>\n",
       "      <td>...</td>\n",
       "      <td>...</td>\n",
       "      <td>...</td>\n",
       "      <td>...</td>\n",
       "      <td>...</td>\n",
       "      <td>...</td>\n",
       "      <td>...</td>\n",
       "    </tr>\n",
       "    <tr>\n",
       "      <th>141443</th>\n",
       "      <td>47187</td>\n",
       "      <td>j</td>\n",
       "      <td>4681.0</td>\n",
       "      <td>4.0</td>\n",
       "      <td>152060</td>\n",
       "      <td>2469.0</td>\n",
       "      <td>4</td>\n",
       "    </tr>\n",
       "    <tr>\n",
       "      <th>141444</th>\n",
       "      <td>329126</td>\n",
       "      <td>j</td>\n",
       "      <td>7782.0</td>\n",
       "      <td>3.0</td>\n",
       "      <td>89235</td>\n",
       "      <td>18998.0</td>\n",
       "      <td>215</td>\n",
       "    </tr>\n",
       "    <tr>\n",
       "      <th>141445</th>\n",
       "      <td>282334</td>\n",
       "      <td>p</td>\n",
       "      <td>435.0</td>\n",
       "      <td>5.0</td>\n",
       "      <td>119788</td>\n",
       "      <td>57048.0</td>\n",
       "      <td>1</td>\n",
       "    </tr>\n",
       "    <tr>\n",
       "      <th>141446</th>\n",
       "      <td>386629</td>\n",
       "      <td>o</td>\n",
       "      <td>176.0</td>\n",
       "      <td>3.0</td>\n",
       "      <td>86824</td>\n",
       "      <td>10193.0</td>\n",
       "      <td>10</td>\n",
       "    </tr>\n",
       "    <tr>\n",
       "      <th>141447</th>\n",
       "      <td>107271</td>\n",
       "      <td>a</td>\n",
       "      <td>648.0</td>\n",
       "      <td>2.0</td>\n",
       "      <td>102240</td>\n",
       "      <td>12785.0</td>\n",
       "      <td>3</td>\n",
       "    </tr>\n",
       "  </tbody>\n",
       "</table>\n",
       "<p>141448 rows × 7 columns</p>\n",
       "</div>"
      ],
      "text/plain": [
       "            ID Tag  Reputation  Answers  Username    Views  \\\n",
       "0       366953   a      5645.0      3.0     50652  33200.0   \n",
       "1        71864   c     24511.0      6.0     37685   2730.0   \n",
       "2       141692   i       927.0      1.0    135293  21167.0   \n",
       "3       316833   i        21.0      6.0    166998  18528.0   \n",
       "4       440445   i      4475.0     10.0     53504  57240.0   \n",
       "...        ...  ..         ...      ...       ...      ...   \n",
       "141443   47187   j      4681.0      4.0    152060   2469.0   \n",
       "141444  329126   j      7782.0      3.0     89235  18998.0   \n",
       "141445  282334   p       435.0      5.0    119788  57048.0   \n",
       "141446  386629   o       176.0      3.0     86824  10193.0   \n",
       "141447  107271   a       648.0      2.0    102240  12785.0   \n",
       "\n",
       "        how_frequent_user_is  \n",
       "0                          2  \n",
       "1                         37  \n",
       "2                          7  \n",
       "3                          2  \n",
       "4                          7  \n",
       "...                      ...  \n",
       "141443                     4  \n",
       "141444                   215  \n",
       "141445                     1  \n",
       "141446                    10  \n",
       "141447                     3  \n",
       "\n",
       "[141448 rows x 7 columns]"
      ]
     },
     "execution_count": 304,
     "metadata": {},
     "output_type": "execute_result"
    }
   ],
   "source": [
    "df_test"
   ]
  },
  {
   "cell_type": "code",
   "execution_count": 305,
   "id": "absent-intervention",
   "metadata": {
    "ExecuteTime": {
     "end_time": "2021-03-11T12:37:19.986193Z",
     "start_time": "2021-03-11T12:37:19.968190Z"
    }
   },
   "outputs": [
    {
     "data": {
      "text/html": [
       "<div>\n",
       "<style scoped>\n",
       "    .dataframe tbody tr th:only-of-type {\n",
       "        vertical-align: middle;\n",
       "    }\n",
       "\n",
       "    .dataframe tbody tr th {\n",
       "        vertical-align: top;\n",
       "    }\n",
       "\n",
       "    .dataframe thead th {\n",
       "        text-align: right;\n",
       "    }\n",
       "</style>\n",
       "<table border=\"1\" class=\"dataframe\">\n",
       "  <thead>\n",
       "    <tr style=\"text-align: right;\">\n",
       "      <th></th>\n",
       "      <th>ID</th>\n",
       "      <th>Tag</th>\n",
       "      <th>Reputation</th>\n",
       "      <th>Answers</th>\n",
       "      <th>Username</th>\n",
       "      <th>Views</th>\n",
       "      <th>Upvotes</th>\n",
       "      <th>how_frequent_user_is</th>\n",
       "    </tr>\n",
       "  </thead>\n",
       "  <tbody>\n",
       "    <tr>\n",
       "      <th>0</th>\n",
       "      <td>52664</td>\n",
       "      <td>a</td>\n",
       "      <td>3942.0</td>\n",
       "      <td>2.0</td>\n",
       "      <td>155623</td>\n",
       "      <td>7855.0</td>\n",
       "      <td>42.0</td>\n",
       "      <td>19.0</td>\n",
       "    </tr>\n",
       "    <tr>\n",
       "      <th>1</th>\n",
       "      <td>327662</td>\n",
       "      <td>a</td>\n",
       "      <td>26046.0</td>\n",
       "      <td>12.0</td>\n",
       "      <td>21781</td>\n",
       "      <td>55801.0</td>\n",
       "      <td>1175.0</td>\n",
       "      <td>2.0</td>\n",
       "    </tr>\n",
       "    <tr>\n",
       "      <th>2</th>\n",
       "      <td>468453</td>\n",
       "      <td>c</td>\n",
       "      <td>1358.0</td>\n",
       "      <td>4.0</td>\n",
       "      <td>56177</td>\n",
       "      <td>8067.0</td>\n",
       "      <td>60.0</td>\n",
       "      <td>1.0</td>\n",
       "    </tr>\n",
       "    <tr>\n",
       "      <th>3</th>\n",
       "      <td>96996</td>\n",
       "      <td>a</td>\n",
       "      <td>264.0</td>\n",
       "      <td>3.0</td>\n",
       "      <td>168793</td>\n",
       "      <td>27064.0</td>\n",
       "      <td>9.0</td>\n",
       "      <td>3.0</td>\n",
       "    </tr>\n",
       "    <tr>\n",
       "      <th>4</th>\n",
       "      <td>131465</td>\n",
       "      <td>c</td>\n",
       "      <td>4271.0</td>\n",
       "      <td>4.0</td>\n",
       "      <td>112223</td>\n",
       "      <td>13986.0</td>\n",
       "      <td>83.0</td>\n",
       "      <td>3.0</td>\n",
       "    </tr>\n",
       "    <tr>\n",
       "      <th>...</th>\n",
       "      <td>...</td>\n",
       "      <td>...</td>\n",
       "      <td>...</td>\n",
       "      <td>...</td>\n",
       "      <td>...</td>\n",
       "      <td>...</td>\n",
       "      <td>...</td>\n",
       "      <td>...</td>\n",
       "    </tr>\n",
       "    <tr>\n",
       "      <th>330040</th>\n",
       "      <td>339800</td>\n",
       "      <td>c</td>\n",
       "      <td>36.0</td>\n",
       "      <td>2.0</td>\n",
       "      <td>84919</td>\n",
       "      <td>1063.0</td>\n",
       "      <td>0.0</td>\n",
       "      <td>1.0</td>\n",
       "    </tr>\n",
       "    <tr>\n",
       "      <th>330041</th>\n",
       "      <td>253800</td>\n",
       "      <td>c</td>\n",
       "      <td>1649.0</td>\n",
       "      <td>2.0</td>\n",
       "      <td>76730</td>\n",
       "      <td>23319.0</td>\n",
       "      <td>73.0</td>\n",
       "      <td>2.0</td>\n",
       "    </tr>\n",
       "    <tr>\n",
       "      <th>330042</th>\n",
       "      <td>210756</td>\n",
       "      <td>c</td>\n",
       "      <td>6178.0</td>\n",
       "      <td>2.0</td>\n",
       "      <td>91701</td>\n",
       "      <td>2453.0</td>\n",
       "      <td>15.0</td>\n",
       "      <td>4.0</td>\n",
       "    </tr>\n",
       "    <tr>\n",
       "      <th>330043</th>\n",
       "      <td>56089</td>\n",
       "      <td>j</td>\n",
       "      <td>89.0</td>\n",
       "      <td>2.0</td>\n",
       "      <td>80245</td>\n",
       "      <td>2107.0</td>\n",
       "      <td>3.0</td>\n",
       "      <td>1.0</td>\n",
       "    </tr>\n",
       "    <tr>\n",
       "      <th>330044</th>\n",
       "      <td>300553</td>\n",
       "      <td>j</td>\n",
       "      <td>2001.0</td>\n",
       "      <td>4.0</td>\n",
       "      <td>154692</td>\n",
       "      <td>2554.0</td>\n",
       "      <td>37.0</td>\n",
       "      <td>10.0</td>\n",
       "    </tr>\n",
       "  </tbody>\n",
       "</table>\n",
       "<p>330045 rows × 8 columns</p>\n",
       "</div>"
      ],
      "text/plain": [
       "            ID Tag  Reputation  Answers  Username    Views  Upvotes  \\\n",
       "0        52664   a      3942.0      2.0    155623   7855.0     42.0   \n",
       "1       327662   a     26046.0     12.0     21781  55801.0   1175.0   \n",
       "2       468453   c      1358.0      4.0     56177   8067.0     60.0   \n",
       "3        96996   a       264.0      3.0    168793  27064.0      9.0   \n",
       "4       131465   c      4271.0      4.0    112223  13986.0     83.0   \n",
       "...        ...  ..         ...      ...       ...      ...      ...   \n",
       "330040  339800   c        36.0      2.0     84919   1063.0      0.0   \n",
       "330041  253800   c      1649.0      2.0     76730  23319.0     73.0   \n",
       "330042  210756   c      6178.0      2.0     91701   2453.0     15.0   \n",
       "330043   56089   j        89.0      2.0     80245   2107.0      3.0   \n",
       "330044  300553   j      2001.0      4.0    154692   2554.0     37.0   \n",
       "\n",
       "        how_frequent_user_is  \n",
       "0                       19.0  \n",
       "1                        2.0  \n",
       "2                        1.0  \n",
       "3                        3.0  \n",
       "4                        3.0  \n",
       "...                      ...  \n",
       "330040                   1.0  \n",
       "330041                   2.0  \n",
       "330042                   4.0  \n",
       "330043                   1.0  \n",
       "330044                  10.0  \n",
       "\n",
       "[330045 rows x 8 columns]"
      ]
     },
     "execution_count": 305,
     "metadata": {},
     "output_type": "execute_result"
    }
   ],
   "source": [
    "df_train"
   ]
  },
  {
   "cell_type": "code",
   "execution_count": 308,
   "id": "thermal-sugar",
   "metadata": {
    "ExecuteTime": {
     "end_time": "2021-03-11T12:39:11.452435Z",
     "start_time": "2021-03-11T12:39:11.422403Z"
    }
   },
   "outputs": [],
   "source": [
    "# remove username,  ID, \n",
    "\n",
    "df_test.drop(['Username','ID'], axis=1, inplace=True)\n",
    "df_train.drop(['Username','ID'], axis=1, inplace=True)"
   ]
  },
  {
   "cell_type": "code",
   "execution_count": 312,
   "id": "revolutionary-venue",
   "metadata": {
    "ExecuteTime": {
     "end_time": "2021-03-11T12:42:12.002412Z",
     "start_time": "2021-03-11T12:42:11.941381Z"
    }
   },
   "outputs": [],
   "source": [
    "df_train=pd.get_dummies(df_train, columns=['Tag'], drop_first=True)\n",
    "df_test=pd.get_dummies(df_test, columns=['Tag'], drop_first=True)"
   ]
  },
  {
   "cell_type": "code",
   "execution_count": 313,
   "id": "chicken-tragedy",
   "metadata": {
    "ExecuteTime": {
     "end_time": "2021-03-11T12:42:24.877822Z",
     "start_time": "2021-03-11T12:42:24.869813Z"
    }
   },
   "outputs": [
    {
     "data": {
      "text/plain": [
       "((330045, 14), (141448, 13))"
      ]
     },
     "execution_count": 313,
     "metadata": {},
     "output_type": "execute_result"
    }
   ],
   "source": [
    "df_train.shape, df_test.shape"
   ]
  },
  {
   "cell_type": "code",
   "execution_count": 314,
   "id": "irish-essex",
   "metadata": {
    "ExecuteTime": {
     "end_time": "2021-03-11T12:42:46.541480Z",
     "start_time": "2021-03-11T12:42:46.528483Z"
    }
   },
   "outputs": [],
   "source": [
    "X = df_train.drop('Upvotes', axis=1)"
   ]
  },
  {
   "cell_type": "code",
   "execution_count": 315,
   "id": "african-nerve",
   "metadata": {
    "ExecuteTime": {
     "end_time": "2021-03-11T12:42:53.845994Z",
     "start_time": "2021-03-11T12:42:53.840992Z"
    }
   },
   "outputs": [],
   "source": [
    "y = df_train.Upvotes"
   ]
  },
  {
   "cell_type": "code",
   "execution_count": 319,
   "id": "daily-interstate",
   "metadata": {
    "ExecuteTime": {
     "end_time": "2021-03-11T12:44:29.764659Z",
     "start_time": "2021-03-11T12:44:29.748612Z"
    }
   },
   "outputs": [
    {
     "data": {
      "text/plain": [
       "(Index(['Reputation', 'Answers', 'Views', 'how_frequent_user_is', 'Tag_c',\n",
       "        'Tag_h', 'Tag_i', 'Tag_j', 'Tag_o', 'Tag_p', 'Tag_r', 'Tag_s', 'Tag_x'],\n",
       "       dtype='object'),\n",
       " Index(['Reputation', 'Answers', 'Views', 'how_frequent_user_is', 'Tag_c',\n",
       "        'Tag_h', 'Tag_i', 'Tag_j', 'Tag_o', 'Tag_p', 'Tag_r', 'Tag_s', 'Tag_x'],\n",
       "       dtype='object'))"
      ]
     },
     "execution_count": 319,
     "metadata": {},
     "output_type": "execute_result"
    }
   ],
   "source": [
    "X.columns, df_test.columns #' sequence is same'"
   ]
  },
  {
   "cell_type": "code",
   "execution_count": 320,
   "id": "supposed-horizon",
   "metadata": {
    "ExecuteTime": {
     "end_time": "2021-03-11T12:44:38.601564Z",
     "start_time": "2021-03-11T12:44:38.542373Z"
    }
   },
   "outputs": [],
   "source": [
    "X_train, X_test, y_train, y_test = train_test_split(X, y, test_size=0.33, random_state=42)"
   ]
  },
  {
   "cell_type": "code",
   "execution_count": 321,
   "id": "solid-mitchell",
   "metadata": {
    "ExecuteTime": {
     "end_time": "2021-03-11T12:48:08.331551Z",
     "start_time": "2021-03-11T12:46:08.903550Z"
    }
   },
   "outputs": [
    {
     "data": {
      "text/plain": [
       "XGBRegressor(base_score=0.5, booster='gbtree', colsample_bylevel=1,\n",
       "             colsample_bynode=1, colsample_bytree=1, gamma=0, gpu_id=-1,\n",
       "             importance_type='gain', interaction_constraints='',\n",
       "             learning_rate=0.300000012, max_delta_step=0, max_depth=6,\n",
       "             min_child_weight=1, missing=nan, monotone_constraints='()',\n",
       "             n_estimators=100, n_jobs=8, num_parallel_tree=1, random_state=0,\n",
       "             reg_alpha=0, reg_lambda=1, scale_pos_weight=1, subsample=1,\n",
       "             tree_method='exact', validate_parameters=1, verbosity=None)"
      ]
     },
     "execution_count": 321,
     "metadata": {},
     "output_type": "execute_result"
    }
   ],
   "source": [
    "lr = LinearRegression()\n",
    "rf = RandomForestRegressor()\n",
    "xg = XGBRegressor()\n",
    "\n",
    "lr.fit(X_train,y_train)\n",
    "rf.fit(X_train,y_train)\n",
    "xg.fit(X_train,y_train)"
   ]
  },
  {
   "cell_type": "code",
   "execution_count": 322,
   "id": "compound-lighting",
   "metadata": {
    "ExecuteTime": {
     "end_time": "2021-03-11T12:48:12.860549Z",
     "start_time": "2021-03-11T12:48:08.333551Z"
    }
   },
   "outputs": [],
   "source": [
    "lr_pred= lr.predict(X_test)\n",
    "rf_pred = rf.predict(X_test)\n",
    "xg_pred = xg.predict(X_test)"
   ]
  },
  {
   "cell_type": "code",
   "execution_count": 323,
   "id": "naval-ballot",
   "metadata": {
    "ExecuteTime": {
     "end_time": "2021-03-11T12:48:12.875551Z",
     "start_time": "2021-03-11T12:48:12.862551Z"
    }
   },
   "outputs": [
    {
     "data": {
      "text/plain": [
       "3314.550523094266"
      ]
     },
     "execution_count": 323,
     "metadata": {},
     "output_type": "execute_result"
    }
   ],
   "source": [
    "# linear regression\n",
    "np.sqrt(mean_squared_error(y_test,lr_pred))"
   ]
  },
  {
   "cell_type": "code",
   "execution_count": 324,
   "id": "incorporated-twist",
   "metadata": {
    "ExecuteTime": {
     "end_time": "2021-03-11T12:48:12.891551Z",
     "start_time": "2021-03-11T12:48:12.877553Z"
    }
   },
   "outputs": [
    {
     "data": {
      "text/plain": [
       "1298.0747023975123"
      ]
     },
     "execution_count": 324,
     "metadata": {},
     "output_type": "execute_result"
    }
   ],
   "source": [
    "# random forest\n",
    "np.sqrt(mean_squared_error(y_test,rf_pred))"
   ]
  },
  {
   "cell_type": "code",
   "execution_count": 325,
   "id": "corporate-reliance",
   "metadata": {
    "ExecuteTime": {
     "end_time": "2021-03-11T12:48:12.907551Z",
     "start_time": "2021-03-11T12:48:12.893554Z"
    }
   },
   "outputs": [
    {
     "data": {
      "text/plain": [
       "1450.277772876035"
      ]
     },
     "execution_count": 325,
     "metadata": {},
     "output_type": "execute_result"
    }
   ],
   "source": [
    "# xgboost\n",
    "np.sqrt(mean_squared_error(y_test,xg_pred))"
   ]
  },
  {
   "cell_type": "markdown",
   "id": "suspected-ethiopia",
   "metadata": {},
   "source": [
    "### Hyperparameter tuning <a id = 'hyper'>"
   ]
  },
  {
   "cell_type": "code",
   "execution_count": 327,
   "id": "spiritual-difficulty",
   "metadata": {
    "ExecuteTime": {
     "end_time": "2021-03-11T13:42:20.974757Z",
     "start_time": "2021-03-11T13:20:21.754468Z"
    }
   },
   "outputs": [
    {
     "name": "stdout",
     "output_type": "stream",
     "text": [
      "Fitting 5 folds for each of 20 candidates, totalling 100 fits\n"
     ]
    },
    {
     "name": "stderr",
     "output_type": "stream",
     "text": [
      "[Parallel(n_jobs=4)]: Using backend LokyBackend with 4 concurrent workers.\n",
      "[Parallel(n_jobs=4)]: Done  10 tasks      | elapsed:   29.8s\n",
      "[Parallel(n_jobs=4)]: Done  64 tasks      | elapsed: 16.0min\n",
      "[Parallel(n_jobs=4)]: Done 100 out of 100 | elapsed: 21.7min finished\n"
     ]
    },
    {
     "data": {
      "text/plain": [
       "RandomizedSearchCV(cv=5,\n",
       "                   estimator=XGBRegressor(base_score=None, booster=None,\n",
       "                                          colsample_bylevel=None,\n",
       "                                          colsample_bynode=None,\n",
       "                                          colsample_bytree=None, gamma=None,\n",
       "                                          gpu_id=None, importance_type='gain',\n",
       "                                          interaction_constraints=None,\n",
       "                                          learning_rate=None,\n",
       "                                          max_delta_step=None, max_depth=None,\n",
       "                                          min_child_weight=None, missing=nan,\n",
       "                                          monotone_constraints=None,\n",
       "                                          n_estimators=100, n...\n",
       "                                          tree_method=None,\n",
       "                                          validate_parameters=None,\n",
       "                                          verbosity=None),\n",
       "                   n_iter=20, n_jobs=4,\n",
       "                   param_distributions={'base_score': [0.2, 0.6, 1],\n",
       "                                        'booster': ['gbtree', 'gblinear'],\n",
       "                                        'learning_rate': [0.02, 0.1, 0.2],\n",
       "                                        'max_depth': [2, 9, 15],\n",
       "                                        'min_child_weight': [1, 3, 6],\n",
       "                                        'n_estimators': [100, 600, 1500]},\n",
       "                   random_state=42, return_train_score=True,\n",
       "                   scoring='neg_root_mean_squared_error', verbose=5)"
      ]
     },
     "execution_count": 327,
     "metadata": {},
     "output_type": "execute_result"
    }
   ],
   "source": [
    "# Lets try with randomizedsearchCV\n",
    "from sklearn.model_selection import RandomizedSearchCV\n",
    "\n",
    "\n",
    "model = XGBRegressor()\n",
    "\n",
    "n_estimators = [100,600,1500]\n",
    "max_depth = [2,9,15]\n",
    "booster = ['gbtree', 'gblinear']\n",
    "learning_rate = [0.02,0.1,0.2]\n",
    "min_child_weight = [1,3,6]\n",
    "base_score = [0.2,0.6,1]\n",
    "\n",
    "hyperparameter_grid = {\n",
    "    'n_estimators' : n_estimators,\n",
    "    'max_depth' : max_depth,\n",
    "    'learning_rate' : learning_rate,\n",
    "    'min_child_weight':min_child_weight,\n",
    "    'booster': booster,\n",
    "    'base_score': base_score   \n",
    "    \n",
    "}\n",
    "\n",
    "\n",
    "random_cv = RandomizedSearchCV(estimator=model,param_distributions=hyperparameter_grid,\n",
    "                              cv= 5, n_iter = 20,\n",
    "                              scoring = 'neg_root_mean_squared_error',\n",
    "                              n_jobs = 4,\n",
    "                              verbose = 5,\n",
    "                              return_train_score = True,\n",
    "                              random_state= 42)\n",
    "\n",
    "random_cv.fit(X_train,y_train)"
   ]
  },
  {
   "cell_type": "code",
   "execution_count": 328,
   "id": "selected-popularity",
   "metadata": {
    "ExecuteTime": {
     "end_time": "2021-03-11T19:38:53.124488Z",
     "start_time": "2021-03-11T19:38:53.104456Z"
    }
   },
   "outputs": [
    {
     "data": {
      "text/plain": [
       "XGBRegressor(base_score=0.6, booster='gbtree', colsample_bylevel=1,\n",
       "             colsample_bynode=1, colsample_bytree=1, gamma=0, gpu_id=-1,\n",
       "             importance_type='gain', interaction_constraints='',\n",
       "             learning_rate=0.1, max_delta_step=0, max_depth=2,\n",
       "             min_child_weight=3, missing=nan, monotone_constraints='()',\n",
       "             n_estimators=600, n_jobs=8, num_parallel_tree=1, random_state=0,\n",
       "             reg_alpha=0, reg_lambda=1, scale_pos_weight=1, subsample=1,\n",
       "             tree_method='exact', validate_parameters=1, verbosity=None)"
      ]
     },
     "execution_count": 328,
     "metadata": {},
     "output_type": "execute_result"
    }
   ],
   "source": [
    "random_cv.best_estimator_"
   ]
  },
  {
   "cell_type": "code",
   "execution_count": 330,
   "id": "governing-ready",
   "metadata": {
    "ExecuteTime": {
     "end_time": "2021-03-11T19:39:26.225214Z",
     "start_time": "2021-03-11T19:39:26.213171Z"
    }
   },
   "outputs": [],
   "source": [
    "# repeating the XGB with best estimators from randomsearchcv\n",
    "\n",
    "model = XGBRegressor(base_score=0.6, booster='gbtree', colsample_bylevel=1,\n",
    "             colsample_bynode=1, colsample_bytree=1, gamma=0, gpu_id=-1,\n",
    "             importance_type='gain', interaction_constraints='',\n",
    "             learning_rate=0.1, max_delta_step=0, max_depth=2,\n",
    "             min_child_weight=3, missing=np.nan, monotone_constraints='()',\n",
    "             n_estimators=600, n_jobs=8, num_parallel_tree=1, random_state=0,\n",
    "             reg_alpha=0, reg_lambda=1, scale_pos_weight=1, subsample=1,\n",
    "             tree_method='exact', validate_parameters=1, verbosity=None)"
   ]
  },
  {
   "cell_type": "code",
   "execution_count": 331,
   "id": "academic-liabilities",
   "metadata": {
    "ExecuteTime": {
     "end_time": "2021-03-11T19:39:41.998380Z",
     "start_time": "2021-03-11T19:39:30.246382Z"
    }
   },
   "outputs": [
    {
     "data": {
      "text/plain": [
       "0.9180352946269834"
      ]
     },
     "execution_count": 331,
     "metadata": {},
     "output_type": "execute_result"
    }
   ],
   "source": [
    "model.fit(X_train, y_train)\n",
    "model.score(X_test,y_test)"
   ]
  },
  {
   "cell_type": "code",
   "execution_count": 339,
   "id": "fourth-selling",
   "metadata": {
    "ExecuteTime": {
     "end_time": "2021-03-11T19:43:43.482828Z",
     "start_time": "2021-03-11T19:43:43.364857Z"
    }
   },
   "outputs": [],
   "source": [
    "y_pred = model.predict(X_test)"
   ]
  },
  {
   "cell_type": "code",
   "execution_count": 340,
   "id": "neural-interview",
   "metadata": {
    "ExecuteTime": {
     "end_time": "2021-03-11T19:43:58.245669Z",
     "start_time": "2021-03-11T19:43:58.233670Z"
    }
   },
   "outputs": [
    {
     "data": {
      "text/plain": [
       "1085.5274691728641"
      ]
     },
     "execution_count": 340,
     "metadata": {},
     "output_type": "execute_result"
    }
   ],
   "source": [
    "np.sqrt(mean_squared_error(y_test,y_pred))\n",
    "# df_pred.shape,y_test.shape,X_test.shape"
   ]
  },
  {
   "cell_type": "code",
   "execution_count": 332,
   "id": "aggregate-kidney",
   "metadata": {
    "ExecuteTime": {
     "end_time": "2021-03-11T19:39:48.875384Z",
     "start_time": "2021-03-11T19:39:48.748384Z"
    }
   },
   "outputs": [],
   "source": [
    "df_pred = model.predict(df_test)"
   ]
  },
  {
   "cell_type": "code",
   "execution_count": 333,
   "id": "ruled-exploration",
   "metadata": {
    "ExecuteTime": {
     "end_time": "2021-03-11T19:41:31.094825Z",
     "start_time": "2021-03-11T19:41:28.234578Z"
    }
   },
   "outputs": [],
   "source": [
    "df_final= pd.DataFrame([pd.read_csv(\"test_8i3B3FC.csv\")['ID'],df_pred])\n",
    "df_final=df_final.T\n",
    "df_final.columns = ['ID','Upvotes']\n",
    "df_final.to_csv('hp_results.csv',index=False)"
   ]
  },
  {
   "cell_type": "markdown",
   "id": "unique-sponsorship",
   "metadata": {},
   "source": [
    "# 3rd try: \n",
    "- normalizing the data"
   ]
  },
  {
   "cell_type": "code",
   "execution_count": 423,
   "id": "delayed-effectiveness",
   "metadata": {
    "ExecuteTime": {
     "end_time": "2021-03-11T20:22:20.031047Z",
     "start_time": "2021-03-11T20:22:20.015333Z"
    }
   },
   "outputs": [],
   "source": [
    "import warnings\n",
    "warnings.filterwarnings(\"ignore\") "
   ]
  },
  {
   "cell_type": "code",
   "execution_count": 409,
   "id": "certain-issue",
   "metadata": {
    "ExecuteTime": {
     "end_time": "2021-03-11T20:18:47.389248Z",
     "start_time": "2021-03-11T20:18:47.010088Z"
    }
   },
   "outputs": [],
   "source": [
    "df_train = pd.read_csv(\"train_NIR5Yl1.csv\")\n",
    "df_test = pd.read_csv(\"test_8i3B3FC.csv\")"
   ]
  },
  {
   "cell_type": "code",
   "execution_count": 410,
   "id": "romance-country",
   "metadata": {
    "ExecuteTime": {
     "end_time": "2021-03-11T20:18:47.538336Z",
     "start_time": "2021-03-11T20:18:47.499495Z"
    }
   },
   "outputs": [
    {
     "data": {
      "text/plain": [
       "ID            0\n",
       "Tag           0\n",
       "Reputation    0\n",
       "Answers       0\n",
       "Username      0\n",
       "Views         0\n",
       "dtype: int64"
      ]
     },
     "execution_count": 410,
     "metadata": {},
     "output_type": "execute_result"
    }
   ],
   "source": [
    "df_test.isnull().sum() # nonull values"
   ]
  },
  {
   "cell_type": "code",
   "execution_count": 411,
   "id": "familiar-little",
   "metadata": {
    "ExecuteTime": {
     "end_time": "2021-03-11T20:18:48.314998Z",
     "start_time": "2021-03-11T20:18:48.205612Z"
    }
   },
   "outputs": [],
   "source": [
    "df_train = pd.get_dummies(df_train, columns=['Tag'], drop_first=True)\n",
    "df_test = pd.get_dummies(df_test, columns=['Tag'], drop_first=True)"
   ]
  },
  {
   "cell_type": "code",
   "execution_count": 412,
   "id": "vital-identifier",
   "metadata": {
    "ExecuteTime": {
     "end_time": "2021-03-11T20:18:56.696424Z",
     "start_time": "2021-03-11T20:18:56.644252Z"
    }
   },
   "outputs": [],
   "source": [
    "df_train.drop(columns=['Username','ID'], inplace=True)\n",
    "df_test.drop(columns=['Username','ID'],inplace=True)"
   ]
  },
  {
   "cell_type": "code",
   "execution_count": 413,
   "id": "thrown-exhaust",
   "metadata": {
    "ExecuteTime": {
     "end_time": "2021-03-11T20:19:02.102514Z",
     "start_time": "2021-03-11T20:19:02.087334Z"
    }
   },
   "outputs": [],
   "source": [
    "X = df_train.drop(columns=['Upvotes'])\n",
    "y = df_train.Upvotes"
   ]
  },
  {
   "cell_type": "code",
   "execution_count": 415,
   "id": "prescription-buddy",
   "metadata": {
    "ExecuteTime": {
     "end_time": "2021-03-11T20:19:40.908326Z",
     "start_time": "2021-03-11T20:19:40.798034Z"
    }
   },
   "outputs": [],
   "source": [
    "X_train, X_test, y_train, y_test = train_test_split(X, y, test_size=0.2, random_state=42)"
   ]
  },
  {
   "cell_type": "code",
   "execution_count": 416,
   "id": "expanded-rhythm",
   "metadata": {
    "ExecuteTime": {
     "end_time": "2021-03-11T20:19:42.517021Z",
     "start_time": "2021-03-11T20:19:42.501861Z"
    }
   },
   "outputs": [
    {
     "data": {
      "text/plain": [
       "((330045, 12), (141448, 12))"
      ]
     },
     "execution_count": 416,
     "metadata": {},
     "output_type": "execute_result"
    }
   ],
   "source": [
    "X.shape, df_test.shape # features in both should be same"
   ]
  },
  {
   "cell_type": "code",
   "execution_count": 405,
   "id": "strange-beauty",
   "metadata": {
    "ExecuteTime": {
     "end_time": "2021-03-11T20:16:37.605353Z",
     "start_time": "2021-03-11T20:16:37.598954Z"
    }
   },
   "outputs": [],
   "source": [
    "from sklearn.preprocessing import MinMaxScaler, StandardScaler\n"
   ]
  },
  {
   "cell_type": "code",
   "execution_count": 406,
   "id": "general-textbook",
   "metadata": {
    "ExecuteTime": {
     "end_time": "2021-03-11T20:16:39.103825Z",
     "start_time": "2021-03-11T20:16:39.095050Z"
    }
   },
   "outputs": [],
   "source": [
    "mm = MinMaxScaler()\n",
    "ss = StandardScaler()"
   ]
  },
  {
   "cell_type": "code",
   "execution_count": 407,
   "id": "existing-bride",
   "metadata": {
    "ExecuteTime": {
     "end_time": "2021-03-11T20:16:50.401768Z",
     "start_time": "2021-03-11T20:16:50.390306Z"
    }
   },
   "outputs": [
    {
     "data": {
      "text/plain": [
       "Index(['Reputation', 'Answers', 'Views', 'Tag_c', 'Tag_h', 'Tag_i', 'Tag_j',\n",
       "       'Tag_o', 'Tag_p', 'Tag_r', 'Tag_s', 'Tag_x'],\n",
       "      dtype='object')"
      ]
     },
     "execution_count": 407,
     "metadata": {},
     "output_type": "execute_result"
    }
   ],
   "source": [
    "X.columns"
   ]
  },
  {
   "cell_type": "code",
   "execution_count": 424,
   "id": "wrong-encounter",
   "metadata": {
    "ExecuteTime": {
     "end_time": "2021-03-11T20:22:24.932022Z",
     "start_time": "2021-03-11T20:22:24.692916Z"
    }
   },
   "outputs": [],
   "source": [
    "X_train[['Reputation','Answers','Views']] = mm.fit_transform(X_train[['Reputation','Answers','Views']])\n",
    "X_test[['Reputation','Answers','Views']] = mm.transform(X_test[['Reputation','Answers','Views']])"
   ]
  },
  {
   "cell_type": "code",
   "execution_count": 420,
   "id": "based-pixel",
   "metadata": {
    "ExecuteTime": {
     "end_time": "2021-03-11T20:20:45.957926Z",
     "start_time": "2021-03-11T20:20:45.930804Z"
    }
   },
   "outputs": [
    {
     "data": {
      "text/html": [
       "<div>\n",
       "<style scoped>\n",
       "    .dataframe tbody tr th:only-of-type {\n",
       "        vertical-align: middle;\n",
       "    }\n",
       "\n",
       "    .dataframe tbody tr th {\n",
       "        vertical-align: top;\n",
       "    }\n",
       "\n",
       "    .dataframe thead th {\n",
       "        text-align: right;\n",
       "    }\n",
       "</style>\n",
       "<table border=\"1\" class=\"dataframe\">\n",
       "  <thead>\n",
       "    <tr style=\"text-align: right;\">\n",
       "      <th></th>\n",
       "      <th>Reputation</th>\n",
       "      <th>Answers</th>\n",
       "      <th>Views</th>\n",
       "      <th>Tag_c</th>\n",
       "      <th>Tag_h</th>\n",
       "      <th>Tag_i</th>\n",
       "      <th>Tag_j</th>\n",
       "      <th>Tag_o</th>\n",
       "      <th>Tag_p</th>\n",
       "      <th>Tag_r</th>\n",
       "      <th>Tag_s</th>\n",
       "      <th>Tag_x</th>\n",
       "    </tr>\n",
       "  </thead>\n",
       "  <tbody>\n",
       "    <tr>\n",
       "      <th>72869</th>\n",
       "      <td>0.000025</td>\n",
       "      <td>0.092105</td>\n",
       "      <td>0.001442</td>\n",
       "      <td>0</td>\n",
       "      <td>0</td>\n",
       "      <td>0</td>\n",
       "      <td>0</td>\n",
       "      <td>0</td>\n",
       "      <td>0</td>\n",
       "      <td>0</td>\n",
       "      <td>0</td>\n",
       "      <td>0</td>\n",
       "    </tr>\n",
       "    <tr>\n",
       "      <th>224176</th>\n",
       "      <td>0.001748</td>\n",
       "      <td>0.078947</td>\n",
       "      <td>0.002360</td>\n",
       "      <td>1</td>\n",
       "      <td>0</td>\n",
       "      <td>0</td>\n",
       "      <td>0</td>\n",
       "      <td>0</td>\n",
       "      <td>0</td>\n",
       "      <td>0</td>\n",
       "      <td>0</td>\n",
       "      <td>0</td>\n",
       "    </tr>\n",
       "    <tr>\n",
       "      <th>86663</th>\n",
       "      <td>0.005337</td>\n",
       "      <td>0.013158</td>\n",
       "      <td>0.002898</td>\n",
       "      <td>1</td>\n",
       "      <td>0</td>\n",
       "      <td>0</td>\n",
       "      <td>0</td>\n",
       "      <td>0</td>\n",
       "      <td>0</td>\n",
       "      <td>0</td>\n",
       "      <td>0</td>\n",
       "      <td>0</td>\n",
       "    </tr>\n",
       "    <tr>\n",
       "      <th>206647</th>\n",
       "      <td>0.000624</td>\n",
       "      <td>0.078947</td>\n",
       "      <td>0.066844</td>\n",
       "      <td>1</td>\n",
       "      <td>0</td>\n",
       "      <td>0</td>\n",
       "      <td>0</td>\n",
       "      <td>0</td>\n",
       "      <td>0</td>\n",
       "      <td>0</td>\n",
       "      <td>0</td>\n",
       "      <td>0</td>\n",
       "    </tr>\n",
       "    <tr>\n",
       "      <th>255357</th>\n",
       "      <td>0.000710</td>\n",
       "      <td>0.026316</td>\n",
       "      <td>0.000615</td>\n",
       "      <td>0</td>\n",
       "      <td>0</td>\n",
       "      <td>0</td>\n",
       "      <td>0</td>\n",
       "      <td>0</td>\n",
       "      <td>1</td>\n",
       "      <td>0</td>\n",
       "      <td>0</td>\n",
       "      <td>0</td>\n",
       "    </tr>\n",
       "  </tbody>\n",
       "</table>\n",
       "</div>"
      ],
      "text/plain": [
       "        Reputation   Answers     Views  Tag_c  Tag_h  Tag_i  Tag_j  Tag_o  \\\n",
       "72869     0.000025  0.092105  0.001442      0      0      0      0      0   \n",
       "224176    0.001748  0.078947  0.002360      1      0      0      0      0   \n",
       "86663     0.005337  0.013158  0.002898      1      0      0      0      0   \n",
       "206647    0.000624  0.078947  0.066844      1      0      0      0      0   \n",
       "255357    0.000710  0.026316  0.000615      0      0      0      0      0   \n",
       "\n",
       "        Tag_p  Tag_r  Tag_s  Tag_x  \n",
       "72869       0      0      0      0  \n",
       "224176      0      0      0      0  \n",
       "86663       0      0      0      0  \n",
       "206647      0      0      0      0  \n",
       "255357      1      0      0      0  "
      ]
     },
     "execution_count": 420,
     "metadata": {},
     "output_type": "execute_result"
    }
   ],
   "source": [
    "X_train.head()"
   ]
  },
  {
   "cell_type": "code",
   "execution_count": 395,
   "id": "motivated-evaluation",
   "metadata": {
    "ExecuteTime": {
     "end_time": "2021-03-11T20:11:17.633464Z",
     "start_time": "2021-03-11T20:11:13.949984Z"
    }
   },
   "outputs": [
    {
     "data": {
      "text/plain": [
       "<AxesSubplot:ylabel='Density'>"
      ]
     },
     "execution_count": 395,
     "metadata": {},
     "output_type": "execute_result"
    },
    {
     "data": {
      "image/png": "[encoded data removed]",
      "text/plain": [
       "<Figure size 432x288 with 1 Axes>"
      ]
     },
     "metadata": {
      "needs_background": "light"
     },
     "output_type": "display_data"
    }
   ],
   "source": [
    "sns.kdeplot(mm.fit_transform(df_train[['Reputation']]).ravel())"
   ]
  },
  {
   "cell_type": "code",
   "execution_count": null,
   "id": "quality-supervisor",
   "metadata": {
    "ExecuteTime": {
     "start_time": "2021-03-11T20:24:12.238Z"
    }
   },
   "outputs": [
    {
     "name": "stdout",
     "output_type": "stream",
     "text": [
      "Fitting 5 folds for each of 10 candidates, totalling 50 fits\n"
     ]
    },
    {
     "name": "stderr",
     "output_type": "stream",
     "text": [
      "[Parallel(n_jobs=4)]: Using backend LokyBackend with 4 concurrent workers.\n",
      "[Parallel(n_jobs=4)]: Done  10 tasks      | elapsed:  1.9min\n"
     ]
    }
   ],
   "source": [
    "# Lets try with randomizedsearchCV\n",
    "from sklearn.model_selection import RandomizedSearchCV\n",
    "\n",
    "\n",
    "model = XGBRegressor()\n",
    "\n",
    "n_estimators = [100,600,1500]\n",
    "max_depth = [2,9,15]\n",
    "booster = ['gbtree']\n",
    "learning_rate = [0.02,0.1,0.2]\n",
    "min_child_weight = [1,3,6]\n",
    "base_score = [0.2,0.6,1]\n",
    "\n",
    "hyperparameter_grid = {\n",
    "    'n_estimators' : n_estimators,\n",
    "    'max_depth' : max_depth,\n",
    "    'learning_rate' : learning_rate,\n",
    "    'min_child_weight':min_child_weight,\n",
    "    'booster': booster,\n",
    "    'base_score': base_score   \n",
    "    \n",
    "}\n",
    "\n",
    "\n",
    "random_cv = RandomizedSearchCV(estimator=model,param_distributions=hyperparameter_grid,\n",
    "                              cv= 5, n_iter = 10,\n",
    "                              scoring = 'neg_root_mean_squared_error',\n",
    "                              n_jobs = 4,\n",
    "                              verbose = 5,\n",
    "                              return_train_score = True,\n",
    "                              random_state= 42)\n",
    "\n",
    "random_cv.fit(X_train,y_train)"
   ]
  },
  {
   "cell_type": "code",
   "execution_count": null,
   "id": "excited-colonial",
   "metadata": {
    "ExecuteTime": {
     "start_time": "2021-03-11T20:24:25.294Z"
    }
   },
   "outputs": [],
   "source": [
    "random_cv.best_estimator_"
   ]
  },
  {
   "cell_type": "code",
   "execution_count": null,
   "id": "decimal-chrome",
   "metadata": {},
   "outputs": [],
   "source": [
    "model = XGBRegressor(base_score=0.6, booster='gbtree', colsample_bylevel=1,\n",
    "             colsample_bynode=1, colsample_bytree=1, gamma=0, gpu_id=-1,\n",
    "             importance_type='gain', interaction_constraints='',\n",
    "             learning_rate=0.1, max_delta_step=0, max_depth=2,\n",
    "             min_child_weight=3, missing=np.nan, monotone_constraints='()',\n",
    "             n_estimators=600, n_jobs=8, num_parallel_tree=1, random_state=0,\n",
    "             reg_alpha=0, reg_lambda=1, scale_pos_weight=1, subsample=1,\n",
    "             tree_method='exact', validate_parameters=1, verbosity=None)"
   ]
  },
  {
   "cell_type": "code",
   "execution_count": null,
   "id": "urban-happiness",
   "metadata": {},
   "outputs": [],
   "source": [
    "model.fit(X_train, y_train)\n",
    "model.score(X_test,y_test"
   ]
  },
  {
   "cell_type": "code",
   "execution_count": null,
   "id": "curious-liver",
   "metadata": {},
   "outputs": [],
   "source": [
    "y_pred = model.predict(X_test)"
   ]
  },
  {
   "cell_type": "code",
   "execution_count": null,
   "id": "deluxe-sword",
   "metadata": {},
   "outputs": [],
   "source": [
    "np.sqrt(mean_squared_error(y_test,y_pred))\n"
   ]
  },
  {
   "cell_type": "code",
   "execution_count": null,
   "id": "personalized-aerospace",
   "metadata": {},
   "outputs": [],
   "source": [
    "df_pred = model.predict(df_test)"
   ]
  },
  {
   "cell_type": "code",
   "execution_count": null,
   "id": "passing-research",
   "metadata": {},
   "outputs": [],
   "source": [
    "df_final= pd.DataFrame([pd.read_csv(\"test_8i3B3FC.csv\")['ID'],df_pred])\n",
    "df_final=df_final.T\n",
    "df_final.columns = ['ID','Upvotes']\n",
    "df_final.to_csv('mm_results.csv',index=False)"
   ]
  }
 ],
 "metadata": {
  "kernelspec": {
   "display_name": "Python 3",
   "language": "python",
   "name": "python3"
  },
  "language_info": {
   "codemirror_mode": {
    "name": "ipython",
    "version": 3
   },
   "file_extension": ".py",
   "mimetype": "text/x-python",
   "name": "python",
   "nbconvert_exporter": "python",
   "pygments_lexer": "ipython3",
   "version": "3.8.5"
  }
 },
 "nbformat": 4,
 "nbformat_minor": 5
}
