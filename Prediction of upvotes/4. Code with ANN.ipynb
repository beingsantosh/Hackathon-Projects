{
 "cells": [
  {
   "cell_type": "markdown",
   "id": "formed-photographer",
   "metadata": {},
   "source": [
    ">**Problem Statement:** An online question and answer platform has hired you as a data scientist to identify the best question authors on the platform. This identification will bring more insight into increasing the user engagement. Given the tag of the question, number of views received, number of answers, username and reputation of the question author, the problem requires you to predict the upvote count that the question will receive."
   ]
  },
  {
   "cell_type": "markdown",
   "id": "national-memory",
   "metadata": {},
   "source": [
    "# With log transformation"
   ]
  },
  {
   "cell_type": "code",
   "execution_count": 51,
   "id": "virtual-mauritius",
   "metadata": {
    "ExecuteTime": {
     "end_time": "2021-03-13T12:20:44.015127Z",
     "start_time": "2021-03-13T12:20:44.001128Z"
    }
   },
   "outputs": [],
   "source": [
    "import pandas as pd\n",
    "import numpy as np\n",
    "import matplotlib.pyplot as plt\n",
    "import seaborn as sns\n",
    "from scipy.stats import skew\n",
    "from scipy.stats import kurtosis\n",
    "\n",
    "from sklearn.model_selection import train_test_split\n",
    "from sklearn.ensemble import RandomForestRegressor\n",
    "from sklearn.metrics import mean_squared_error, r2_score\n",
    "from xgboost import XGBRegressor\n",
    "\n",
    "from tensorflow.keras.models import Sequential\n",
    "from tensorflow.keras.layers import Dense, LeakyReLU, PReLU, ELU, Dropout\n",
    "from tensorflow.keras.callbacks import EarlyStopping\n",
    "from tensorflow.keras import regularizers\n",
    "\n",
    "from sklearn.preprocessing import MinMaxScaler, StandardScaler, RobustScaler"
   ]
  },
  {
   "cell_type": "code",
   "execution_count": 2,
   "id": "synthetic-winning",
   "metadata": {
    "ExecuteTime": {
     "end_time": "2021-03-13T08:18:37.084908Z",
     "start_time": "2021-03-13T08:18:36.854455Z"
    }
   },
   "outputs": [],
   "source": [
    "df_train = pd.read_csv(\"train_NIR5Yl1.csv\")\n",
    "df_test = pd.read_csv(\"test_8i3B3FC.csv\")"
   ]
  },
  {
   "cell_type": "code",
   "execution_count": 3,
   "id": "scheduled-hostel",
   "metadata": {
    "ExecuteTime": {
     "end_time": "2021-03-13T08:18:37.099703Z",
     "start_time": "2021-03-13T08:18:37.088703Z"
    }
   },
   "outputs": [],
   "source": [
    "# df_train.Upvotes.plot(kind='kde')"
   ]
  },
  {
   "cell_type": "code",
   "execution_count": 4,
   "id": "imposed-puppy",
   "metadata": {
    "ExecuteTime": {
     "end_time": "2021-03-13T08:18:37.115704Z",
     "start_time": "2021-03-13T08:18:37.101700Z"
    }
   },
   "outputs": [],
   "source": [
    "# independent variables\n",
    "# df_train.Reputation.plot(kind='kde')"
   ]
  },
  {
   "cell_type": "code",
   "execution_count": 5,
   "id": "deadly-passing",
   "metadata": {
    "ExecuteTime": {
     "end_time": "2021-03-13T08:18:37.131750Z",
     "start_time": "2021-03-13T08:18:37.116722Z"
    }
   },
   "outputs": [
    {
     "data": {
      "text/plain": [
       "Index(['ID', 'Tag', 'Reputation', 'Answers', 'Username', 'Views', 'Upvotes'], dtype='object')"
      ]
     },
     "execution_count": 5,
     "metadata": {},
     "output_type": "execute_result"
    }
   ],
   "source": [
    "df_train.columns\n",
    "\n",
    "# it seems it has too many values out side the box"
   ]
  },
  {
   "cell_type": "markdown",
   "id": "global-stephen",
   "metadata": {},
   "source": [
    "### Applying log transformation on skewed data"
   ]
  },
  {
   "cell_type": "code",
   "execution_count": 6,
   "id": "physical-burke",
   "metadata": {
    "ExecuteTime": {
     "end_time": "2021-03-13T08:18:37.147460Z",
     "start_time": "2021-03-13T08:18:37.132700Z"
    }
   },
   "outputs": [],
   "source": [
    "mm = MinMaxScaler()"
   ]
  },
  {
   "cell_type": "code",
   "execution_count": 7,
   "id": "closing-fiction",
   "metadata": {
    "ExecuteTime": {
     "end_time": "2021-03-13T08:18:37.178872Z",
     "start_time": "2021-03-13T08:18:37.150418Z"
    }
   },
   "outputs": [],
   "source": [
    "df_train.Reputation = mm.fit_transform(df_train[['Reputation']])\n",
    "df_test.Reputation = mm.transform(df_test[['Reputation']])"
   ]
  },
  {
   "cell_type": "code",
   "execution_count": 8,
   "id": "informative-cabinet",
   "metadata": {
    "ExecuteTime": {
     "end_time": "2021-03-13T08:18:37.194665Z",
     "start_time": "2021-03-13T08:18:37.180577Z"
    }
   },
   "outputs": [],
   "source": [
    "df_train.Views = mm.fit_transform(df_train[['Views']])\n",
    "df_test.Views = mm.transform(df_test[['Views']])"
   ]
  },
  {
   "cell_type": "code",
   "execution_count": 9,
   "id": "trained-health",
   "metadata": {
    "ExecuteTime": {
     "end_time": "2021-03-13T08:18:37.225087Z",
     "start_time": "2021-03-13T08:18:37.196611Z"
    }
   },
   "outputs": [],
   "source": [
    "df_train.Answers = mm.fit_transform(df_train[['Answers']])\n",
    "df_test.Answers = mm.transform(df_test[['Answers']])"
   ]
  },
  {
   "cell_type": "code",
   "execution_count": 10,
   "id": "cultural-medicare",
   "metadata": {
    "ExecuteTime": {
     "end_time": "2021-03-13T08:18:37.240968Z",
     "start_time": "2021-03-13T08:18:37.226802Z"
    }
   },
   "outputs": [],
   "source": [
    "df_train.Reputation = np.log1p(df_train.Reputation)\n",
    "df_test.Reputation = np.log1p(df_test.Reputation)"
   ]
  },
  {
   "cell_type": "code",
   "execution_count": 11,
   "id": "chronic-jumping",
   "metadata": {
    "ExecuteTime": {
     "end_time": "2021-03-13T08:18:37.255799Z",
     "start_time": "2021-03-13T08:18:37.241977Z"
    }
   },
   "outputs": [],
   "source": [
    "df_train.Answers = np.log1p(df_train.Answers)\n",
    "df_test.Answers = np.log1p(df_test.Answers)"
   ]
  },
  {
   "cell_type": "code",
   "execution_count": 12,
   "id": "other-amber",
   "metadata": {
    "ExecuteTime": {
     "end_time": "2021-03-13T08:18:37.271325Z",
     "start_time": "2021-03-13T08:18:37.257238Z"
    }
   },
   "outputs": [],
   "source": [
    "df_train.Views = np.log1p(df_train.Views)\n",
    "df_test.Views = np.log1p(df_test.Views)"
   ]
  },
  {
   "cell_type": "code",
   "execution_count": 13,
   "id": "numerous-banks",
   "metadata": {
    "ExecuteTime": {
     "end_time": "2021-03-13T08:18:37.286609Z",
     "start_time": "2021-03-13T08:18:37.273379Z"
    }
   },
   "outputs": [],
   "source": [
    "df_train.Upvotes = np.log1p(df_train.Upvotes)"
   ]
  },
  {
   "cell_type": "code",
   "execution_count": null,
   "id": "seventh-delicious",
   "metadata": {},
   "outputs": [],
   "source": []
  },
  {
   "cell_type": "markdown",
   "id": "early-season",
   "metadata": {},
   "source": [
    "### After transformation"
   ]
  },
  {
   "cell_type": "code",
   "execution_count": 14,
   "id": "detailed-poison",
   "metadata": {
    "ExecuteTime": {
     "end_time": "2021-03-13T08:18:37.302400Z",
     "start_time": "2021-03-13T08:18:37.288373Z"
    }
   },
   "outputs": [],
   "source": [
    "# df_train.Reputation.plot(kind='kde')"
   ]
  },
  {
   "cell_type": "code",
   "execution_count": 15,
   "id": "anticipated-brother",
   "metadata": {
    "ExecuteTime": {
     "end_time": "2021-03-13T08:18:37.318408Z",
     "start_time": "2021-03-13T08:18:37.303371Z"
    }
   },
   "outputs": [],
   "source": [
    "df_train.drop(columns=['Username','ID'], inplace=True)\n",
    "df_test.drop(columns=['Username','ID'],inplace=True)"
   ]
  },
  {
   "cell_type": "code",
   "execution_count": 16,
   "id": "european-layer",
   "metadata": {
    "ExecuteTime": {
     "end_time": "2021-03-13T08:18:37.381787Z",
     "start_time": "2021-03-13T08:18:37.320377Z"
    }
   },
   "outputs": [],
   "source": [
    "df_train = pd.get_dummies(df_train, columns=['Tag'], drop_first=True)\n",
    "df_test = pd.get_dummies(df_test, columns=['Tag'], drop_first=True)"
   ]
  },
  {
   "cell_type": "code",
   "execution_count": 17,
   "id": "average-creativity",
   "metadata": {
    "ExecuteTime": {
     "end_time": "2021-03-13T08:18:37.397766Z",
     "start_time": "2021-03-13T08:18:37.383694Z"
    }
   },
   "outputs": [],
   "source": [
    "X = df_train.drop(columns=['Upvotes'])\n",
    "y = df_train.Upvotes"
   ]
  },
  {
   "cell_type": "code",
   "execution_count": 18,
   "id": "available-machine",
   "metadata": {
    "ExecuteTime": {
     "end_time": "2021-03-13T08:18:37.460894Z",
     "start_time": "2021-03-13T08:18:37.398700Z"
    }
   },
   "outputs": [],
   "source": [
    "X_train, X_test, y_train, y_test = train_test_split(X, y, test_size=0.2, random_state=42)"
   ]
  },
  {
   "cell_type": "code",
   "execution_count": 29,
   "id": "altered-colonial",
   "metadata": {
    "ExecuteTime": {
     "end_time": "2021-03-13T08:28:23.797801Z",
     "start_time": "2021-03-13T08:28:23.779813Z"
    }
   },
   "outputs": [
    {
     "data": {
      "text/plain": [
       "(264036, 12)"
      ]
     },
     "execution_count": 29,
     "metadata": {},
     "output_type": "execute_result"
    }
   ],
   "source": [
    "X_train.shape"
   ]
  },
  {
   "cell_type": "code",
   "execution_count": 50,
   "id": "single-suffering",
   "metadata": {
    "ExecuteTime": {
     "end_time": "2021-03-13T12:16:45.833914Z",
     "start_time": "2021-03-13T12:16:45.824885Z"
    }
   },
   "outputs": [],
   "source": [
    "early_stop = EarlyStopping( monitor='val_loss',verbose=1, patience=30)"
   ]
  },
  {
   "cell_type": "code",
   "execution_count": 52,
   "id": "physical-lawrence",
   "metadata": {
    "ExecuteTime": {
     "end_time": "2021-03-13T13:08:34.096617Z",
     "start_time": "2021-03-13T12:23:55.725515Z"
    }
   },
   "outputs": [
    {
     "name": "stdout",
     "output_type": "stream",
     "text": [
      "Epoch 1/200\n",
      "2641/2641 [==============================] - 9s 3ms/step - loss: 3.4736 - mse: 3.1152 - val_loss: 1.3701 - val_mse: 1.1424\n",
      "Epoch 2/200\n",
      "2641/2641 [==============================] - 9s 4ms/step - loss: 1.2575 - mse: 1.0605 - val_loss: 1.1017 - val_mse: 0.9584\n",
      "Epoch 3/200\n",
      "2641/2641 [==============================] - 10s 4ms/step - loss: 1.1162 - mse: 0.9797 - val_loss: 1.0073 - val_mse: 0.8843\n",
      "Epoch 4/200\n",
      "2641/2641 [==============================] - 10s 4ms/step - loss: 1.0100 - mse: 0.8882 - val_loss: 0.8939 - val_mse: 0.7765\n",
      "Epoch 5/200\n",
      "2641/2641 [==============================] - 10s 4ms/step - loss: 0.9039 - mse: 0.7879 - val_loss: 0.8308 - val_mse: 0.7189\n",
      "Epoch 6/200\n",
      "2641/2641 [==============================] - 11s 4ms/step - loss: 0.8503 - mse: 0.7423 - val_loss: 0.7782 - val_mse: 0.6751\n",
      "Epoch 7/200\n",
      "2641/2641 [==============================] - 11s 4ms/step - loss: 0.8073 - mse: 0.7063 - val_loss: 0.7538 - val_mse: 0.6574\n",
      "Epoch 8/200\n",
      "2641/2641 [==============================] - 10s 4ms/step - loss: 0.7728 - mse: 0.6782 - val_loss: 0.7724 - val_mse: 0.6830\n",
      "Epoch 9/200\n",
      "2641/2641 [==============================] - 11s 4ms/step - loss: 0.7548 - mse: 0.6670 - val_loss: 0.7285 - val_mse: 0.6468\n",
      "Epoch 10/200\n",
      "2641/2641 [==============================] - 11s 4ms/step - loss: 0.7332 - mse: 0.6524 - val_loss: 0.6975 - val_mse: 0.6189\n",
      "Epoch 11/200\n",
      "2641/2641 [==============================] - 11s 4ms/step - loss: 0.7236 - mse: 0.6473 - val_loss: 0.6966 - val_mse: 0.6240\n",
      "Epoch 12/200\n",
      "2641/2641 [==============================] - 11s 4ms/step - loss: 0.7116 - mse: 0.6398 - val_loss: 0.6739 - val_mse: 0.6064\n",
      "Epoch 13/200\n",
      "2641/2641 [==============================] - 11s 4ms/step - loss: 0.7032 - mse: 0.6359 - val_loss: 0.6599 - val_mse: 0.5947\n",
      "Epoch 14/200\n",
      "2641/2641 [==============================] - 11s 4ms/step - loss: 0.6855 - mse: 0.6214 - val_loss: 0.6624 - val_mse: 0.5996\n",
      "Epoch 15/200\n",
      "2641/2641 [==============================] - 11s 4ms/step - loss: 0.6841 - mse: 0.6223 - val_loss: 0.6866 - val_mse: 0.6264\n",
      "Epoch 16/200\n",
      "2641/2641 [==============================] - 11s 4ms/step - loss: 0.6738 - mse: 0.6152 - val_loss: 0.6413 - val_mse: 0.5837\n",
      "Epoch 17/200\n",
      "2641/2641 [==============================] - 11s 4ms/step - loss: 0.6663 - mse: 0.6100 - val_loss: 0.6375 - val_mse: 0.5821\n",
      "Epoch 18/200\n",
      "2641/2641 [==============================] - 14s 5ms/step - loss: 0.6725 - mse: 0.6179 - val_loss: 0.6316 - val_mse: 0.5796\n",
      "Epoch 19/200\n",
      "2641/2641 [==============================] - 12s 5ms/step - loss: 0.6591 - mse: 0.6071 - val_loss: 0.6302 - val_mse: 0.5792\n",
      "Epoch 20/200\n",
      "2641/2641 [==============================] - 11s 4ms/step - loss: 0.6527 - mse: 0.6021 - val_loss: 0.6240 - val_mse: 0.5741\n",
      "Epoch 21/200\n",
      "2641/2641 [==============================] - 11s 4ms/step - loss: 0.6503 - mse: 0.6009 - val_loss: 0.6498 - val_mse: 0.6006\n",
      "Epoch 22/200\n",
      "2641/2641 [==============================] - 11s 4ms/step - loss: 0.6466 - mse: 0.5986 - val_loss: 0.6246 - val_mse: 0.5780\n",
      "Epoch 23/200\n",
      "2641/2641 [==============================] - 12s 4ms/step - loss: 0.6440 - mse: 0.5976 - val_loss: 0.6165 - val_mse: 0.5710\n",
      "Epoch 24/200\n",
      "2641/2641 [==============================] - 11s 4ms/step - loss: 0.6435 - mse: 0.5984 - val_loss: 0.6226 - val_mse: 0.5791\n",
      "Epoch 25/200\n",
      "2641/2641 [==============================] - 12s 5ms/step - loss: 0.6355 - mse: 0.5922 - val_loss: 0.6164 - val_mse: 0.5735\n",
      "Epoch 26/200\n",
      "2641/2641 [==============================] - 11s 4ms/step - loss: 0.6329 - mse: 0.5898 - val_loss: 0.6111 - val_mse: 0.5692\n",
      "Epoch 27/200\n",
      "2641/2641 [==============================] - 13s 5ms/step - loss: 0.6345 - mse: 0.5927 - val_loss: 0.6043 - val_mse: 0.5631\n",
      "Epoch 28/200\n",
      "2641/2641 [==============================] - 11s 4ms/step - loss: 0.6327 - mse: 0.5920 - val_loss: 0.6349 - val_mse: 0.5942\n",
      "Epoch 29/200\n",
      "2641/2641 [==============================] - 12s 5ms/step - loss: 0.6330 - mse: 0.5927 - val_loss: 0.6064 - val_mse: 0.5668\n",
      "Epoch 30/200\n",
      "2641/2641 [==============================] - 11s 4ms/step - loss: 0.6296 - mse: 0.5900 - val_loss: 0.6032 - val_mse: 0.5649\n",
      "Epoch 31/200\n",
      "2641/2641 [==============================] - 11s 4ms/step - loss: 0.6214 - mse: 0.5829 - val_loss: 0.5994 - val_mse: 0.5619\n",
      "Epoch 32/200\n",
      "2641/2641 [==============================] - 11s 4ms/step - loss: 0.6212 - mse: 0.5833 - val_loss: 0.6175 - val_mse: 0.5810\n",
      "Epoch 33/200\n",
      "2641/2641 [==============================] - 12s 4ms/step - loss: 0.6145 - mse: 0.5779 - val_loss: 0.5960 - val_mse: 0.5590\n",
      "Epoch 34/200\n",
      "2641/2641 [==============================] - 11s 4ms/step - loss: 0.6188 - mse: 0.5823 - val_loss: 0.5942 - val_mse: 0.5588\n",
      "Epoch 35/200\n",
      "2641/2641 [==============================] - 12s 4ms/step - loss: 0.6182 - mse: 0.5824 - val_loss: 0.5942 - val_mse: 0.5593\n",
      "Epoch 36/200\n",
      "2641/2641 [==============================] - 12s 4ms/step - loss: 0.6156 - mse: 0.5808 - val_loss: 0.5897 - val_mse: 0.5550\n",
      "Epoch 37/200\n",
      "2641/2641 [==============================] - 11s 4ms/step - loss: 0.6193 - mse: 0.5848 - val_loss: 0.5909 - val_mse: 0.5568\n",
      "Epoch 38/200\n",
      "2641/2641 [==============================] - 12s 5ms/step - loss: 0.6138 - mse: 0.5797 - val_loss: 0.5984 - val_mse: 0.5650\n",
      "Epoch 39/200\n",
      "2641/2641 [==============================] - 12s 4ms/step - loss: 0.6174 - mse: 0.5839 - val_loss: 0.6012 - val_mse: 0.5676\n",
      "Epoch 40/200\n",
      "2641/2641 [==============================] - 12s 5ms/step - loss: 0.6163 - mse: 0.5829 - val_loss: 0.5955 - val_mse: 0.5625\n",
      "Epoch 41/200\n",
      "2641/2641 [==============================] - 12s 5ms/step - loss: 0.6169 - mse: 0.5844 - val_loss: 0.5895 - val_mse: 0.5570\n",
      "Epoch 42/200\n",
      "2641/2641 [==============================] - 12s 5ms/step - loss: 0.6110 - mse: 0.5788 - val_loss: 0.5944 - val_mse: 0.5625\n",
      "Epoch 43/200\n",
      "2641/2641 [==============================] - 13s 5ms/step - loss: 0.6079 - mse: 0.5761 - val_loss: 0.5907 - val_mse: 0.5594\n",
      "Epoch 44/200\n",
      "2641/2641 [==============================] - 18s 7ms/step - loss: 0.6110 - mse: 0.5797 - val_loss: 0.5871 - val_mse: 0.5562\n",
      "Epoch 45/200\n",
      "2641/2641 [==============================] - 14s 5ms/step - loss: 0.6057 - mse: 0.5748 - val_loss: 0.5817 - val_mse: 0.5513\n",
      "Epoch 46/200\n",
      "2641/2641 [==============================] - 11s 4ms/step - loss: 0.6125 - mse: 0.5819 - val_loss: 0.5937 - val_mse: 0.5633\n",
      "Epoch 47/200\n",
      "2641/2641 [==============================] - 12s 5ms/step - loss: 0.6067 - mse: 0.5764 - val_loss: 0.5820 - val_mse: 0.5528\n",
      "Epoch 48/200\n",
      "2641/2641 [==============================] - 12s 4ms/step - loss: 0.6057 - mse: 0.5762 - val_loss: 0.6089 - val_mse: 0.5791\n",
      "Epoch 49/200\n",
      "2641/2641 [==============================] - 12s 4ms/step - loss: 0.6046 - mse: 0.5751 - val_loss: 0.5915 - val_mse: 0.5616\n",
      "Epoch 50/200\n",
      "2641/2641 [==============================] - 12s 5ms/step - loss: 0.6043 - mse: 0.5752 - val_loss: 0.6159 - val_mse: 0.5872\n",
      "Epoch 51/200\n",
      "2641/2641 [==============================] - 12s 5ms/step - loss: 0.6041 - mse: 0.5753 - val_loss: 0.5798 - val_mse: 0.5514\n",
      "Epoch 52/200\n",
      "2641/2641 [==============================] - 12s 5ms/step - loss: 0.6013 - mse: 0.5728 - val_loss: 0.5791 - val_mse: 0.5506\n",
      "Epoch 53/200\n",
      "2641/2641 [==============================] - 12s 4ms/step - loss: 0.5999 - mse: 0.5720 - val_loss: 0.5823 - val_mse: 0.5543\n",
      "Epoch 54/200\n",
      "2641/2641 [==============================] - 11s 4ms/step - loss: 0.6043 - mse: 0.5761 - val_loss: 0.5778 - val_mse: 0.5504\n",
      "Epoch 55/200\n",
      "2641/2641 [==============================] - 11s 4ms/step - loss: 0.6035 - mse: 0.5762 - val_loss: 0.5961 - val_mse: 0.5685\n",
      "Epoch 56/200\n",
      "2641/2641 [==============================] - 12s 4ms/step - loss: 0.6005 - mse: 0.5730 - val_loss: 0.5797 - val_mse: 0.5521\n",
      "Epoch 57/200\n",
      "2641/2641 [==============================] - 12s 5ms/step - loss: 0.5954 - mse: 0.5685 - val_loss: 0.6059 - val_mse: 0.5787\n",
      "Epoch 58/200\n",
      "2641/2641 [==============================] - 12s 4ms/step - loss: 0.5955 - mse: 0.5684 - val_loss: 0.5926 - val_mse: 0.5660\n",
      "Epoch 59/200\n",
      "2641/2641 [==============================] - 12s 4ms/step - loss: 0.6008 - mse: 0.5742 - val_loss: 0.5722 - val_mse: 0.5462\n",
      "Epoch 60/200\n",
      "2641/2641 [==============================] - 12s 4ms/step - loss: 0.5998 - mse: 0.5737 - val_loss: 0.5732 - val_mse: 0.5473\n"
     ]
    },
    {
     "name": "stdout",
     "output_type": "stream",
     "text": [
      "Epoch 61/200\n",
      "2641/2641 [==============================] - 11s 4ms/step - loss: 0.5954 - mse: 0.5695 - val_loss: 0.5932 - val_mse: 0.5672\n",
      "Epoch 62/200\n",
      "2641/2641 [==============================] - 11s 4ms/step - loss: 0.6005 - mse: 0.5749 - val_loss: 0.5748 - val_mse: 0.5489\n",
      "Epoch 63/200\n",
      "2641/2641 [==============================] - 12s 4ms/step - loss: 0.5973 - mse: 0.5718 - val_loss: 0.5736 - val_mse: 0.5484\n",
      "Epoch 64/200\n",
      "2641/2641 [==============================] - 13s 5ms/step - loss: 0.5938 - mse: 0.5685 - val_loss: 0.5779 - val_mse: 0.5530\n",
      "Epoch 65/200\n",
      "2641/2641 [==============================] - 12s 5ms/step - loss: 0.5952 - mse: 0.5701 - val_loss: 0.5748 - val_mse: 0.5496\n",
      "Epoch 66/200\n",
      "2641/2641 [==============================] - 12s 4ms/step - loss: 0.5923 - mse: 0.5671 - val_loss: 0.5785 - val_mse: 0.5535\n",
      "Epoch 67/200\n",
      "2641/2641 [==============================] - 12s 5ms/step - loss: 0.5945 - mse: 0.5694 - val_loss: 0.5728 - val_mse: 0.5484\n",
      "Epoch 68/200\n",
      "2641/2641 [==============================] - 12s 4ms/step - loss: 0.5937 - mse: 0.5692 - val_loss: 0.5817 - val_mse: 0.5574\n",
      "Epoch 69/200\n",
      "2641/2641 [==============================] - 12s 4ms/step - loss: 0.5923 - mse: 0.5678 - val_loss: 0.5735 - val_mse: 0.5498\n",
      "Epoch 70/200\n",
      "2641/2641 [==============================] - 12s 5ms/step - loss: 0.5969 - mse: 0.5729 - val_loss: 0.5889 - val_mse: 0.5639\n",
      "Epoch 71/200\n",
      "2641/2641 [==============================] - 13s 5ms/step - loss: 0.5942 - mse: 0.5698 - val_loss: 0.5916 - val_mse: 0.5675\n",
      "Epoch 72/200\n",
      "2641/2641 [==============================] - 12s 4ms/step - loss: 0.5936 - mse: 0.5697 - val_loss: 0.5742 - val_mse: 0.5504\n",
      "Epoch 73/200\n",
      "2641/2641 [==============================] - 12s 5ms/step - loss: 0.5924 - mse: 0.5687 - val_loss: 0.5765 - val_mse: 0.5527\n",
      "Epoch 74/200\n",
      "2641/2641 [==============================] - 13s 5ms/step - loss: 0.5965 - mse: 0.5728 - val_loss: 0.5747 - val_mse: 0.5512\n",
      "Epoch 75/200\n",
      "2641/2641 [==============================] - 14s 5ms/step - loss: 0.5908 - mse: 0.5672 - val_loss: 0.5669 - val_mse: 0.5436\n",
      "Epoch 76/200\n",
      "2641/2641 [==============================] - 13s 5ms/step - loss: 0.5918 - mse: 0.5687 - val_loss: 0.5819 - val_mse: 0.5592\n",
      "Epoch 77/200\n",
      "2641/2641 [==============================] - 12s 5ms/step - loss: 0.5930 - mse: 0.5697 - val_loss: 0.5687 - val_mse: 0.5455\n",
      "Epoch 78/200\n",
      "2641/2641 [==============================] - 12s 4ms/step - loss: 0.5893 - mse: 0.5663 - val_loss: 0.5776 - val_mse: 0.5548\n",
      "Epoch 79/200\n",
      "2641/2641 [==============================] - 11s 4ms/step - loss: 0.5941 - mse: 0.5712 - val_loss: 0.5703 - val_mse: 0.5477\n",
      "Epoch 80/200\n",
      "2641/2641 [==============================] - 11s 4ms/step - loss: 0.5956 - mse: 0.5730 - val_loss: 0.5754 - val_mse: 0.5532\n",
      "Epoch 81/200\n",
      "2641/2641 [==============================] - 11s 4ms/step - loss: 0.5888 - mse: 0.5665 - val_loss: 0.5783 - val_mse: 0.5559\n",
      "Epoch 82/200\n",
      "2641/2641 [==============================] - 12s 4ms/step - loss: 0.5893 - mse: 0.5669 - val_loss: 0.6036 - val_mse: 0.5819\n",
      "Epoch 83/200\n",
      "2641/2641 [==============================] - 13s 5ms/step - loss: 0.5921 - mse: 0.5699 - val_loss: 0.5669 - val_mse: 0.5451\n",
      "Epoch 84/200\n",
      "2641/2641 [==============================] - 13s 5ms/step - loss: 0.5870 - mse: 0.5652 - val_loss: 0.5717 - val_mse: 0.5494\n",
      "Epoch 85/200\n",
      "2641/2641 [==============================] - 14s 5ms/step - loss: 0.5900 - mse: 0.5681 - val_loss: 0.5711 - val_mse: 0.5498\n",
      "Epoch 86/200\n",
      "2641/2641 [==============================] - 15s 6ms/step - loss: 0.5875 - mse: 0.5658 - val_loss: 0.5797 - val_mse: 0.5580\n",
      "Epoch 87/200\n",
      "2641/2641 [==============================] - 14s 5ms/step - loss: 0.5907 - mse: 0.5689 - val_loss: 0.5739 - val_mse: 0.5526\n",
      "Epoch 88/200\n",
      "2641/2641 [==============================] - 13s 5ms/step - loss: 0.5814 - mse: 0.5599 - val_loss: 0.5670 - val_mse: 0.5456\n",
      "Epoch 89/200\n",
      "2641/2641 [==============================] - 12s 5ms/step - loss: 0.5876 - mse: 0.5662 - val_loss: 0.5730 - val_mse: 0.5516\n",
      "Epoch 90/200\n",
      "2641/2641 [==============================] - 11s 4ms/step - loss: 0.5893 - mse: 0.5679 - val_loss: 0.5706 - val_mse: 0.5492\n",
      "Epoch 91/200\n",
      "2641/2641 [==============================] - 11s 4ms/step - loss: 0.5805 - mse: 0.5594 - val_loss: 0.5690 - val_mse: 0.5479\n",
      "Epoch 92/200\n",
      "2641/2641 [==============================] - 11s 4ms/step - loss: 0.5883 - mse: 0.5672 - val_loss: 0.5632 - val_mse: 0.5423\n",
      "Epoch 93/200\n",
      "2641/2641 [==============================] - 11s 4ms/step - loss: 0.5859 - mse: 0.5648 - val_loss: 0.5636 - val_mse: 0.5426\n",
      "Epoch 94/200\n",
      "2641/2641 [==============================] - 12s 5ms/step - loss: 0.5877 - mse: 0.5667 - val_loss: 0.5656 - val_mse: 0.5448\n",
      "Epoch 95/200\n",
      "2641/2641 [==============================] - 13s 5ms/step - loss: 0.5892 - mse: 0.5683 - val_loss: 0.5665 - val_mse: 0.5460\n",
      "Epoch 96/200\n",
      "2641/2641 [==============================] - 16s 6ms/step - loss: 0.5844 - mse: 0.5637 - val_loss: 0.5722 - val_mse: 0.5516\n",
      "Epoch 97/200\n",
      "2641/2641 [==============================] - 16s 6ms/step - loss: 0.5860 - mse: 0.5655 - val_loss: 0.5663 - val_mse: 0.5452\n",
      "Epoch 98/200\n",
      "2641/2641 [==============================] - 14s 5ms/step - loss: 0.5825 - mse: 0.5619 - val_loss: 0.5663 - val_mse: 0.5458\n",
      "Epoch 99/200\n",
      "2641/2641 [==============================] - 14s 5ms/step - loss: 0.5842 - mse: 0.5639 - val_loss: 0.5790 - val_mse: 0.5591\n",
      "Epoch 100/200\n",
      "2641/2641 [==============================] - 12s 5ms/step - loss: 0.5859 - mse: 0.5656 - val_loss: 0.5674 - val_mse: 0.5474\n",
      "Epoch 101/200\n",
      "2641/2641 [==============================] - 12s 4ms/step - loss: 0.5843 - mse: 0.5641 - val_loss: 0.5649 - val_mse: 0.5448\n",
      "Epoch 102/200\n",
      "2641/2641 [==============================] - 11s 4ms/step - loss: 0.5819 - mse: 0.5618 - val_loss: 0.5676 - val_mse: 0.5483\n",
      "Epoch 103/200\n",
      "2641/2641 [==============================] - 11s 4ms/step - loss: 0.5823 - mse: 0.5626 - val_loss: 0.5641 - val_mse: 0.5443\n",
      "Epoch 104/200\n",
      "2641/2641 [==============================] - 12s 4ms/step - loss: 0.5827 - mse: 0.5628 - val_loss: 0.5574 - val_mse: 0.5377\n",
      "Epoch 105/200\n",
      "2641/2641 [==============================] - 14s 5ms/step - loss: 0.5850 - mse: 0.5653 - val_loss: 0.5610 - val_mse: 0.5414\n",
      "Epoch 106/200\n",
      "2641/2641 [==============================] - 15s 6ms/step - loss: 0.5844 - mse: 0.5648 - val_loss: 0.5740 - val_mse: 0.5542\n",
      "Epoch 107/200\n",
      "2641/2641 [==============================] - 15s 6ms/step - loss: 0.5828 - mse: 0.5631 - val_loss: 0.5752 - val_mse: 0.5555\n",
      "Epoch 108/200\n",
      "2641/2641 [==============================] - 16s 6ms/step - loss: 0.5815 - mse: 0.5621 - val_loss: 0.5607 - val_mse: 0.5410\n",
      "Epoch 109/200\n",
      "2641/2641 [==============================] - 14s 5ms/step - loss: 0.5831 - mse: 0.5634 - val_loss: 0.5604 - val_mse: 0.5412\n",
      "Epoch 110/200\n",
      "2641/2641 [==============================] - 13s 5ms/step - loss: 0.5876 - mse: 0.5683 - val_loss: 0.5732 - val_mse: 0.5540\n",
      "Epoch 111/200\n",
      "2641/2641 [==============================] - 12s 4ms/step - loss: 0.5861 - mse: 0.5669 - val_loss: 0.5852 - val_mse: 0.5663\n",
      "Epoch 112/200\n",
      "2641/2641 [==============================] - 11s 4ms/step - loss: 0.5838 - mse: 0.5645 - val_loss: 0.5660 - val_mse: 0.5471\n",
      "Epoch 113/200\n",
      "2641/2641 [==============================] - 12s 5ms/step - loss: 0.5814 - mse: 0.5622 - val_loss: 0.5767 - val_mse: 0.5575\n",
      "Epoch 114/200\n",
      "2641/2641 [==============================] - 12s 5ms/step - loss: 0.5811 - mse: 0.5621 - val_loss: 0.5672 - val_mse: 0.5484\n",
      "Epoch 115/200\n",
      "2641/2641 [==============================] - 13s 5ms/step - loss: 0.5793 - mse: 0.5605 - val_loss: 0.5637 - val_mse: 0.5448\n",
      "Epoch 116/200\n",
      "2641/2641 [==============================] - 14s 5ms/step - loss: 0.5775 - mse: 0.5586 - val_loss: 0.5788 - val_mse: 0.5602\n",
      "Epoch 117/200\n",
      "2641/2641 [==============================] - 15s 6ms/step - loss: 0.5841 - mse: 0.5656 - val_loss: 0.5620 - val_mse: 0.5433\n",
      "Epoch 118/200\n",
      "2641/2641 [==============================] - 14s 5ms/step - loss: 0.5816 - mse: 0.5629 - val_loss: 0.5573 - val_mse: 0.5388\n",
      "Epoch 119/200\n",
      "2641/2641 [==============================] - 14s 5ms/step - loss: 0.5845 - mse: 0.5658 - val_loss: 0.5616 - val_mse: 0.5429\n",
      "Epoch 120/200\n"
     ]
    },
    {
     "name": "stdout",
     "output_type": "stream",
     "text": [
      "2641/2641 [==============================] - 14s 5ms/step - loss: 0.5782 - mse: 0.5597 - val_loss: 0.5564 - val_mse: 0.5378\n",
      "Epoch 121/200\n",
      "2641/2641 [==============================] - 11s 4ms/step - loss: 0.5803 - mse: 0.5619 - val_loss: 0.5573 - val_mse: 0.5393\n",
      "Epoch 122/200\n",
      "2641/2641 [==============================] - 12s 4ms/step - loss: 0.5778 - mse: 0.5597 - val_loss: 0.5646 - val_mse: 0.5462\n",
      "Epoch 123/200\n",
      "2641/2641 [==============================] - 13s 5ms/step - loss: 0.5793 - mse: 0.5610 - val_loss: 0.5581 - val_mse: 0.5403\n",
      "Epoch 124/200\n",
      "2641/2641 [==============================] - 14s 5ms/step - loss: 0.5810 - mse: 0.5631 - val_loss: 0.5593 - val_mse: 0.5412\n",
      "Epoch 125/200\n",
      "2641/2641 [==============================] - 18s 7ms/step - loss: 0.5811 - mse: 0.5629 - val_loss: 0.5561 - val_mse: 0.5379\n",
      "Epoch 126/200\n",
      "2641/2641 [==============================] - 20s 7ms/step - loss: 0.5813 - mse: 0.5632 - val_loss: 0.5705 - val_mse: 0.5523\n",
      "Epoch 127/200\n",
      "2641/2641 [==============================] - 15s 6ms/step - loss: 0.5820 - mse: 0.5639 - val_loss: 0.5632 - val_mse: 0.5452\n",
      "Epoch 128/200\n",
      "2641/2641 [==============================] - 13s 5ms/step - loss: 0.5800 - mse: 0.5621 - val_loss: 0.5676 - val_mse: 0.5496\n",
      "Epoch 129/200\n",
      "2641/2641 [==============================] - 13s 5ms/step - loss: 0.5784 - mse: 0.5603 - val_loss: 0.5639 - val_mse: 0.5463\n",
      "Epoch 130/200\n",
      "2641/2641 [==============================] - 11s 4ms/step - loss: 0.5815 - mse: 0.5636 - val_loss: 0.5561 - val_mse: 0.5382\n",
      "Epoch 131/200\n",
      "2641/2641 [==============================] - 12s 4ms/step - loss: 0.5752 - mse: 0.5573 - val_loss: 0.5675 - val_mse: 0.5492\n",
      "Epoch 132/200\n",
      "2641/2641 [==============================] - 12s 5ms/step - loss: 0.5829 - mse: 0.5650 - val_loss: 0.5599 - val_mse: 0.5422\n",
      "Epoch 133/200\n",
      "2641/2641 [==============================] - 14s 5ms/step - loss: 0.5821 - mse: 0.5644 - val_loss: 0.5836 - val_mse: 0.5661\n",
      "Epoch 134/200\n",
      "2641/2641 [==============================] - 13s 5ms/step - loss: 0.5774 - mse: 0.5599 - val_loss: 0.5567 - val_mse: 0.5390\n",
      "Epoch 135/200\n",
      "2641/2641 [==============================] - 14s 5ms/step - loss: 0.5796 - mse: 0.5622 - val_loss: 0.5702 - val_mse: 0.5525\n",
      "Epoch 136/200\n",
      "2641/2641 [==============================] - 17s 6ms/step - loss: 0.5789 - mse: 0.5614 - val_loss: 0.5641 - val_mse: 0.5469\n",
      "Epoch 137/200\n",
      "2641/2641 [==============================] - 16s 6ms/step - loss: 0.5772 - mse: 0.5598 - val_loss: 0.5571 - val_mse: 0.5401\n",
      "Epoch 138/200\n",
      "2641/2641 [==============================] - 14s 5ms/step - loss: 0.5819 - mse: 0.5647 - val_loss: 0.5699 - val_mse: 0.5523\n",
      "Epoch 139/200\n",
      "2641/2641 [==============================] - 13s 5ms/step - loss: 0.5790 - mse: 0.5616 - val_loss: 0.5670 - val_mse: 0.5496\n",
      "Epoch 140/200\n",
      "2641/2641 [==============================] - 12s 5ms/step - loss: 0.5795 - mse: 0.5622 - val_loss: 0.5612 - val_mse: 0.5441\n",
      "Epoch 141/200\n",
      "2641/2641 [==============================] - 11s 4ms/step - loss: 0.5753 - mse: 0.5584 - val_loss: 0.5630 - val_mse: 0.5453\n",
      "Epoch 142/200\n",
      "2641/2641 [==============================] - 12s 5ms/step - loss: 0.5787 - mse: 0.5615 - val_loss: 0.5723 - val_mse: 0.5551\n",
      "Epoch 143/200\n",
      "2641/2641 [==============================] - 13s 5ms/step - loss: 0.5773 - mse: 0.5602 - val_loss: 0.5582 - val_mse: 0.5410\n",
      "Epoch 144/200\n",
      "2641/2641 [==============================] - 13s 5ms/step - loss: 0.5781 - mse: 0.5609 - val_loss: 0.5595 - val_mse: 0.5423\n",
      "Epoch 145/200\n",
      "2641/2641 [==============================] - 14s 5ms/step - loss: 0.5783 - mse: 0.5612 - val_loss: 0.5922 - val_mse: 0.5754\n",
      "Epoch 146/200\n",
      "2641/2641 [==============================] - 15s 6ms/step - loss: 0.5838 - mse: 0.5667 - val_loss: 0.5557 - val_mse: 0.5392\n",
      "Epoch 147/200\n",
      "2641/2641 [==============================] - 17s 7ms/step - loss: 0.5805 - mse: 0.5639 - val_loss: 0.5554 - val_mse: 0.5386\n",
      "Epoch 148/200\n",
      "2641/2641 [==============================] - 16s 6ms/step - loss: 0.5823 - mse: 0.5655 - val_loss: 0.5544 - val_mse: 0.5371\n",
      "Epoch 149/200\n",
      "2641/2641 [==============================] - 14s 5ms/step - loss: 0.5801 - mse: 0.5634 - val_loss: 0.5574 - val_mse: 0.5409\n",
      "Epoch 150/200\n",
      "2641/2641 [==============================] - 12s 5ms/step - loss: 0.5760 - mse: 0.5594 - val_loss: 0.5602 - val_mse: 0.5436\n",
      "Epoch 151/200\n",
      "2641/2641 [==============================] - 12s 4ms/step - loss: 0.5810 - mse: 0.5643 - val_loss: 0.5540 - val_mse: 0.5374\n",
      "Epoch 152/200\n",
      "2641/2641 [==============================] - 11s 4ms/step - loss: 0.5779 - mse: 0.5614 - val_loss: 0.5562 - val_mse: 0.5398\n",
      "Epoch 153/200\n",
      "2641/2641 [==============================] - 11s 4ms/step - loss: 0.5752 - mse: 0.5587 - val_loss: 0.5542 - val_mse: 0.5378\n",
      "Epoch 154/200\n",
      "2641/2641 [==============================] - 12s 4ms/step - loss: 0.5769 - mse: 0.5605 - val_loss: 0.5833 - val_mse: 0.5672\n",
      "Epoch 155/200\n",
      "2641/2641 [==============================] - 13s 5ms/step - loss: 0.5784 - mse: 0.5621 - val_loss: 0.5583 - val_mse: 0.5421\n",
      "Epoch 156/200\n",
      "2641/2641 [==============================] - 14s 5ms/step - loss: 0.5764 - mse: 0.5601 - val_loss: 0.5595 - val_mse: 0.5433\n",
      "Epoch 157/200\n",
      "2641/2641 [==============================] - 24s 9ms/step - loss: 0.5776 - mse: 0.5613 - val_loss: 0.5599 - val_mse: 0.5435\n",
      "Epoch 158/200\n",
      "2641/2641 [==============================] - 24s 9ms/step - loss: 0.5765 - mse: 0.5605 - val_loss: 0.5557 - val_mse: 0.5394\n",
      "Epoch 159/200\n",
      "2641/2641 [==============================] - 24s 9ms/step - loss: 0.5802 - mse: 0.5640 - val_loss: 0.5546 - val_mse: 0.5387\n",
      "Epoch 160/200\n",
      "2641/2641 [==============================] - 17s 6ms/step - loss: 0.5769 - mse: 0.5609 - val_loss: 0.5603 - val_mse: 0.5440\n",
      "Epoch 161/200\n",
      "2641/2641 [==============================] - 14s 5ms/step - loss: 0.5782 - mse: 0.5620 - val_loss: 0.5588 - val_mse: 0.5429\n",
      "Epoch 162/200\n",
      "2641/2641 [==============================] - 18s 7ms/step - loss: 0.5773 - mse: 0.5615 - val_loss: 0.5529 - val_mse: 0.5368\n",
      "Epoch 163/200\n",
      "2641/2641 [==============================] - 17s 6ms/step - loss: 0.5784 - mse: 0.5625 - val_loss: 0.5737 - val_mse: 0.5577\n",
      "Epoch 164/200\n",
      "2641/2641 [==============================] - 17s 6ms/step - loss: 0.5778 - mse: 0.5619 - val_loss: 0.5530 - val_mse: 0.5369\n",
      "Epoch 165/200\n",
      "2641/2641 [==============================] - 20s 8ms/step - loss: 0.5698 - mse: 0.5538 - val_loss: 0.5547 - val_mse: 0.5389\n",
      "Epoch 166/200\n",
      "2641/2641 [==============================] - 19s 7ms/step - loss: 0.5809 - mse: 0.5652 - val_loss: 0.5571 - val_mse: 0.5413\n",
      "Epoch 167/200\n",
      "2641/2641 [==============================] - 14s 5ms/step - loss: 0.5782 - mse: 0.5624 - val_loss: 0.5763 - val_mse: 0.5605\n",
      "Epoch 168/200\n",
      "2641/2641 [==============================] - 16s 6ms/step - loss: 0.5796 - mse: 0.5639 - val_loss: 0.5748 - val_mse: 0.5591\n",
      "Epoch 169/200\n",
      "2641/2641 [==============================] - 15s 6ms/step - loss: 0.5715 - mse: 0.5557 - val_loss: 0.5562 - val_mse: 0.5409\n",
      "Epoch 170/200\n",
      "2641/2641 [==============================] - 13s 5ms/step - loss: 0.5797 - mse: 0.5641 - val_loss: 0.5604 - val_mse: 0.5451\n",
      "Epoch 171/200\n",
      "2641/2641 [==============================] - 14s 5ms/step - loss: 0.5769 - mse: 0.5614 - val_loss: 0.5535 - val_mse: 0.5376\n",
      "Epoch 172/200\n",
      "2641/2641 [==============================] - 17s 7ms/step - loss: 0.5733 - mse: 0.5576 - val_loss: 0.5747 - val_mse: 0.5595\n",
      "Epoch 173/200\n",
      "2641/2641 [==============================] - 18s 7ms/step - loss: 0.5748 - mse: 0.5595 - val_loss: 0.5552 - val_mse: 0.5400\n",
      "Epoch 174/200\n",
      "2641/2641 [==============================] - 16s 6ms/step - loss: 0.5768 - mse: 0.5613 - val_loss: 0.5942 - val_mse: 0.5792\n",
      "Epoch 175/200\n",
      "2641/2641 [==============================] - 16s 6ms/step - loss: 0.5774 - mse: 0.5621 - val_loss: 0.5527 - val_mse: 0.5374\n",
      "Epoch 176/200\n",
      "2641/2641 [==============================] - 14s 5ms/step - loss: 0.5723 - mse: 0.5569 - val_loss: 0.5549 - val_mse: 0.5395\n",
      "Epoch 177/200\n",
      "2641/2641 [==============================] - 16s 6ms/step - loss: 0.5760 - mse: 0.5606 - val_loss: 0.5519 - val_mse: 0.5366\n",
      "Epoch 178/200\n",
      "2641/2641 [==============================] - 16s 6ms/step - loss: 0.5742 - mse: 0.5589 - val_loss: 0.5556 - val_mse: 0.5404\n",
      "Epoch 179/200\n"
     ]
    },
    {
     "name": "stdout",
     "output_type": "stream",
     "text": [
      "2641/2641 [==============================] - 19s 7ms/step - loss: 0.5751 - mse: 0.5599 - val_loss: 0.5655 - val_mse: 0.5503\n",
      "Epoch 180/200\n",
      "2641/2641 [==============================] - 17s 6ms/step - loss: 0.5780 - mse: 0.5628 - val_loss: 0.5611 - val_mse: 0.5463\n",
      "Epoch 181/200\n",
      "2641/2641 [==============================] - 15s 6ms/step - loss: 0.5789 - mse: 0.5637 - val_loss: 0.5521 - val_mse: 0.5374\n",
      "Epoch 182/200\n",
      "2641/2641 [==============================] - 13s 5ms/step - loss: 0.5734 - mse: 0.5582 - val_loss: 0.5505 - val_mse: 0.5357\n",
      "Epoch 183/200\n",
      "2641/2641 [==============================] - 15s 6ms/step - loss: 0.5739 - mse: 0.5589 - val_loss: 0.5639 - val_mse: 0.5490\n",
      "Epoch 184/200\n",
      "2641/2641 [==============================] - 16s 6ms/step - loss: 0.5691 - mse: 0.5541 - val_loss: 0.5541 - val_mse: 0.5389\n",
      "Epoch 185/200\n",
      "2641/2641 [==============================] - 20s 7ms/step - loss: 0.5728 - mse: 0.5577 - val_loss: 0.5550 - val_mse: 0.5403\n",
      "Epoch 186/200\n",
      "2641/2641 [==============================] - 18s 7ms/step - loss: 0.5740 - mse: 0.5593 - val_loss: 0.5851 - val_mse: 0.5701\n",
      "Epoch 187/200\n",
      "2641/2641 [==============================] - 16s 6ms/step - loss: 0.5722 - mse: 0.5573 - val_loss: 0.5528 - val_mse: 0.5377\n",
      "Epoch 188/200\n",
      "2641/2641 [==============================] - 14s 5ms/step - loss: 0.5752 - mse: 0.5604 - val_loss: 0.5490 - val_mse: 0.5339\n",
      "Epoch 189/200\n",
      "2641/2641 [==============================] - 14s 5ms/step - loss: 0.5745 - mse: 0.5595 - val_loss: 0.5524 - val_mse: 0.5378\n",
      "Epoch 190/200\n",
      "2641/2641 [==============================] - 16s 6ms/step - loss: 0.5732 - mse: 0.5584 - val_loss: 0.5573 - val_mse: 0.5426\n",
      "Epoch 191/200\n",
      "2641/2641 [==============================] - 18s 7ms/step - loss: 0.5751 - mse: 0.5605 - val_loss: 0.5495 - val_mse: 0.5349\n",
      "Epoch 192/200\n",
      "2641/2641 [==============================] - 17s 7ms/step - loss: 0.5712 - mse: 0.5565 - val_loss: 0.5512 - val_mse: 0.5365\n",
      "Epoch 193/200\n",
      "2641/2641 [==============================] - 16s 6ms/step - loss: 0.5757 - mse: 0.5611 - val_loss: 0.5546 - val_mse: 0.5402\n",
      "Epoch 194/200\n",
      "2641/2641 [==============================] - 14s 5ms/step - loss: 0.5722 - mse: 0.5577 - val_loss: 0.5506 - val_mse: 0.5362\n",
      "Epoch 195/200\n",
      "2641/2641 [==============================] - 13s 5ms/step - loss: 0.5743 - mse: 0.5598 - val_loss: 0.5499 - val_mse: 0.5354\n",
      "Epoch 196/200\n",
      "2641/2641 [==============================] - 14s 5ms/step - loss: 0.5746 - mse: 0.5600 - val_loss: 0.5598 - val_mse: 0.5451\n",
      "Epoch 197/200\n",
      "2641/2641 [==============================] - 16s 6ms/step - loss: 0.5757 - mse: 0.5611 - val_loss: 0.5632 - val_mse: 0.5489\n",
      "Epoch 198/200\n",
      "2641/2641 [==============================] - 16s 6ms/step - loss: 0.5733 - mse: 0.5591 - val_loss: 0.5540 - val_mse: 0.5395\n",
      "Epoch 199/200\n",
      "2641/2641 [==============================] - 19s 7ms/step - loss: 0.5748 - mse: 0.5602 - val_loss: 0.5518 - val_mse: 0.5373\n",
      "Epoch 200/200\n",
      "2641/2641 [==============================] - 17s 6ms/step - loss: 0.5770 - mse: 0.5626 - val_loss: 0.5506 - val_mse: 0.5360\n"
     ]
    },
    {
     "data": {
      "text/plain": [
       "<tensorflow.python.keras.callbacks.History at 0x27065d43730>"
      ]
     },
     "execution_count": 52,
     "metadata": {},
     "output_type": "execute_result"
    }
   ],
   "source": [
    "ann = Sequential()\n",
    "\n",
    "ann.add(Dense(units=50,  activation='relu', input_dim = 12))\n",
    "\n",
    "ann.add(Dense(units=25, activation='relu',kernel_regularizer=regularizers.l2(0.01)))\n",
    "\n",
    "ann.add(Dense(units=50, activation='relu',kernel_regularizer=regularizers.l2(0.01)))\n",
    "\n",
    "ann.add(Dense(units=1))\n",
    "\n",
    "ann.compile(loss='mean_squared_error', optimizer= 'Adam', metrics=['mse'])\n",
    "\n",
    "\n",
    "\n",
    "ann.fit(X_train,y_train,epochs= 200, validation_data=(X_test,y_test), batch_size=100,callbacks=[early_stop])\n"
   ]
  },
  {
   "cell_type": "code",
   "execution_count": 32,
   "id": "latter-mistake",
   "metadata": {
    "ExecuteTime": {
     "end_time": "2021-03-13T09:09:59.431270Z",
     "start_time": "2021-03-13T09:09:59.197492Z"
    }
   },
   "outputs": [
    {
     "data": {
      "text/plain": [
       "<AxesSubplot:>"
      ]
     },
     "execution_count": 32,
     "metadata": {},
     "output_type": "execute_result"
    },
    {
     "data": {
      "image/png": "[encoded data removed]",
      "text/plain": [
       "<Figure size 432x288 with 1 Axes>"
      ]
     },
     "metadata": {
      "needs_background": "light"
     },
     "output_type": "display_data"
    }
   ],
   "source": [
    "pd.DataFrame(ann.history.history).plot()"
   ]
  },
  {
   "cell_type": "code",
   "execution_count": 53,
   "id": "upper-jewel",
   "metadata": {
    "ExecuteTime": {
     "end_time": "2021-03-13T13:08:34.396655Z",
     "start_time": "2021-03-13T13:08:34.099618Z"
    }
   },
   "outputs": [
    {
     "data": {
      "text/plain": [
       "<AxesSubplot:>"
      ]
     },
     "execution_count": 53,
     "metadata": {},
     "output_type": "execute_result"
    },
    {
     "data": {
      "image/png": "[encoded data removed]",
      "text/plain": [
       "<Figure size 432x288 with 1 Axes>"
      ]
     },
     "metadata": {
      "needs_background": "light"
     },
     "output_type": "display_data"
    }
   ],
   "source": [
    "pd.DataFrame(ann.history.history).plot()"
   ]
  },
  {
   "cell_type": "code",
   "execution_count": 54,
   "id": "later-female",
   "metadata": {
    "ExecuteTime": {
     "end_time": "2021-03-13T13:10:52.098777Z",
     "start_time": "2021-03-13T13:10:50.517023Z"
    }
   },
   "outputs": [],
   "source": [
    "y_pred = ann.predict(X_test)"
   ]
  },
  {
   "cell_type": "code",
   "execution_count": 55,
   "id": "insured-sympathy",
   "metadata": {
    "ExecuteTime": {
     "end_time": "2021-03-13T13:10:52.114765Z",
     "start_time": "2021-03-13T13:10:52.099745Z"
    }
   },
   "outputs": [
    {
     "data": {
      "text/plain": [
       "0.8420718861758804"
      ]
     },
     "execution_count": 55,
     "metadata": {},
     "output_type": "execute_result"
    }
   ],
   "source": [
    "r2_score(y_test,y_pred)"
   ]
  },
  {
   "cell_type": "code",
   "execution_count": 56,
   "id": "thousand-damage",
   "metadata": {
    "ExecuteTime": {
     "end_time": "2021-03-13T13:10:53.428222Z",
     "start_time": "2021-03-13T13:10:53.407263Z"
    }
   },
   "outputs": [
    {
     "data": {
      "text/plain": [
       "0.536024298217391"
      ]
     },
     "execution_count": 56,
     "metadata": {},
     "output_type": "execute_result"
    }
   ],
   "source": [
    "mean_squared_error(y_test,y_pred)"
   ]
  },
  {
   "cell_type": "code",
   "execution_count": 57,
   "id": "prepared-franchise",
   "metadata": {
    "ExecuteTime": {
     "end_time": "2021-03-13T13:10:56.767044Z",
     "start_time": "2021-03-13T13:10:54.078556Z"
    }
   },
   "outputs": [],
   "source": [
    "df_pred = ann.predict(df_test)"
   ]
  },
  {
   "cell_type": "code",
   "execution_count": 58,
   "id": "defensive-personal",
   "metadata": {
    "ExecuteTime": {
     "end_time": "2021-03-13T13:10:56.846468Z",
     "start_time": "2021-03-13T13:10:56.825427Z"
    }
   },
   "outputs": [],
   "source": [
    "df_pred = np.expm1(df_pred)"
   ]
  },
  {
   "cell_type": "code",
   "execution_count": 59,
   "id": "organized-aluminum",
   "metadata": {
    "ExecuteTime": {
     "end_time": "2021-03-13T13:11:03.133704Z",
     "start_time": "2021-03-13T13:10:59.863534Z"
    }
   },
   "outputs": [],
   "source": [
    "df_final= pd.DataFrame([pd.read_csv(\"test_8i3B3FC.csv\")['ID'],df_pred.ravel()])\n",
    "df_final=df_final.T\n",
    "df_final.columns = ['ID','Upvotes']\n",
    "df_final.to_csv('./results/ann_results.csv',index=False)"
   ]
  },
  {
   "cell_type": "code",
   "execution_count": null,
   "id": "supposed-guatemala",
   "metadata": {},
   "outputs": [],
   "source": []
  },
  {
   "cell_type": "code",
   "execution_count": null,
   "id": "blocked-mailing",
   "metadata": {},
   "outputs": [],
   "source": []
  },
  {
   "cell_type": "code",
   "execution_count": null,
   "id": "caring-second",
   "metadata": {},
   "outputs": [],
   "source": []
  }
 ],
 "metadata": {
  "kernelspec": {
   "display_name": "Python 3",
   "language": "python",
   "name": "python3"
  },
  "language_info": {
   "codemirror_mode": {
    "name": "ipython",
    "version": 3
   },
   "file_extension": ".py",
   "mimetype": "text/x-python",
   "name": "python",
   "nbconvert_exporter": "python",
   "pygments_lexer": "ipython3",
   "version": "3.8.5"
  }
 },
 "nbformat": 4,
 "nbformat_minor": 5
}
