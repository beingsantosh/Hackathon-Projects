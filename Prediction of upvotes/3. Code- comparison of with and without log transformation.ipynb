{
 "cells": [
  {
   "cell_type": "markdown",
   "id": "formed-photographer",
   "metadata": {},
   "source": [
    ">**Problem Statement:** An online question and answer platform has hired you as a data scientist to identify the best question authors on the platform. This identification will bring more insight into increasing the user engagement. Given the tag of the question, number of views received, number of answers, username and reputation of the question author, the problem requires you to predict the upvote count that the question will receive."
   ]
  },
  {
   "cell_type": "markdown",
   "id": "national-memory",
   "metadata": {},
   "source": [
    "# With log transformation"
   ]
  },
  {
   "cell_type": "code",
   "execution_count": 4,
   "id": "virtual-mauritius",
   "metadata": {
    "ExecuteTime": {
     "end_time": "2021-03-13T17:23:31.918220Z",
     "start_time": "2021-03-13T17:23:30.536285Z"
    }
   },
   "outputs": [],
   "source": [
    "import pandas as pd\n",
    "import numpy as np\n",
    "import matplotlib.pyplot as plt\n",
    "import seaborn as sns\n",
    "from scipy.stats import skew\n",
    "from scipy.stats import kurtosis\n",
    "\n",
    "from sklearn.model_selection import train_test_split\n",
    "from sklearn.ensemble import RandomForestRegressor\n",
    "from sklearn.metrics import mean_squared_error, r2_score\n",
    "from xgboost import XGBRegressor\n",
    "\n",
    "from sklearn.preprocessing import MinMaxScaler, StandardScaler, RobustScaler"
   ]
  },
  {
   "cell_type": "code",
   "execution_count": 54,
   "id": "synthetic-winning",
   "metadata": {
    "ExecuteTime": {
     "end_time": "2021-03-12T20:06:59.773372Z",
     "start_time": "2021-03-12T20:06:59.099791Z"
    }
   },
   "outputs": [],
   "source": [
    "df_train = pd.read_csv(\"train_NIR5Yl1.csv\")\n",
    "df_test = pd.read_csv(\"test_8i3B3FC.csv\")"
   ]
  },
  {
   "cell_type": "code",
   "execution_count": 36,
   "id": "scheduled-hostel",
   "metadata": {
    "ExecuteTime": {
     "end_time": "2021-03-12T20:05:25.529721Z",
     "start_time": "2021-03-12T20:05:25.515664Z"
    }
   },
   "outputs": [],
   "source": [
    "# df_train.Upvotes.plot(kind='kde')"
   ]
  },
  {
   "cell_type": "code",
   "execution_count": 4,
   "id": "imposed-puppy",
   "metadata": {
    "ExecuteTime": {
     "end_time": "2021-03-12T19:43:12.443928Z",
     "start_time": "2021-03-12T19:42:33.919843Z"
    }
   },
   "outputs": [
    {
     "data": {
      "text/plain": [
       "<AxesSubplot:ylabel='Density'>"
      ]
     },
     "execution_count": 4,
     "metadata": {},
     "output_type": "execute_result"
    },
    {
     "data": {
      "image/png": "[encoded data removed]",
      "text/plain": [
       "<Figure size 432x288 with 1 Axes>"
      ]
     },
     "metadata": {
      "needs_background": "light"
     },
     "output_type": "display_data"
    }
   ],
   "source": [
    "# independent variables\n",
    "df_train.Reputation.plot(kind='kde')"
   ]
  },
  {
   "cell_type": "code",
   "execution_count": 37,
   "id": "deadly-passing",
   "metadata": {
    "ExecuteTime": {
     "end_time": "2021-03-12T20:05:30.237922Z",
     "start_time": "2021-03-12T20:05:30.218013Z"
    }
   },
   "outputs": [
    {
     "data": {
      "text/plain": [
       "Index(['ID', 'Tag', 'Reputation', 'Answers', 'Username', 'Views', 'Upvotes'], dtype='object')"
      ]
     },
     "execution_count": 37,
     "metadata": {},
     "output_type": "execute_result"
    }
   ],
   "source": [
    "df_train.columns\n",
    "\n",
    "# it seems it has too many values out side the box"
   ]
  },
  {
   "cell_type": "markdown",
   "id": "global-stephen",
   "metadata": {},
   "source": [
    "### Applying log transformation on skewed data"
   ]
  },
  {
   "cell_type": "code",
   "execution_count": 55,
   "id": "physical-burke",
   "metadata": {
    "ExecuteTime": {
     "end_time": "2021-03-12T20:07:05.973111Z",
     "start_time": "2021-03-12T20:07:05.954094Z"
    }
   },
   "outputs": [],
   "source": [
    "mm = MinMaxScaler()"
   ]
  },
  {
   "cell_type": "code",
   "execution_count": 56,
   "id": "closing-fiction",
   "metadata": {
    "ExecuteTime": {
     "end_time": "2021-03-12T20:07:07.020640Z",
     "start_time": "2021-03-12T20:07:06.985519Z"
    }
   },
   "outputs": [],
   "source": [
    "df_train.Reputation = mm.fit_transform(df_train[['Reputation']])\n",
    "df_test.Reputation = mm.transform(df_test[['Reputation']])"
   ]
  },
  {
   "cell_type": "code",
   "execution_count": 58,
   "id": "informative-cabinet",
   "metadata": {
    "ExecuteTime": {
     "end_time": "2021-03-12T20:07:54.062441Z",
     "start_time": "2021-03-12T20:07:54.032729Z"
    }
   },
   "outputs": [],
   "source": [
    "df_train.Views = mm.fit_transform(df_train[['Views']])\n",
    "df_test.Views = mm.transform(df_test[['Views']])"
   ]
  },
  {
   "cell_type": "code",
   "execution_count": 59,
   "id": "trained-health",
   "metadata": {
    "ExecuteTime": {
     "end_time": "2021-03-12T20:07:54.643484Z",
     "start_time": "2021-03-12T20:07:54.614335Z"
    }
   },
   "outputs": [],
   "source": [
    "df_train.Answers = mm.fit_transform(df_train[['Answers']])\n",
    "df_test.Answers = mm.transform(df_test[['Answers']])"
   ]
  },
  {
   "cell_type": "code",
   "execution_count": 60,
   "id": "cultural-medicare",
   "metadata": {
    "ExecuteTime": {
     "end_time": "2021-03-12T20:07:57.874975Z",
     "start_time": "2021-03-12T20:07:57.843975Z"
    }
   },
   "outputs": [],
   "source": [
    "df_train.Reputation = np.log1p(df_train.Reputation)\n",
    "df_test.Reputation = np.log1p(df_test.Reputation)"
   ]
  },
  {
   "cell_type": "code",
   "execution_count": 43,
   "id": "chronic-jumping",
   "metadata": {
    "ExecuteTime": {
     "end_time": "2021-03-12T20:05:34.566462Z",
     "start_time": "2021-03-12T20:05:34.529405Z"
    }
   },
   "outputs": [],
   "source": [
    "df_train.Answers = np.log1p(df_train.Answers)\n",
    "df_test.Answers = np.log1p(df_test.Answers)"
   ]
  },
  {
   "cell_type": "code",
   "execution_count": 44,
   "id": "other-amber",
   "metadata": {
    "ExecuteTime": {
     "end_time": "2021-03-12T20:05:35.119945Z",
     "start_time": "2021-03-12T20:05:35.080867Z"
    }
   },
   "outputs": [],
   "source": [
    "df_train.Views = np.log1p(df_train.Views)\n",
    "df_test.Views = np.log1p(df_test.Views)"
   ]
  },
  {
   "cell_type": "code",
   "execution_count": 45,
   "id": "numerous-banks",
   "metadata": {
    "ExecuteTime": {
     "end_time": "2021-03-12T20:05:35.712247Z",
     "start_time": "2021-03-12T20:05:35.688243Z"
    }
   },
   "outputs": [],
   "source": [
    "df_train.Upvotes = np.log1p(df_train.Upvotes)"
   ]
  },
  {
   "cell_type": "code",
   "execution_count": null,
   "id": "seventh-delicious",
   "metadata": {},
   "outputs": [],
   "source": []
  },
  {
   "cell_type": "markdown",
   "id": "early-season",
   "metadata": {},
   "source": [
    "### After transformation"
   ]
  },
  {
   "cell_type": "code",
   "execution_count": 46,
   "id": "detailed-poison",
   "metadata": {
    "ExecuteTime": {
     "end_time": "2021-03-12T20:06:16.836433Z",
     "start_time": "2021-03-12T20:05:38.772837Z"
    }
   },
   "outputs": [
    {
     "data": {
      "text/plain": [
       "<AxesSubplot:ylabel='Density'>"
      ]
     },
     "execution_count": 46,
     "metadata": {},
     "output_type": "execute_result"
    },
    {
     "data": {
      "image/png": "[encoded data removed]",
      "text/plain": [
       "<Figure size 432x288 with 1 Axes>"
      ]
     },
     "metadata": {
      "needs_background": "light"
     },
     "output_type": "display_data"
    }
   ],
   "source": [
    "df_train.Reputation.plot(kind='kde')"
   ]
  },
  {
   "cell_type": "code",
   "execution_count": 47,
   "id": "anticipated-brother",
   "metadata": {
    "ExecuteTime": {
     "end_time": "2021-03-12T20:06:16.883805Z",
     "start_time": "2021-03-12T20:06:16.841748Z"
    }
   },
   "outputs": [],
   "source": [
    "df_train.drop(columns=['Username','ID'], inplace=True)\n",
    "df_test.drop(columns=['Username','ID'],inplace=True)"
   ]
  },
  {
   "cell_type": "code",
   "execution_count": 48,
   "id": "european-layer",
   "metadata": {
    "ExecuteTime": {
     "end_time": "2021-03-12T20:06:17.024069Z",
     "start_time": "2021-03-12T20:06:16.889748Z"
    }
   },
   "outputs": [],
   "source": [
    "df_train = pd.get_dummies(df_train, columns=['Tag'], drop_first=True)\n",
    "df_test = pd.get_dummies(df_test, columns=['Tag'], drop_first=True)"
   ]
  },
  {
   "cell_type": "code",
   "execution_count": 49,
   "id": "average-creativity",
   "metadata": {
    "ExecuteTime": {
     "end_time": "2021-03-12T20:06:17.055884Z",
     "start_time": "2021-03-12T20:06:17.029880Z"
    }
   },
   "outputs": [],
   "source": [
    "X = df_train.drop(columns=['Upvotes'])\n",
    "y = df_train.Upvotes"
   ]
  },
  {
   "cell_type": "code",
   "execution_count": 50,
   "id": "available-machine",
   "metadata": {
    "ExecuteTime": {
     "end_time": "2021-03-12T20:06:17.196942Z",
     "start_time": "2021-03-12T20:06:17.059957Z"
    }
   },
   "outputs": [],
   "source": [
    "X_train, X_test, y_train, y_test = train_test_split(X, y, test_size=0.2, random_state=42)"
   ]
  },
  {
   "cell_type": "code",
   "execution_count": 51,
   "id": "documented-injury",
   "metadata": {
    "ExecuteTime": {
     "end_time": "2021-03-12T20:06:40.176937Z",
     "start_time": "2021-03-12T20:06:17.206083Z"
    }
   },
   "outputs": [
    {
     "data": {
      "text/plain": [
       "0.8461859775984625"
      ]
     },
     "execution_count": 51,
     "metadata": {},
     "output_type": "execute_result"
    }
   ],
   "source": [
    "model = XGBRegressor(base_score=0.6, booster='gbtree', colsample_bylevel=1,\n",
    "             colsample_bynode=1, colsample_bytree=1, gamma=0, gpu_id=-1,\n",
    "             importance_type='gain', interaction_constraints='',\n",
    "             learning_rate=0.1, max_delta_step=0, max_depth=2,\n",
    "             min_child_weight=3, missing=np.nan, monotone_constraints='()',\n",
    "             n_estimators=600, n_jobs=8, num_parallel_tree=1, random_state=0,\n",
    "             reg_alpha=0, reg_lambda=1, scale_pos_weight=1, subsample=1,\n",
    "             tree_method='exact', validate_parameters=1, verbosity=None)\n",
    "model.fit(X_train, y_train)\n",
    "model.score(X_test,y_test)"
   ]
  },
  {
   "cell_type": "code",
   "execution_count": 52,
   "id": "exclusive-newsletter",
   "metadata": {
    "ExecuteTime": {
     "end_time": "2021-03-12T20:06:40.299863Z",
     "start_time": "2021-03-12T20:06:40.178882Z"
    }
   },
   "outputs": [
    {
     "data": {
      "text/plain": [
       "1520.5481866987216"
      ]
     },
     "execution_count": 52,
     "metadata": {},
     "output_type": "execute_result"
    }
   ],
   "source": [
    "y_pred = model.predict(X_test)\n",
    "\n",
    "np.sqrt(mean_squared_error(np.expm1(y_test),np.expm1(y_pred)))"
   ]
  },
  {
   "cell_type": "code",
   "execution_count": 53,
   "id": "continent-framing",
   "metadata": {
    "ExecuteTime": {
     "end_time": "2021-03-12T20:06:50.288090Z",
     "start_time": "2021-03-12T20:06:40.301864Z"
    }
   },
   "outputs": [],
   "source": [
    "df_pred = model.predict(df_test)\n",
    "df_pred = np.expm1(df_pred)\n",
    "df_final= pd.DataFrame([pd.read_csv(\"test_8i3B3FC.csv\")['ID'],df_pred])\n",
    "df_final=df_final.T\n",
    "df_final.columns = ['ID','Upvotes']\n",
    "df_final.to_csv('logonall_rf_results.csv',index=False)"
   ]
  },
  {
   "cell_type": "code",
   "execution_count": 22,
   "id": "thirty-spoke",
   "metadata": {
    "ExecuteTime": {
     "end_time": "2021-03-12T19:44:32.783360Z",
     "start_time": "2021-03-12T19:44:21.053328Z"
    }
   },
   "outputs": [
    {
     "data": {
      "text/plain": [
       "<AxesSubplot:ylabel='Density'>"
      ]
     },
     "execution_count": 22,
     "metadata": {},
     "output_type": "execute_result"
    },
    {
     "data": {
      "image/png": "[encoded data removed]",
      "text/plain": [
       "<Figure size 432x288 with 1 Axes>"
      ]
     },
     "metadata": {
      "needs_background": "light"
     },
     "output_type": "display_data"
    }
   ],
   "source": [
    "pd.DataFrame(model.predict(df_test)).plot(kind='kde')"
   ]
  },
  {
   "cell_type": "code",
   "execution_count": 23,
   "id": "sensitive-variance",
   "metadata": {
    "ExecuteTime": {
     "end_time": "2021-03-12T19:44:33.147432Z",
     "start_time": "2021-03-12T19:44:32.787301Z"
    }
   },
   "outputs": [
    {
     "data": {
      "text/html": [
       "<div>\n",
       "<style scoped>\n",
       "    .dataframe tbody tr th:only-of-type {\n",
       "        vertical-align: middle;\n",
       "    }\n",
       "\n",
       "    .dataframe tbody tr th {\n",
       "        vertical-align: top;\n",
       "    }\n",
       "\n",
       "    .dataframe thead th {\n",
       "        text-align: right;\n",
       "    }\n",
       "</style>\n",
       "<table border=\"1\" class=\"dataframe\">\n",
       "  <thead>\n",
       "    <tr style=\"text-align: right;\">\n",
       "      <th></th>\n",
       "      <th>Reputation</th>\n",
       "      <th>Answers</th>\n",
       "      <th>Views</th>\n",
       "      <th>Tag_c</th>\n",
       "      <th>Tag_h</th>\n",
       "      <th>Tag_i</th>\n",
       "      <th>Tag_j</th>\n",
       "      <th>Tag_o</th>\n",
       "      <th>Tag_p</th>\n",
       "      <th>Tag_r</th>\n",
       "      <th>Tag_s</th>\n",
       "      <th>Tag_x</th>\n",
       "    </tr>\n",
       "  </thead>\n",
       "  <tbody>\n",
       "    <tr>\n",
       "      <th>count</th>\n",
       "      <td>264036.000000</td>\n",
       "      <td>264036.000000</td>\n",
       "      <td>264036.000000</td>\n",
       "      <td>264036.000000</td>\n",
       "      <td>264036.000000</td>\n",
       "      <td>264036.000000</td>\n",
       "      <td>264036.000000</td>\n",
       "      <td>264036.000000</td>\n",
       "      <td>264036.000000</td>\n",
       "      <td>264036.000000</td>\n",
       "      <td>264036.000000</td>\n",
       "      <td>264036.000000</td>\n",
       "    </tr>\n",
       "    <tr>\n",
       "      <th>mean</th>\n",
       "      <td>0.501157</td>\n",
       "      <td>0.325923</td>\n",
       "      <td>0.506102</td>\n",
       "      <td>0.219277</td>\n",
       "      <td>0.062412</td>\n",
       "      <td>0.097862</td>\n",
       "      <td>0.219103</td>\n",
       "      <td>0.043956</td>\n",
       "      <td>0.131971</td>\n",
       "      <td>0.037840</td>\n",
       "      <td>0.070577</td>\n",
       "      <td>0.021232</td>\n",
       "    </tr>\n",
       "    <tr>\n",
       "      <th>std</th>\n",
       "      <td>0.166177</td>\n",
       "      <td>0.130281</td>\n",
       "      <td>0.134944</td>\n",
       "      <td>0.413757</td>\n",
       "      <td>0.241903</td>\n",
       "      <td>0.297128</td>\n",
       "      <td>0.413639</td>\n",
       "      <td>0.204998</td>\n",
       "      <td>0.338459</td>\n",
       "      <td>0.190808</td>\n",
       "      <td>0.256118</td>\n",
       "      <td>0.144157</td>\n",
       "    </tr>\n",
       "    <tr>\n",
       "      <th>min</th>\n",
       "      <td>0.000000</td>\n",
       "      <td>0.000000</td>\n",
       "      <td>0.035694</td>\n",
       "      <td>0.000000</td>\n",
       "      <td>0.000000</td>\n",
       "      <td>0.000000</td>\n",
       "      <td>0.000000</td>\n",
       "      <td>0.000000</td>\n",
       "      <td>0.000000</td>\n",
       "      <td>0.000000</td>\n",
       "      <td>0.000000</td>\n",
       "      <td>0.000000</td>\n",
       "    </tr>\n",
       "    <tr>\n",
       "      <th>25%</th>\n",
       "      <td>0.407150</td>\n",
       "      <td>0.252915</td>\n",
       "      <td>0.422068</td>\n",
       "      <td>0.000000</td>\n",
       "      <td>0.000000</td>\n",
       "      <td>0.000000</td>\n",
       "      <td>0.000000</td>\n",
       "      <td>0.000000</td>\n",
       "      <td>0.000000</td>\n",
       "      <td>0.000000</td>\n",
       "      <td>0.000000</td>\n",
       "      <td>0.000000</td>\n",
       "    </tr>\n",
       "    <tr>\n",
       "      <th>50%</th>\n",
       "      <td>0.513849</td>\n",
       "      <td>0.319143</td>\n",
       "      <td>0.516223</td>\n",
       "      <td>0.000000</td>\n",
       "      <td>0.000000</td>\n",
       "      <td>0.000000</td>\n",
       "      <td>0.000000</td>\n",
       "      <td>0.000000</td>\n",
       "      <td>0.000000</td>\n",
       "      <td>0.000000</td>\n",
       "      <td>0.000000</td>\n",
       "      <td>0.000000</td>\n",
       "    </tr>\n",
       "    <tr>\n",
       "      <th>75%</th>\n",
       "      <td>0.616146</td>\n",
       "      <td>0.412486</td>\n",
       "      <td>0.599739</td>\n",
       "      <td>0.000000</td>\n",
       "      <td>0.000000</td>\n",
       "      <td>0.000000</td>\n",
       "      <td>0.000000</td>\n",
       "      <td>0.000000</td>\n",
       "      <td>0.000000</td>\n",
       "      <td>0.000000</td>\n",
       "      <td>0.000000</td>\n",
       "      <td>0.000000</td>\n",
       "    </tr>\n",
       "    <tr>\n",
       "      <th>max</th>\n",
       "      <td>1.000000</td>\n",
       "      <td>1.000000</td>\n",
       "      <td>1.000000</td>\n",
       "      <td>1.000000</td>\n",
       "      <td>1.000000</td>\n",
       "      <td>1.000000</td>\n",
       "      <td>1.000000</td>\n",
       "      <td>1.000000</td>\n",
       "      <td>1.000000</td>\n",
       "      <td>1.000000</td>\n",
       "      <td>1.000000</td>\n",
       "      <td>1.000000</td>\n",
       "    </tr>\n",
       "  </tbody>\n",
       "</table>\n",
       "</div>"
      ],
      "text/plain": [
       "          Reputation        Answers          Views          Tag_c  \\\n",
       "count  264036.000000  264036.000000  264036.000000  264036.000000   \n",
       "mean        0.501157       0.325923       0.506102       0.219277   \n",
       "std         0.166177       0.130281       0.134944       0.413757   \n",
       "min         0.000000       0.000000       0.035694       0.000000   \n",
       "25%         0.407150       0.252915       0.422068       0.000000   \n",
       "50%         0.513849       0.319143       0.516223       0.000000   \n",
       "75%         0.616146       0.412486       0.599739       0.000000   \n",
       "max         1.000000       1.000000       1.000000       1.000000   \n",
       "\n",
       "               Tag_h          Tag_i          Tag_j          Tag_o  \\\n",
       "count  264036.000000  264036.000000  264036.000000  264036.000000   \n",
       "mean        0.062412       0.097862       0.219103       0.043956   \n",
       "std         0.241903       0.297128       0.413639       0.204998   \n",
       "min         0.000000       0.000000       0.000000       0.000000   \n",
       "25%         0.000000       0.000000       0.000000       0.000000   \n",
       "50%         0.000000       0.000000       0.000000       0.000000   \n",
       "75%         0.000000       0.000000       0.000000       0.000000   \n",
       "max         1.000000       1.000000       1.000000       1.000000   \n",
       "\n",
       "               Tag_p          Tag_r          Tag_s          Tag_x  \n",
       "count  264036.000000  264036.000000  264036.000000  264036.000000  \n",
       "mean        0.131971       0.037840       0.070577       0.021232  \n",
       "std         0.338459       0.190808       0.256118       0.144157  \n",
       "min         0.000000       0.000000       0.000000       0.000000  \n",
       "25%         0.000000       0.000000       0.000000       0.000000  \n",
       "50%         0.000000       0.000000       0.000000       0.000000  \n",
       "75%         0.000000       0.000000       0.000000       0.000000  \n",
       "max         1.000000       1.000000       1.000000       1.000000  "
      ]
     },
     "execution_count": 23,
     "metadata": {},
     "output_type": "execute_result"
    }
   ],
   "source": [
    "X_train.describe()\n"
   ]
  },
  {
   "cell_type": "markdown",
   "id": "contained-yield",
   "metadata": {},
   "source": [
    "---------------------------------\n",
    "## Trying normal without log transformation"
   ]
  },
  {
   "cell_type": "code",
   "execution_count": 5,
   "id": "ignored-harrison",
   "metadata": {
    "ExecuteTime": {
     "end_time": "2021-03-13T17:23:34.954322Z",
     "start_time": "2021-03-13T17:23:34.731098Z"
    }
   },
   "outputs": [],
   "source": [
    "df_train = pd.read_csv(\"train_NIR5Yl1.csv\")\n",
    "df_test = pd.read_csv(\"test_8i3B3FC.csv\")"
   ]
  },
  {
   "cell_type": "code",
   "execution_count": 6,
   "id": "superb-entrance",
   "metadata": {
    "ExecuteTime": {
     "end_time": "2021-03-13T17:23:34.985327Z",
     "start_time": "2021-03-13T17:23:34.956085Z"
    }
   },
   "outputs": [],
   "source": [
    "df_train.drop(columns=['Username','ID'], inplace=True)\n",
    "df_test.drop(columns=['Username','ID'],inplace=True)"
   ]
  },
  {
   "cell_type": "code",
   "execution_count": 7,
   "id": "relevant-reaction",
   "metadata": {
    "ExecuteTime": {
     "end_time": "2021-03-13T17:23:35.080294Z",
     "start_time": "2021-03-13T17:23:35.006097Z"
    }
   },
   "outputs": [],
   "source": [
    "df_train = pd.get_dummies(df_train, columns=['Tag'], drop_first=True)\n",
    "df_test = pd.get_dummies(df_test, columns=['Tag'], drop_first=True)"
   ]
  },
  {
   "cell_type": "code",
   "execution_count": 8,
   "id": "interested-declaration",
   "metadata": {
    "ExecuteTime": {
     "end_time": "2021-03-13T17:23:35.126120Z",
     "start_time": "2021-03-13T17:23:35.105091Z"
    }
   },
   "outputs": [],
   "source": [
    "X = df_train.drop(columns=['Upvotes'])\n",
    "y = df_train.Upvotes"
   ]
  },
  {
   "cell_type": "code",
   "execution_count": 9,
   "id": "horizontal-suite",
   "metadata": {
    "ExecuteTime": {
     "end_time": "2021-03-13T17:23:35.315211Z",
     "start_time": "2021-03-13T17:23:35.239015Z"
    }
   },
   "outputs": [],
   "source": [
    "X_train, X_test, y_train, y_test = train_test_split(X, y, test_size=0.2, random_state=42)"
   ]
  },
  {
   "cell_type": "code",
   "execution_count": 12,
   "id": "valid-candy",
   "metadata": {
    "ExecuteTime": {
     "end_time": "2021-03-13T21:33:17.298847Z",
     "start_time": "2021-03-13T17:24:02.400907Z"
    }
   },
   "outputs": [
    {
     "name": "stdout",
     "output_type": "stream",
     "text": [
      "Fitting 5 folds for each of 50 candidates, totalling 250 fits\n"
     ]
    },
    {
     "name": "stderr",
     "output_type": "stream",
     "text": [
      "[Parallel(n_jobs=4)]: Using backend LokyBackend with 4 concurrent workers.\n",
      "[Parallel(n_jobs=4)]: Done  10 tasks      | elapsed:  1.9min\n",
      "[Parallel(n_jobs=4)]: Done  64 tasks      | elapsed: 91.8min\n",
      "[Parallel(n_jobs=4)]: Done 154 tasks      | elapsed: 201.8min\n",
      "[Parallel(n_jobs=4)]: Done 250 out of 250 | elapsed: 248.1min finished\n"
     ]
    },
    {
     "data": {
      "text/plain": [
       "RandomizedSearchCV(cv=5,\n",
       "                   estimator=XGBRegressor(base_score=None, booster=None,\n",
       "                                          colsample_bylevel=None,\n",
       "                                          colsample_bynode=None,\n",
       "                                          colsample_bytree=None, gamma=None,\n",
       "                                          gpu_id=None, importance_type='gain',\n",
       "                                          interaction_constraints=None,\n",
       "                                          learning_rate=None,\n",
       "                                          max_delta_step=None, max_depth=None,\n",
       "                                          min_child_weight=None, missing=nan,\n",
       "                                          monotone_constraints=None,\n",
       "                                          n_estimators=100, n...\n",
       "                                          scale_pos_weight=None, subsample=None,\n",
       "                                          tree_method=None,\n",
       "                                          validate_parameters=None,\n",
       "                                          verbosity=None),\n",
       "                   n_iter=50, n_jobs=4,\n",
       "                   param_distributions={'base_score': [0.2, 0.6, 1],\n",
       "                                        'booster': ['gbtree'],\n",
       "                                        'learning_rate': [0.02, 0.1, 0.2],\n",
       "                                        'max_depth': [2, 9, 15],\n",
       "                                        'min_child_weight': [1, 3, 6],\n",
       "                                        'n_estimators': [100, 600, 1500]},\n",
       "                   random_state=42, return_train_score=True,\n",
       "                   scoring='neg_root_mean_squared_error', verbose=5)"
      ]
     },
     "execution_count": 12,
     "metadata": {},
     "output_type": "execute_result"
    }
   ],
   "source": [
    "# Lets try with randomizedsearchCV\n",
    "from sklearn.model_selection import RandomizedSearchCV\n",
    "\n",
    "\n",
    "model = XGBRegressor()\n",
    "\n",
    "n_estimators = [100,600,1500]\n",
    "max_depth = [2,9,15]\n",
    "booster = ['gbtree']\n",
    "learning_rate = [0.02,0.1,0.2]\n",
    "min_child_weight = [1,3,6]\n",
    "base_score = [0.2,0.6,1]\n",
    "\n",
    "hyperparameter_grid = {\n",
    "    'n_estimators' : n_estimators,\n",
    "    'max_depth' : max_depth,\n",
    "    'learning_rate' : learning_rate,\n",
    "    'min_child_weight':min_child_weight,\n",
    "    'booster': booster,\n",
    "    'base_score': base_score   \n",
    "    \n",
    "}\n",
    "\n",
    "\n",
    "random_cv = RandomizedSearchCV(estimator=model,param_distributions=hyperparameter_grid,\n",
    "                              cv= 5, n_iter = 50,\n",
    "                              scoring = 'neg_root_mean_squared_error',\n",
    "                              n_jobs = 4,\n",
    "                              verbose = 5,\n",
    "                              return_train_score = True,\n",
    "                              random_state= 42)\n",
    "\n",
    "random_cv.fit(X_train,y_train)"
   ]
  },
  {
   "cell_type": "code",
   "execution_count": 16,
   "id": "middle-practice",
   "metadata": {
    "ExecuteTime": {
     "end_time": "2021-03-13T22:28:25.524069Z",
     "start_time": "2021-03-13T22:28:25.507074Z"
    }
   },
   "outputs": [
    {
     "data": {
      "text/plain": [
       "XGBRegressor(base_score=0.6, booster='gbtree', colsample_bylevel=1,\n",
       "             colsample_bynode=1, colsample_bytree=1, gamma=0, gpu_id=-1,\n",
       "             importance_type='gain', interaction_constraints='',\n",
       "             learning_rate=0.1, max_delta_step=0, max_depth=2,\n",
       "             min_child_weight=3, missing=nan, monotone_constraints='()',\n",
       "             n_estimators=1500, n_jobs=8, num_parallel_tree=1, random_state=0,\n",
       "             reg_alpha=0, reg_lambda=1, scale_pos_weight=1, subsample=1,\n",
       "             tree_method='exact', validate_parameters=1, verbosity=None)"
      ]
     },
     "execution_count": 16,
     "metadata": {},
     "output_type": "execute_result"
    }
   ],
   "source": [
    "random_cv.best_estimator_"
   ]
  },
  {
   "cell_type": "code",
   "execution_count": 17,
   "id": "clean-testing",
   "metadata": {
    "ExecuteTime": {
     "end_time": "2021-03-13T22:29:28.536822Z",
     "start_time": "2021-03-13T22:28:44.241469Z"
    }
   },
   "outputs": [
    {
     "data": {
      "text/plain": [
       "0.9093427142545055"
      ]
     },
     "execution_count": 17,
     "metadata": {},
     "output_type": "execute_result"
    }
   ],
   "source": [
    "model = XGBRegressor(base_score=0.6, booster='gbtree', colsample_bylevel=1,\n",
    "             colsample_bynode=1, colsample_bytree=1, gamma=0, gpu_id=-1,\n",
    "             importance_type='gain', interaction_constraints='',\n",
    "             learning_rate=0.1, max_delta_step=0, max_depth=2,\n",
    "             min_child_weight=3, missing=np.nan, monotone_constraints='()',\n",
    "             n_estimators=1500, n_jobs=8, num_parallel_tree=1, random_state=0,\n",
    "             reg_alpha=0, reg_lambda=1, scale_pos_weight=1, subsample=1,\n",
    "             tree_method='exact', validate_parameters=1, verbosity=None)\n",
    "model.fit(X_train, y_train)\n",
    "model.score(X_test,y_test)"
   ]
  },
  {
   "cell_type": "code",
   "execution_count": 18,
   "id": "permanent-following",
   "metadata": {
    "ExecuteTime": {
     "end_time": "2021-03-13T22:29:28.723821Z",
     "start_time": "2021-03-13T22:29:28.540823Z"
    }
   },
   "outputs": [
    {
     "data": {
      "text/plain": [
       "1179.6129539055562"
      ]
     },
     "execution_count": 18,
     "metadata": {},
     "output_type": "execute_result"
    }
   ],
   "source": [
    "y_pred = model.predict(X_test)\n",
    "\n",
    "np.sqrt(mean_squared_error(y_test,y_pred))"
   ]
  },
  {
   "cell_type": "code",
   "execution_count": 19,
   "id": "double-quebec",
   "metadata": {
    "ExecuteTime": {
     "end_time": "2021-03-13T22:29:33.164400Z",
     "start_time": "2021-03-13T22:29:28.726822Z"
    }
   },
   "outputs": [],
   "source": [
    "df_pred = model.predict(df_test)\n",
    "#df_pred = np.expm1(df_pred)\n",
    "df_final= pd.DataFrame([pd.read_csv(\"test_8i3B3FC.csv\")['ID'],df_pred])\n",
    "df_final=df_final.T\n",
    "df_final.columns = ['ID','Upvotes']\n",
    "df_final.to_csv('nothing_results.csv',index=False)"
   ]
  },
  {
   "cell_type": "code",
   "execution_count": null,
   "id": "finite-ceiling",
   "metadata": {},
   "outputs": [],
   "source": []
  },
  {
   "cell_type": "markdown",
   "id": "civil-degree",
   "metadata": {},
   "source": [
    "# RMSE\n",
    "> ### without Log transformation - 1108.7560634485196\n",
    "> ### with Log transformation - 1520.5029213619305"
   ]
  },
  {
   "cell_type": "code",
   "execution_count": null,
   "id": "impaired-given",
   "metadata": {},
   "outputs": [],
   "source": []
  }
 ],
 "metadata": {
  "kernelspec": {
   "display_name": "Python 3",
   "language": "python",
   "name": "python3"
  },
  "language_info": {
   "codemirror_mode": {
    "name": "ipython",
    "version": 3
   },
   "file_extension": ".py",
   "mimetype": "text/x-python",
   "name": "python",
   "nbconvert_exporter": "python",
   "pygments_lexer": "ipython3",
   "version": "3.8.5"
  }
 },
 "nbformat": 4,
 "nbformat_minor": 5
}
