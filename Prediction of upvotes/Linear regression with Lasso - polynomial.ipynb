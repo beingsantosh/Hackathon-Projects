{
 "cells": [
  {
   "cell_type": "markdown",
   "id": "formed-photographer",
   "metadata": {},
   "source": [
    ">**Problem Statement:** An online question and answer platform has hired you as a data scientist to identify the best question authors on the platform. This identification will bring more insight into increasing the user engagement. Given the tag of the question, number of views received, number of answers, username and reputation of the question author, the problem requires you to predict the upvote count that the question will receive."
   ]
  },
  {
   "cell_type": "markdown",
   "id": "national-memory",
   "metadata": {},
   "source": [
    "# With log transformation"
   ]
  },
  {
   "cell_type": "code",
   "execution_count": 49,
   "id": "virtual-mauritius",
   "metadata": {
    "ExecuteTime": {
     "end_time": "2021-03-13T17:14:47.670871Z",
     "start_time": "2021-03-13T17:14:47.651981Z"
    }
   },
   "outputs": [],
   "source": [
    "import pandas as pd\n",
    "import numpy as np\n",
    "import matplotlib.pyplot as plt\n",
    "import seaborn as sns\n",
    "from scipy.stats import skew\n",
    "from scipy.stats import kurtosis\n",
    "\n",
    "from sklearn.model_selection import train_test_split\n",
    "from sklearn.ensemble import RandomForestRegressor\n",
    "from sklearn.metrics import mean_squared_error, r2_score\n",
    "from xgboost import XGBRegressor\n",
    "from sklearn.preprocessing import LabelEncoder\n",
    "\n",
    "from tensorflow.keras.models import Sequential\n",
    "from tensorflow.keras.layers import Dense, LeakyReLU, PReLU, ELU, Dropout\n",
    "from tensorflow.keras.callbacks import EarlyStopping\n",
    "from tensorflow.keras import regularizers\n",
    "from sklearn import linear_model\n",
    "\n",
    "from sklearn.preprocessing import MinMaxScaler, StandardScaler, RobustScaler"
   ]
  },
  {
   "cell_type": "code",
   "execution_count": 50,
   "id": "synthetic-winning",
   "metadata": {
    "ExecuteTime": {
     "end_time": "2021-03-13T17:14:48.064505Z",
     "start_time": "2021-03-13T17:14:47.810289Z"
    }
   },
   "outputs": [],
   "source": [
    "df_train = pd.read_csv(\"train_NIR5Yl1.csv\")\n",
    "df_test = pd.read_csv(\"test_8i3B3FC.csv\")"
   ]
  },
  {
   "cell_type": "code",
   "execution_count": 51,
   "id": "scheduled-hostel",
   "metadata": {
    "ExecuteTime": {
     "end_time": "2021-03-13T17:14:48.079490Z",
     "start_time": "2021-03-13T17:14:48.068288Z"
    }
   },
   "outputs": [],
   "source": [
    "# df_train.Upvotes.plot(kind='kde')"
   ]
  },
  {
   "cell_type": "code",
   "execution_count": 52,
   "id": "imposed-puppy",
   "metadata": {
    "ExecuteTime": {
     "end_time": "2021-03-13T17:14:48.095285Z",
     "start_time": "2021-03-13T17:14:48.089286Z"
    }
   },
   "outputs": [],
   "source": [
    "# independent variables\n",
    "# df_train.Reputation.plot(kind='kde')"
   ]
  },
  {
   "cell_type": "code",
   "execution_count": 53,
   "id": "deadly-passing",
   "metadata": {
    "ExecuteTime": {
     "end_time": "2021-03-13T17:14:48.236080Z",
     "start_time": "2021-03-13T17:14:48.230111Z"
    }
   },
   "outputs": [
    {
     "data": {
      "text/plain": [
       "Index(['ID', 'Tag', 'Reputation', 'Answers', 'Username', 'Views', 'Upvotes'], dtype='object')"
      ]
     },
     "execution_count": 53,
     "metadata": {},
     "output_type": "execute_result"
    }
   ],
   "source": [
    "df_train.columns\n",
    "\n",
    "# it seems it has too many values out side the box"
   ]
  },
  {
   "cell_type": "markdown",
   "id": "global-stephen",
   "metadata": {},
   "source": [
    "### Applying log transformation on skewed data"
   ]
  },
  {
   "cell_type": "code",
   "execution_count": 54,
   "id": "physical-burke",
   "metadata": {
    "ExecuteTime": {
     "end_time": "2021-03-13T17:14:48.517738Z",
     "start_time": "2021-03-13T17:14:48.512744Z"
    }
   },
   "outputs": [],
   "source": [
    "mm = MinMaxScaler()"
   ]
  },
  {
   "cell_type": "code",
   "execution_count": 55,
   "id": "closing-fiction",
   "metadata": {
    "ExecuteTime": {
     "end_time": "2021-03-13T17:14:48.642726Z",
     "start_time": "2021-03-13T17:14:48.622686Z"
    }
   },
   "outputs": [],
   "source": [
    "df_train.Reputation = mm.fit_transform(df_train[['Reputation']])\n",
    "df_test.Reputation = mm.transform(df_test[['Reputation']])"
   ]
  },
  {
   "cell_type": "code",
   "execution_count": 56,
   "id": "informative-cabinet",
   "metadata": {
    "ExecuteTime": {
     "end_time": "2021-03-13T17:14:48.782285Z",
     "start_time": "2021-03-13T17:14:48.758600Z"
    }
   },
   "outputs": [],
   "source": [
    "df_train.Views = mm.fit_transform(df_train[['Views']])\n",
    "df_test.Views = mm.transform(df_test[['Views']])"
   ]
  },
  {
   "cell_type": "code",
   "execution_count": 57,
   "id": "trained-health",
   "metadata": {
    "ExecuteTime": {
     "end_time": "2021-03-13T17:14:48.922951Z",
     "start_time": "2021-03-13T17:14:48.901950Z"
    }
   },
   "outputs": [],
   "source": [
    "df_train.Answers = mm.fit_transform(df_train[['Answers']])\n",
    "df_test.Answers = mm.transform(df_test[['Answers']])"
   ]
  },
  {
   "cell_type": "code",
   "execution_count": 58,
   "id": "cultural-medicare",
   "metadata": {
    "ExecuteTime": {
     "end_time": "2021-03-13T17:14:49.095980Z",
     "start_time": "2021-03-13T17:14:49.077979Z"
    }
   },
   "outputs": [],
   "source": [
    "df_train.Reputation = np.log1p(df_train.Reputation)\n",
    "df_test.Reputation = np.log1p(df_test.Reputation)"
   ]
  },
  {
   "cell_type": "code",
   "execution_count": 59,
   "id": "chronic-jumping",
   "metadata": {
    "ExecuteTime": {
     "end_time": "2021-03-13T17:14:50.131470Z",
     "start_time": "2021-03-13T17:14:50.111469Z"
    }
   },
   "outputs": [],
   "source": [
    "df_train.Answers = np.log1p(df_train.Answers)\n",
    "df_test.Answers = np.log1p(df_test.Answers)"
   ]
  },
  {
   "cell_type": "code",
   "execution_count": 60,
   "id": "other-amber",
   "metadata": {
    "ExecuteTime": {
     "end_time": "2021-03-13T17:14:50.303998Z",
     "start_time": "2021-03-13T17:14:50.284965Z"
    }
   },
   "outputs": [],
   "source": [
    "df_train.Views = np.log1p(df_train.Views)\n",
    "df_test.Views = np.log1p(df_test.Views)"
   ]
  },
  {
   "cell_type": "code",
   "execution_count": 61,
   "id": "numerous-banks",
   "metadata": {
    "ExecuteTime": {
     "end_time": "2021-03-13T17:14:50.458254Z",
     "start_time": "2021-03-13T17:14:50.439254Z"
    }
   },
   "outputs": [],
   "source": [
    "df_train.Upvotes = np.log1p(df_train.Upvotes)"
   ]
  },
  {
   "cell_type": "code",
   "execution_count": 62,
   "id": "seventh-delicious",
   "metadata": {
    "ExecuteTime": {
     "end_time": "2021-03-13T17:14:50.600903Z",
     "start_time": "2021-03-13T17:14:50.589938Z"
    }
   },
   "outputs": [
    {
     "data": {
      "text/plain": [
       "Index(['ID', 'Tag', 'Reputation', 'Answers', 'Username', 'Views', 'Upvotes'], dtype='object')"
      ]
     },
     "execution_count": 62,
     "metadata": {},
     "output_type": "execute_result"
    }
   ],
   "source": [
    "df_train.columns"
   ]
  },
  {
   "cell_type": "markdown",
   "id": "early-season",
   "metadata": {},
   "source": [
    "### After transformation"
   ]
  },
  {
   "cell_type": "code",
   "execution_count": 63,
   "id": "detailed-poison",
   "metadata": {
    "ExecuteTime": {
     "end_time": "2021-03-13T17:14:51.605571Z",
     "start_time": "2021-03-13T17:14:51.597539Z"
    }
   },
   "outputs": [],
   "source": [
    "# df_train.Reputation.plot(kind='kde')"
   ]
  },
  {
   "cell_type": "code",
   "execution_count": 64,
   "id": "anticipated-brother",
   "metadata": {
    "ExecuteTime": {
     "end_time": "2021-03-13T17:14:51.806494Z",
     "start_time": "2021-03-13T17:14:51.777243Z"
    }
   },
   "outputs": [],
   "source": [
    "df_train.drop(columns=['Username','ID'], inplace=True)\n",
    "df_test.drop(columns=['Username','ID'],inplace=True)\n",
    "\n"
   ]
  },
  {
   "cell_type": "code",
   "execution_count": 65,
   "id": "european-layer",
   "metadata": {
    "ExecuteTime": {
     "end_time": "2021-03-13T17:14:52.526659Z",
     "start_time": "2021-03-13T17:14:52.465343Z"
    }
   },
   "outputs": [],
   "source": [
    "# df_train = pd.get_dummies(df_train, columns=['Tag'], drop_first=True)\n",
    "# df_test = pd.get_dummies(df_test, columns=['Tag'], drop_first=True)\n",
    "le = LabelEncoder()\n",
    "df_train.Tag = le.fit_transform(df_train['Tag'])\n",
    "df_test.Tag = le.transform(df_test['Tag'])"
   ]
  },
  {
   "cell_type": "code",
   "execution_count": 66,
   "id": "average-creativity",
   "metadata": {
    "ExecuteTime": {
     "end_time": "2021-03-13T17:14:55.548364Z",
     "start_time": "2021-03-13T17:14:55.533364Z"
    }
   },
   "outputs": [],
   "source": [
    "X = df_train.drop(columns=['Upvotes'])\n",
    "y = df_train.Upvotes"
   ]
  },
  {
   "cell_type": "code",
   "execution_count": 67,
   "id": "available-machine",
   "metadata": {
    "ExecuteTime": {
     "end_time": "2021-03-13T17:14:56.076525Z",
     "start_time": "2021-03-13T17:14:56.033142Z"
    }
   },
   "outputs": [],
   "source": [
    "X_train, X_test, y_train, y_test = train_test_split(X, y, test_size=0.2, random_state=42)"
   ]
  },
  {
   "cell_type": "code",
   "execution_count": 68,
   "id": "alternate-undergraduate",
   "metadata": {
    "ExecuteTime": {
     "end_time": "2021-03-13T17:14:56.575106Z",
     "start_time": "2021-03-13T17:14:56.562115Z"
    }
   },
   "outputs": [
    {
     "data": {
      "text/plain": [
       "(264036, 4)"
      ]
     },
     "execution_count": 68,
     "metadata": {},
     "output_type": "execute_result"
    }
   ],
   "source": [
    "X_train.shape"
   ]
  },
  {
   "cell_type": "code",
   "execution_count": 69,
   "id": "unnecessary-transition",
   "metadata": {
    "ExecuteTime": {
     "end_time": "2021-03-13T17:14:57.118792Z",
     "start_time": "2021-03-13T17:14:57.109789Z"
    }
   },
   "outputs": [],
   "source": [
    "clf = linear_model.Lasso(alpha=0.0000001)"
   ]
  },
  {
   "cell_type": "code",
   "execution_count": 70,
   "id": "minus-europe",
   "metadata": {
    "ExecuteTime": {
     "end_time": "2021-03-13T17:14:57.790283Z",
     "start_time": "2021-03-13T17:14:57.730185Z"
    }
   },
   "outputs": [
    {
     "data": {
      "text/plain": [
       "Lasso(alpha=1e-07)"
      ]
     },
     "execution_count": 70,
     "metadata": {},
     "output_type": "execute_result"
    }
   ],
   "source": [
    "clf.fit(X_train,y_train)"
   ]
  },
  {
   "cell_type": "code",
   "execution_count": 71,
   "id": "other-thesaurus",
   "metadata": {
    "ExecuteTime": {
     "end_time": "2021-03-13T17:14:58.886674Z",
     "start_time": "2021-03-13T17:14:58.874675Z"
    }
   },
   "outputs": [],
   "source": [
    "y_pred = clf.predict(X_test)"
   ]
  },
  {
   "cell_type": "code",
   "execution_count": 72,
   "id": "southwest-rehabilitation",
   "metadata": {
    "ExecuteTime": {
     "end_time": "2021-03-13T17:14:59.543116Z",
     "start_time": "2021-03-13T17:14:59.527116Z"
    }
   },
   "outputs": [
    {
     "data": {
      "text/plain": [
       "0.43651308725936644"
      ]
     },
     "execution_count": 72,
     "metadata": {},
     "output_type": "execute_result"
    }
   ],
   "source": [
    "r2_score(y_test,y_pred)"
   ]
  },
  {
   "cell_type": "code",
   "execution_count": 73,
   "id": "advanced-color",
   "metadata": {
    "ExecuteTime": {
     "end_time": "2021-03-13T17:15:00.476100Z",
     "start_time": "2021-03-13T17:15:00.466096Z"
    }
   },
   "outputs": [
    {
     "data": {
      "text/plain": [
       "array([2.93303811, 4.25761458, 3.2903662 , ..., 3.57784642, 3.57552065,\n",
       "       4.38832904])"
      ]
     },
     "execution_count": 73,
     "metadata": {},
     "output_type": "execute_result"
    }
   ],
   "source": [
    "y_pred"
   ]
  },
  {
   "cell_type": "code",
   "execution_count": 74,
   "id": "confident-delaware",
   "metadata": {
    "ExecuteTime": {
     "end_time": "2021-03-13T17:15:01.351228Z",
     "start_time": "2021-03-13T17:15:01.333235Z"
    }
   },
   "outputs": [
    {
     "data": {
      "text/plain": [
       "1.9125326684573676"
      ]
     },
     "execution_count": 74,
     "metadata": {},
     "output_type": "execute_result"
    }
   ],
   "source": [
    "mean_squared_error(y_test,y_pred)"
   ]
  },
  {
   "cell_type": "code",
   "execution_count": 75,
   "id": "correct-gasoline",
   "metadata": {
    "ExecuteTime": {
     "end_time": "2021-03-13T17:15:02.199726Z",
     "start_time": "2021-03-13T17:15:02.188723Z"
    }
   },
   "outputs": [
    {
     "data": {
      "text/html": [
       "<div>\n",
       "<style scoped>\n",
       "    .dataframe tbody tr th:only-of-type {\n",
       "        vertical-align: middle;\n",
       "    }\n",
       "\n",
       "    .dataframe tbody tr th {\n",
       "        vertical-align: top;\n",
       "    }\n",
       "\n",
       "    .dataframe thead th {\n",
       "        text-align: right;\n",
       "    }\n",
       "</style>\n",
       "<table border=\"1\" class=\"dataframe\">\n",
       "  <thead>\n",
       "    <tr style=\"text-align: right;\">\n",
       "      <th></th>\n",
       "      <th>Tag</th>\n",
       "      <th>Reputation</th>\n",
       "      <th>Answers</th>\n",
       "      <th>Views</th>\n",
       "    </tr>\n",
       "  </thead>\n",
       "  <tbody>\n",
       "    <tr>\n",
       "      <th>101695</th>\n",
       "      <td>6</td>\n",
       "      <td>0.000017</td>\n",
       "      <td>0.038715</td>\n",
       "      <td>0.001061</td>\n",
       "    </tr>\n",
       "    <tr>\n",
       "      <th>260437</th>\n",
       "      <td>9</td>\n",
       "      <td>0.000472</td>\n",
       "      <td>0.135175</td>\n",
       "      <td>0.007712</td>\n",
       "    </tr>\n",
       "    <tr>\n",
       "      <th>207112</th>\n",
       "      <td>4</td>\n",
       "      <td>0.000322</td>\n",
       "      <td>0.038715</td>\n",
       "      <td>0.007906</td>\n",
       "    </tr>\n",
       "    <tr>\n",
       "      <th>319275</th>\n",
       "      <td>1</td>\n",
       "      <td>0.000160</td>\n",
       "      <td>0.063716</td>\n",
       "      <td>0.027091</td>\n",
       "    </tr>\n",
       "    <tr>\n",
       "      <th>157589</th>\n",
       "      <td>0</td>\n",
       "      <td>0.000338</td>\n",
       "      <td>0.051293</td>\n",
       "      <td>0.000386</td>\n",
       "    </tr>\n",
       "    <tr>\n",
       "      <th>...</th>\n",
       "      <td>...</td>\n",
       "      <td>...</td>\n",
       "      <td>...</td>\n",
       "      <td>...</td>\n",
       "    </tr>\n",
       "    <tr>\n",
       "      <th>72320</th>\n",
       "      <td>1</td>\n",
       "      <td>0.000170</td>\n",
       "      <td>0.013072</td>\n",
       "      <td>0.000127</td>\n",
       "    </tr>\n",
       "    <tr>\n",
       "      <th>16363</th>\n",
       "      <td>6</td>\n",
       "      <td>0.000445</td>\n",
       "      <td>0.038715</td>\n",
       "      <td>0.000299</td>\n",
       "    </tr>\n",
       "    <tr>\n",
       "      <th>43714</th>\n",
       "      <td>1</td>\n",
       "      <td>0.000728</td>\n",
       "      <td>0.075986</td>\n",
       "      <td>0.001329</td>\n",
       "    </tr>\n",
       "    <tr>\n",
       "      <th>306294</th>\n",
       "      <td>1</td>\n",
       "      <td>0.000719</td>\n",
       "      <td>0.051293</td>\n",
       "      <td>0.008433</td>\n",
       "    </tr>\n",
       "    <tr>\n",
       "      <th>47559</th>\n",
       "      <td>1</td>\n",
       "      <td>0.024507</td>\n",
       "      <td>0.075986</td>\n",
       "      <td>0.003560</td>\n",
       "    </tr>\n",
       "  </tbody>\n",
       "</table>\n",
       "<p>66009 rows × 4 columns</p>\n",
       "</div>"
      ],
      "text/plain": [
       "        Tag  Reputation   Answers     Views\n",
       "101695    6    0.000017  0.038715  0.001061\n",
       "260437    9    0.000472  0.135175  0.007712\n",
       "207112    4    0.000322  0.038715  0.007906\n",
       "319275    1    0.000160  0.063716  0.027091\n",
       "157589    0    0.000338  0.051293  0.000386\n",
       "...     ...         ...       ...       ...\n",
       "72320     1    0.000170  0.013072  0.000127\n",
       "16363     6    0.000445  0.038715  0.000299\n",
       "43714     1    0.000728  0.075986  0.001329\n",
       "306294    1    0.000719  0.051293  0.008433\n",
       "47559     1    0.024507  0.075986  0.003560\n",
       "\n",
       "[66009 rows x 4 columns]"
      ]
     },
     "execution_count": 75,
     "metadata": {},
     "output_type": "execute_result"
    }
   ],
   "source": [
    "X_test"
   ]
  },
  {
   "cell_type": "code",
   "execution_count": 82,
   "id": "recorded-riding",
   "metadata": {
    "ExecuteTime": {
     "end_time": "2021-03-13T17:17:57.762859Z",
     "start_time": "2021-03-13T17:17:57.744396Z"
    }
   },
   "outputs": [],
   "source": [
    "xgb = XGBRegressor(base_score=0.6, booster='gbtree', colsample_bylevel=1,\n",
    "             colsample_bynode=1, colsample_bytree=1, gamma=0, gpu_id=-1,\n",
    "             importance_type='gain', interaction_constraints='',\n",
    "             learning_rate=0.1, max_delta_step=0, max_depth=2,\n",
    "             min_child_weight=3, missing=np.nan, monotone_constraints='()',\n",
    "             n_estimators=600, n_jobs=8, num_parallel_tree=1, random_state=0,\n",
    "             reg_alpha=0, reg_lambda=1, scale_pos_weight=1, subsample=1,\n",
    "             tree_method='exact', validate_parameters=1, verbosity=None)"
   ]
  },
  {
   "cell_type": "code",
   "execution_count": 83,
   "id": "legal-coordinator",
   "metadata": {
    "ExecuteTime": {
     "end_time": "2021-03-13T17:18:13.046657Z",
     "start_time": "2021-03-13T17:18:00.557300Z"
    }
   },
   "outputs": [
    {
     "data": {
      "text/plain": [
       "XGBRegressor(base_score=0.6, booster='gbtree', colsample_bylevel=1,\n",
       "             colsample_bynode=1, colsample_bytree=1, gamma=0, gpu_id=-1,\n",
       "             importance_type='gain', interaction_constraints='',\n",
       "             learning_rate=0.1, max_delta_step=0, max_depth=2,\n",
       "             min_child_weight=3, missing=nan, monotone_constraints='()',\n",
       "             n_estimators=600, n_jobs=8, num_parallel_tree=1, random_state=0,\n",
       "             reg_alpha=0, reg_lambda=1, scale_pos_weight=1, subsample=1,\n",
       "             tree_method='exact', validate_parameters=1, verbosity=None)"
      ]
     },
     "execution_count": 83,
     "metadata": {},
     "output_type": "execute_result"
    }
   ],
   "source": [
    "xgb.fit(X_train,y_train)"
   ]
  },
  {
   "cell_type": "code",
   "execution_count": 84,
   "id": "monetary-thanks",
   "metadata": {
    "ExecuteTime": {
     "end_time": "2021-03-13T17:18:13.140657Z",
     "start_time": "2021-03-13T17:18:13.048660Z"
    }
   },
   "outputs": [],
   "source": [
    "pred = xgb.predict(X_test)"
   ]
  },
  {
   "cell_type": "code",
   "execution_count": 85,
   "id": "separate-likelihood",
   "metadata": {
    "ExecuteTime": {
     "end_time": "2021-03-13T17:18:13.156659Z",
     "start_time": "2021-03-13T17:18:13.142658Z"
    }
   },
   "outputs": [
    {
     "data": {
      "text/plain": [
       "0.8458396975758022"
      ]
     },
     "execution_count": 85,
     "metadata": {},
     "output_type": "execute_result"
    }
   ],
   "source": [
    "r2_score(y_test,pred)"
   ]
  },
  {
   "cell_type": "code",
   "execution_count": 86,
   "id": "steady-cooperative",
   "metadata": {
    "ExecuteTime": {
     "end_time": "2021-03-13T17:18:13.172660Z",
     "start_time": "2021-03-13T17:18:13.158660Z"
    }
   },
   "outputs": [
    {
     "data": {
      "text/plain": [
       "0.5232359579241119"
      ]
     },
     "execution_count": 86,
     "metadata": {},
     "output_type": "execute_result"
    }
   ],
   "source": [
    "mean_squared_error(y_test,pred)"
   ]
  },
  {
   "cell_type": "code",
   "execution_count": null,
   "id": "adequate-surfing",
   "metadata": {},
   "outputs": [],
   "source": []
  }
 ],
 "metadata": {
  "kernelspec": {
   "display_name": "Python 3",
   "language": "python",
   "name": "python3"
  },
  "language_info": {
   "codemirror_mode": {
    "name": "ipython",
    "version": 3
   },
   "file_extension": ".py",
   "mimetype": "text/x-python",
   "name": "python",
   "nbconvert_exporter": "python",
   "pygments_lexer": "ipython3",
   "version": "3.8.5"
  }
 },
 "nbformat": 4,
 "nbformat_minor": 5
}
