{
 "cells": [
  {
   "cell_type": "code",
   "execution_count": 2,
   "id": "domestic-sweden",
   "metadata": {
    "ExecuteTime": {
     "end_time": "2021-03-12T18:42:59.388097Z",
     "start_time": "2021-03-12T18:42:59.373092Z"
    }
   },
   "outputs": [],
   "source": [
    "import pandas as pd"
   ]
  },
  {
   "cell_type": "markdown",
   "id": "proper-universal",
   "metadata": {},
   "source": [
    "#### Read the Data "
   ]
  },
  {
   "cell_type": "code",
   "execution_count": 5,
   "id": "elect-flavor",
   "metadata": {
    "ExecuteTime": {
     "end_time": "2021-03-12T18:45:28.372828Z",
     "start_time": "2021-03-12T18:45:28.348822Z"
    }
   },
   "outputs": [],
   "source": [
    "df_prob = pd.read_csv(\"problem_data.csv\")"
   ]
  },
  {
   "cell_type": "code",
   "execution_count": 6,
   "id": "exotic-tsunami",
   "metadata": {
    "ExecuteTime": {
     "end_time": "2021-03-12T18:45:42.099668Z",
     "start_time": "2021-03-12T18:45:42.072920Z"
    }
   },
   "outputs": [],
   "source": [
    "df_user = pd.read_csv(\"user_data.csv\")"
   ]
  },
  {
   "cell_type": "code",
   "execution_count": 8,
   "id": "genuine-bobby",
   "metadata": {
    "ExecuteTime": {
     "end_time": "2021-03-12T18:50:06.587597Z",
     "start_time": "2021-03-12T18:50:06.412889Z"
    }
   },
   "outputs": [],
   "source": [
    "df_train = pd.read_csv(\"train_submissions.csv\")"
   ]
  },
  {
   "cell_type": "markdown",
   "id": "expected-standard",
   "metadata": {
    "ExecuteTime": {
     "end_time": "2021-03-12T18:50:10.914386Z",
     "start_time": "2021-03-12T18:50:10.888189Z"
    }
   },
   "source": [
    "### Understand the problem\n",
    "- There are 3 csv files or input files:\n",
    "    - problem information\n",
    "    - user information\n",
    "    - information about attempts count to resolve a problem by user \n",
    "- Problem statement is: Attempt count to be predicted, when User id and problem id is given."
   ]
  },
  {
   "cell_type": "code",
   "execution_count": 20,
   "id": "answering-trouble",
   "metadata": {
    "ExecuteTime": {
     "end_time": "2021-03-12T18:58:12.162288Z",
     "start_time": "2021-03-12T18:58:12.145381Z"
    }
   },
   "outputs": [
    {
     "data": {
      "text/plain": [
       "((3571, 11), (6544, 4), (155295, 3))"
      ]
     },
     "execution_count": 20,
     "metadata": {},
     "output_type": "execute_result"
    }
   ],
   "source": [
    "df_user.shape,df_prob.shape, df_train.shape\n"
   ]
  },
  {
   "cell_type": "code",
   "execution_count": 19,
   "id": "level-shame",
   "metadata": {
    "ExecuteTime": {
     "end_time": "2021-03-12T18:57:48.577408Z",
     "start_time": "2021-03-12T18:57:48.551030Z"
    }
   },
   "outputs": [
    {
     "name": "stdout",
     "output_type": "stream",
     "text": [
      "Unique users in df_train: 3529\n",
      "Unique problems in df_train: 5776\n"
     ]
    }
   ],
   "source": [
    "\n",
    "print('Unique users in df_train:', len(set(df_train.user_id.values)))\n",
    "print('Unique problems in df_train:', len(set(df_train.problem_id.values)))\n"
   ]
  },
  {
   "cell_type": "code",
   "execution_count": 29,
   "id": "comfortable-symposium",
   "metadata": {
    "ExecuteTime": {
     "end_time": "2021-03-12T19:00:58.484314Z",
     "start_time": "2021-03-12T19:00:58.460874Z"
    }
   },
   "outputs": [
    {
     "name": "stdout",
     "output_type": "stream",
     "text": [
      "how many user ids are in df_train.csv but not in df_user: 0\n"
     ]
    }
   ],
   "source": [
    "print('how many user ids are in df_train.csv but not in df_user:',\\\n",
    "      len(set(df_train.user_id.values) - set(df_user.user_id.values) ))"
   ]
  },
  {
   "cell_type": "code",
   "execution_count": 30,
   "id": "sustained-belarus",
   "metadata": {
    "ExecuteTime": {
     "end_time": "2021-03-12T19:01:47.076816Z",
     "start_time": "2021-03-12T19:01:47.053608Z"
    }
   },
   "outputs": [
    {
     "name": "stdout",
     "output_type": "stream",
     "text": [
      "how many problem ids are in df_train.csv but not in df_problem: 0\n"
     ]
    }
   ],
   "source": [
    "print('how many problem ids are in df_train.csv but not in df_problem:',\\\n",
    "      len(set(df_train.problem_id.values) - set(df_prob.problem_id.values) ))"
   ]
  },
  {
   "cell_type": "markdown",
   "id": "returning-tucson",
   "metadata": {},
   "source": [
    "#### All data corresponding to df_train is available"
   ]
  },
  {
   "cell_type": "markdown",
   "id": "cultural-chemistry",
   "metadata": {},
   "source": [
    "## df_user"
   ]
  },
  {
   "cell_type": "code",
   "execution_count": 35,
   "id": "charming-elephant",
   "metadata": {
    "ExecuteTime": {
     "end_time": "2021-03-12T19:04:14.362685Z",
     "start_time": "2021-03-12T19:04:14.267675Z"
    }
   },
   "outputs": [
    {
     "data": {
      "text/html": [
       "<div>\n",
       "<style scoped>\n",
       "    .dataframe tbody tr th:only-of-type {\n",
       "        vertical-align: middle;\n",
       "    }\n",
       "\n",
       "    .dataframe tbody tr th {\n",
       "        vertical-align: top;\n",
       "    }\n",
       "\n",
       "    .dataframe thead th {\n",
       "        text-align: right;\n",
       "    }\n",
       "</style>\n",
       "<table border=\"1\" class=\"dataframe\">\n",
       "  <thead>\n",
       "    <tr style=\"text-align: right;\">\n",
       "      <th></th>\n",
       "      <th>user_id</th>\n",
       "      <th>submission_count</th>\n",
       "      <th>problem_solved</th>\n",
       "      <th>contribution</th>\n",
       "      <th>country</th>\n",
       "      <th>follower_count</th>\n",
       "      <th>last_online_time_seconds</th>\n",
       "      <th>max_rating</th>\n",
       "      <th>rating</th>\n",
       "      <th>rank</th>\n",
       "      <th>registration_time_seconds</th>\n",
       "    </tr>\n",
       "  </thead>\n",
       "  <tbody>\n",
       "    <tr>\n",
       "      <th>count</th>\n",
       "      <td>3571</td>\n",
       "      <td>3571.000000</td>\n",
       "      <td>3571.000000</td>\n",
       "      <td>3571.000000</td>\n",
       "      <td>2418</td>\n",
       "      <td>3571.000000</td>\n",
       "      <td>3.571000e+03</td>\n",
       "      <td>3571.000000</td>\n",
       "      <td>3571.000000</td>\n",
       "      <td>3571</td>\n",
       "      <td>3.571000e+03</td>\n",
       "    </tr>\n",
       "    <tr>\n",
       "      <th>unique</th>\n",
       "      <td>3571</td>\n",
       "      <td>NaN</td>\n",
       "      <td>NaN</td>\n",
       "      <td>NaN</td>\n",
       "      <td>79</td>\n",
       "      <td>NaN</td>\n",
       "      <td>NaN</td>\n",
       "      <td>NaN</td>\n",
       "      <td>NaN</td>\n",
       "      <td>4</td>\n",
       "      <td>NaN</td>\n",
       "    </tr>\n",
       "    <tr>\n",
       "      <th>top</th>\n",
       "      <td>user_3263</td>\n",
       "      <td>NaN</td>\n",
       "      <td>NaN</td>\n",
       "      <td>NaN</td>\n",
       "      <td>India</td>\n",
       "      <td>NaN</td>\n",
       "      <td>NaN</td>\n",
       "      <td>NaN</td>\n",
       "      <td>NaN</td>\n",
       "      <td>beginner</td>\n",
       "      <td>NaN</td>\n",
       "    </tr>\n",
       "    <tr>\n",
       "      <th>freq</th>\n",
       "      <td>1</td>\n",
       "      <td>NaN</td>\n",
       "      <td>NaN</td>\n",
       "      <td>NaN</td>\n",
       "      <td>619</td>\n",
       "      <td>NaN</td>\n",
       "      <td>NaN</td>\n",
       "      <td>NaN</td>\n",
       "      <td>NaN</td>\n",
       "      <td>1509</td>\n",
       "      <td>NaN</td>\n",
       "    </tr>\n",
       "    <tr>\n",
       "      <th>mean</th>\n",
       "      <td>NaN</td>\n",
       "      <td>299.481098</td>\n",
       "      <td>267.894427</td>\n",
       "      <td>4.102492</td>\n",
       "      <td>NaN</td>\n",
       "      <td>46.690563</td>\n",
       "      <td>1.502680e+09</td>\n",
       "      <td>390.374392</td>\n",
       "      <td>350.165578</td>\n",
       "      <td>NaN</td>\n",
       "      <td>1.434961e+09</td>\n",
       "    </tr>\n",
       "    <tr>\n",
       "      <th>std</th>\n",
       "      <td>NaN</td>\n",
       "      <td>366.102887</td>\n",
       "      <td>344.139688</td>\n",
       "      <td>16.552256</td>\n",
       "      <td>NaN</td>\n",
       "      <td>211.494638</td>\n",
       "      <td>5.114850e+06</td>\n",
       "      <td>92.428788</td>\n",
       "      <td>106.592503</td>\n",
       "      <td>NaN</td>\n",
       "      <td>4.750758e+07</td>\n",
       "    </tr>\n",
       "    <tr>\n",
       "      <th>min</th>\n",
       "      <td>NaN</td>\n",
       "      <td>1.000000</td>\n",
       "      <td>0.000000</td>\n",
       "      <td>-64.000000</td>\n",
       "      <td>NaN</td>\n",
       "      <td>0.000000</td>\n",
       "      <td>1.484237e+09</td>\n",
       "      <td>303.899000</td>\n",
       "      <td>0.000000</td>\n",
       "      <td>NaN</td>\n",
       "      <td>1.264761e+09</td>\n",
       "    </tr>\n",
       "    <tr>\n",
       "      <th>25%</th>\n",
       "      <td>NaN</td>\n",
       "      <td>66.500000</td>\n",
       "      <td>53.000000</td>\n",
       "      <td>0.000000</td>\n",
       "      <td>NaN</td>\n",
       "      <td>4.000000</td>\n",
       "      <td>1.502691e+09</td>\n",
       "      <td>317.661000</td>\n",
       "      <td>279.243000</td>\n",
       "      <td>NaN</td>\n",
       "      <td>1.416323e+09</td>\n",
       "    </tr>\n",
       "    <tr>\n",
       "      <th>50%</th>\n",
       "      <td>NaN</td>\n",
       "      <td>169.000000</td>\n",
       "      <td>146.000000</td>\n",
       "      <td>0.000000</td>\n",
       "      <td>NaN</td>\n",
       "      <td>13.000000</td>\n",
       "      <td>1.505054e+09</td>\n",
       "      <td>355.791000</td>\n",
       "      <td>329.702000</td>\n",
       "      <td>NaN</td>\n",
       "      <td>1.449085e+09</td>\n",
       "    </tr>\n",
       "    <tr>\n",
       "      <th>75%</th>\n",
       "      <td>NaN</td>\n",
       "      <td>390.000000</td>\n",
       "      <td>349.000000</td>\n",
       "      <td>0.000000</td>\n",
       "      <td>NaN</td>\n",
       "      <td>40.000000</td>\n",
       "      <td>1.505551e+09</td>\n",
       "      <td>444.954000</td>\n",
       "      <td>413.417500</td>\n",
       "      <td>NaN</td>\n",
       "      <td>1.470379e+09</td>\n",
       "    </tr>\n",
       "    <tr>\n",
       "      <th>max</th>\n",
       "      <td>NaN</td>\n",
       "      <td>4570.000000</td>\n",
       "      <td>4476.000000</td>\n",
       "      <td>171.000000</td>\n",
       "      <td>NaN</td>\n",
       "      <td>10575.000000</td>\n",
       "      <td>1.505595e+09</td>\n",
       "      <td>983.085000</td>\n",
       "      <td>911.124000</td>\n",
       "      <td>NaN</td>\n",
       "      <td>1.484236e+09</td>\n",
       "    </tr>\n",
       "  </tbody>\n",
       "</table>\n",
       "</div>"
      ],
      "text/plain": [
       "          user_id  submission_count  problem_solved  contribution country  \\\n",
       "count        3571       3571.000000     3571.000000   3571.000000    2418   \n",
       "unique       3571               NaN             NaN           NaN      79   \n",
       "top     user_3263               NaN             NaN           NaN   India   \n",
       "freq            1               NaN             NaN           NaN     619   \n",
       "mean          NaN        299.481098      267.894427      4.102492     NaN   \n",
       "std           NaN        366.102887      344.139688     16.552256     NaN   \n",
       "min           NaN          1.000000        0.000000    -64.000000     NaN   \n",
       "25%           NaN         66.500000       53.000000      0.000000     NaN   \n",
       "50%           NaN        169.000000      146.000000      0.000000     NaN   \n",
       "75%           NaN        390.000000      349.000000      0.000000     NaN   \n",
       "max           NaN       4570.000000     4476.000000    171.000000     NaN   \n",
       "\n",
       "        follower_count  last_online_time_seconds   max_rating       rating  \\\n",
       "count      3571.000000              3.571000e+03  3571.000000  3571.000000   \n",
       "unique             NaN                       NaN          NaN          NaN   \n",
       "top                NaN                       NaN          NaN          NaN   \n",
       "freq               NaN                       NaN          NaN          NaN   \n",
       "mean         46.690563              1.502680e+09   390.374392   350.165578   \n",
       "std         211.494638              5.114850e+06    92.428788   106.592503   \n",
       "min           0.000000              1.484237e+09   303.899000     0.000000   \n",
       "25%           4.000000              1.502691e+09   317.661000   279.243000   \n",
       "50%          13.000000              1.505054e+09   355.791000   329.702000   \n",
       "75%          40.000000              1.505551e+09   444.954000   413.417500   \n",
       "max       10575.000000              1.505595e+09   983.085000   911.124000   \n",
       "\n",
       "            rank  registration_time_seconds  \n",
       "count       3571               3.571000e+03  \n",
       "unique         4                        NaN  \n",
       "top     beginner                        NaN  \n",
       "freq        1509                        NaN  \n",
       "mean         NaN               1.434961e+09  \n",
       "std          NaN               4.750758e+07  \n",
       "min          NaN               1.264761e+09  \n",
       "25%          NaN               1.416323e+09  \n",
       "50%          NaN               1.449085e+09  \n",
       "75%          NaN               1.470379e+09  \n",
       "max          NaN               1.484236e+09  "
      ]
     },
     "execution_count": 35,
     "metadata": {},
     "output_type": "execute_result"
    }
   ],
   "source": [
    "df_user.describe(include = 'all')"
   ]
  },
  {
   "cell_type": "code",
   "execution_count": 36,
   "id": "sought-kitty",
   "metadata": {
    "ExecuteTime": {
     "end_time": "2021-03-12T19:05:28.178131Z",
     "start_time": "2021-03-12T19:05:28.159130Z"
    }
   },
   "outputs": [
    {
     "data": {
      "text/plain": [
       "user_id                         0\n",
       "submission_count                0\n",
       "problem_solved                  0\n",
       "contribution                    0\n",
       "country                      1153\n",
       "follower_count                  0\n",
       "last_online_time_seconds        0\n",
       "max_rating                      0\n",
       "rating                          0\n",
       "rank                            0\n",
       "registration_time_seconds       0\n",
       "dtype: int64"
      ]
     },
     "execution_count": 36,
     "metadata": {},
     "output_type": "execute_result"
    }
   ],
   "source": [
    "df_user.isnull().sum()"
   ]
  },
  {
   "cell_type": "markdown",
   "id": "necessary-puzzle",
   "metadata": {
    "ExecuteTime": {
     "end_time": "2021-03-12T19:07:15.245748Z",
     "start_time": "2021-03-12T19:07:15.217747Z"
    }
   },
   "source": [
    "# df_prob"
   ]
  },
  {
   "cell_type": "code",
   "execution_count": 39,
   "id": "institutional-swedish",
   "metadata": {
    "ExecuteTime": {
     "end_time": "2021-03-12T19:07:43.051752Z",
     "start_time": "2021-03-12T19:07:43.000739Z"
    }
   },
   "outputs": [
    {
     "data": {
      "text/html": [
       "<div>\n",
       "<style scoped>\n",
       "    .dataframe tbody tr th:only-of-type {\n",
       "        vertical-align: middle;\n",
       "    }\n",
       "\n",
       "    .dataframe tbody tr th {\n",
       "        vertical-align: top;\n",
       "    }\n",
       "\n",
       "    .dataframe thead th {\n",
       "        text-align: right;\n",
       "    }\n",
       "</style>\n",
       "<table border=\"1\" class=\"dataframe\">\n",
       "  <thead>\n",
       "    <tr style=\"text-align: right;\">\n",
       "      <th></th>\n",
       "      <th>problem_id</th>\n",
       "      <th>level_type</th>\n",
       "      <th>points</th>\n",
       "      <th>tags</th>\n",
       "    </tr>\n",
       "  </thead>\n",
       "  <tbody>\n",
       "    <tr>\n",
       "      <th>count</th>\n",
       "      <td>6544</td>\n",
       "      <td>6411</td>\n",
       "      <td>2627.000000</td>\n",
       "      <td>3060</td>\n",
       "    </tr>\n",
       "    <tr>\n",
       "      <th>unique</th>\n",
       "      <td>6544</td>\n",
       "      <td>14</td>\n",
       "      <td>NaN</td>\n",
       "      <td>882</td>\n",
       "    </tr>\n",
       "    <tr>\n",
       "      <th>top</th>\n",
       "      <td>prob_5531</td>\n",
       "      <td>A</td>\n",
       "      <td>NaN</td>\n",
       "      <td>implementation</td>\n",
       "    </tr>\n",
       "    <tr>\n",
       "      <th>freq</th>\n",
       "      <td>1</td>\n",
       "      <td>1042</td>\n",
       "      <td>NaN</td>\n",
       "      <td>297</td>\n",
       "    </tr>\n",
       "    <tr>\n",
       "      <th>mean</th>\n",
       "      <td>NaN</td>\n",
       "      <td>NaN</td>\n",
       "      <td>1452.381804</td>\n",
       "      <td>NaN</td>\n",
       "    </tr>\n",
       "    <tr>\n",
       "      <th>std</th>\n",
       "      <td>NaN</td>\n",
       "      <td>NaN</td>\n",
       "      <td>789.542461</td>\n",
       "      <td>NaN</td>\n",
       "    </tr>\n",
       "    <tr>\n",
       "      <th>min</th>\n",
       "      <td>NaN</td>\n",
       "      <td>NaN</td>\n",
       "      <td>-1.000000</td>\n",
       "      <td>NaN</td>\n",
       "    </tr>\n",
       "    <tr>\n",
       "      <th>25%</th>\n",
       "      <td>NaN</td>\n",
       "      <td>NaN</td>\n",
       "      <td>1000.000000</td>\n",
       "      <td>NaN</td>\n",
       "    </tr>\n",
       "    <tr>\n",
       "      <th>50%</th>\n",
       "      <td>NaN</td>\n",
       "      <td>NaN</td>\n",
       "      <td>1500.000000</td>\n",
       "      <td>NaN</td>\n",
       "    </tr>\n",
       "    <tr>\n",
       "      <th>75%</th>\n",
       "      <td>NaN</td>\n",
       "      <td>NaN</td>\n",
       "      <td>2000.000000</td>\n",
       "      <td>NaN</td>\n",
       "    </tr>\n",
       "    <tr>\n",
       "      <th>max</th>\n",
       "      <td>NaN</td>\n",
       "      <td>NaN</td>\n",
       "      <td>5000.000000</td>\n",
       "      <td>NaN</td>\n",
       "    </tr>\n",
       "  </tbody>\n",
       "</table>\n",
       "</div>"
      ],
      "text/plain": [
       "       problem_id level_type       points            tags\n",
       "count        6544       6411  2627.000000            3060\n",
       "unique       6544         14          NaN             882\n",
       "top     prob_5531          A          NaN  implementation\n",
       "freq            1       1042          NaN             297\n",
       "mean          NaN        NaN  1452.381804             NaN\n",
       "std           NaN        NaN   789.542461             NaN\n",
       "min           NaN        NaN    -1.000000             NaN\n",
       "25%           NaN        NaN  1000.000000             NaN\n",
       "50%           NaN        NaN  1500.000000             NaN\n",
       "75%           NaN        NaN  2000.000000             NaN\n",
       "max           NaN        NaN  5000.000000             NaN"
      ]
     },
     "execution_count": 39,
     "metadata": {},
     "output_type": "execute_result"
    }
   ],
   "source": [
    "df_prob.describe(include='all')"
   ]
  },
  {
   "cell_type": "code",
   "execution_count": 40,
   "id": "regular-amplifier",
   "metadata": {
    "ExecuteTime": {
     "end_time": "2021-03-12T19:08:06.650359Z",
     "start_time": "2021-03-12T19:08:06.635396Z"
    }
   },
   "outputs": [
    {
     "data": {
      "text/plain": [
       "problem_id       0\n",
       "level_type     133\n",
       "points        3917\n",
       "tags          3484\n",
       "dtype: int64"
      ]
     },
     "execution_count": 40,
     "metadata": {},
     "output_type": "execute_result"
    }
   ],
   "source": [
    "df_prob.isnull().sum()"
   ]
  },
  {
   "cell_type": "markdown",
   "id": "secret-ethernet",
   "metadata": {},
   "source": [
    "## df_train"
   ]
  },
  {
   "cell_type": "code",
   "execution_count": 42,
   "id": "phantom-audience",
   "metadata": {
    "ExecuteTime": {
     "end_time": "2021-03-12T19:09:33.411339Z",
     "start_time": "2021-03-12T19:09:33.298791Z"
    }
   },
   "outputs": [
    {
     "data": {
      "text/html": [
       "<div>\n",
       "<style scoped>\n",
       "    .dataframe tbody tr th:only-of-type {\n",
       "        vertical-align: middle;\n",
       "    }\n",
       "\n",
       "    .dataframe tbody tr th {\n",
       "        vertical-align: top;\n",
       "    }\n",
       "\n",
       "    .dataframe thead th {\n",
       "        text-align: right;\n",
       "    }\n",
       "</style>\n",
       "<table border=\"1\" class=\"dataframe\">\n",
       "  <thead>\n",
       "    <tr style=\"text-align: right;\">\n",
       "      <th></th>\n",
       "      <th>user_id</th>\n",
       "      <th>problem_id</th>\n",
       "      <th>attempts_range</th>\n",
       "    </tr>\n",
       "  </thead>\n",
       "  <tbody>\n",
       "    <tr>\n",
       "      <th>count</th>\n",
       "      <td>155295</td>\n",
       "      <td>155295</td>\n",
       "      <td>155295.000000</td>\n",
       "    </tr>\n",
       "    <tr>\n",
       "      <th>unique</th>\n",
       "      <td>3529</td>\n",
       "      <td>5776</td>\n",
       "      <td>NaN</td>\n",
       "    </tr>\n",
       "    <tr>\n",
       "      <th>top</th>\n",
       "      <td>user_28</td>\n",
       "      <td>prob_5071</td>\n",
       "      <td>NaN</td>\n",
       "    </tr>\n",
       "    <tr>\n",
       "      <th>freq</th>\n",
       "      <td>105</td>\n",
       "      <td>1365</td>\n",
       "      <td>NaN</td>\n",
       "    </tr>\n",
       "    <tr>\n",
       "      <th>mean</th>\n",
       "      <td>NaN</td>\n",
       "      <td>NaN</td>\n",
       "      <td>1.755028</td>\n",
       "    </tr>\n",
       "    <tr>\n",
       "      <th>std</th>\n",
       "      <td>NaN</td>\n",
       "      <td>NaN</td>\n",
       "      <td>1.078450</td>\n",
       "    </tr>\n",
       "    <tr>\n",
       "      <th>min</th>\n",
       "      <td>NaN</td>\n",
       "      <td>NaN</td>\n",
       "      <td>1.000000</td>\n",
       "    </tr>\n",
       "    <tr>\n",
       "      <th>25%</th>\n",
       "      <td>NaN</td>\n",
       "      <td>NaN</td>\n",
       "      <td>1.000000</td>\n",
       "    </tr>\n",
       "    <tr>\n",
       "      <th>50%</th>\n",
       "      <td>NaN</td>\n",
       "      <td>NaN</td>\n",
       "      <td>1.000000</td>\n",
       "    </tr>\n",
       "    <tr>\n",
       "      <th>75%</th>\n",
       "      <td>NaN</td>\n",
       "      <td>NaN</td>\n",
       "      <td>2.000000</td>\n",
       "    </tr>\n",
       "    <tr>\n",
       "      <th>max</th>\n",
       "      <td>NaN</td>\n",
       "      <td>NaN</td>\n",
       "      <td>6.000000</td>\n",
       "    </tr>\n",
       "  </tbody>\n",
       "</table>\n",
       "</div>"
      ],
      "text/plain": [
       "        user_id problem_id  attempts_range\n",
       "count    155295     155295   155295.000000\n",
       "unique     3529       5776             NaN\n",
       "top     user_28  prob_5071             NaN\n",
       "freq        105       1365             NaN\n",
       "mean        NaN        NaN        1.755028\n",
       "std         NaN        NaN        1.078450\n",
       "min         NaN        NaN        1.000000\n",
       "25%         NaN        NaN        1.000000\n",
       "50%         NaN        NaN        1.000000\n",
       "75%         NaN        NaN        2.000000\n",
       "max         NaN        NaN        6.000000"
      ]
     },
     "execution_count": 42,
     "metadata": {},
     "output_type": "execute_result"
    }
   ],
   "source": [
    "df_train.describe(include='all')"
   ]
  },
  {
   "cell_type": "code",
   "execution_count": 43,
   "id": "competitive-cliff",
   "metadata": {
    "ExecuteTime": {
     "end_time": "2021-03-12T19:09:55.613098Z",
     "start_time": "2021-03-12T19:09:55.566222Z"
    }
   },
   "outputs": [
    {
     "data": {
      "text/plain": [
       "user_id           0\n",
       "problem_id        0\n",
       "attempts_range    0\n",
       "dtype: int64"
      ]
     },
     "execution_count": 43,
     "metadata": {},
     "output_type": "execute_result"
    }
   ],
   "source": [
    "df_train.isnull().sum()"
   ]
  },
  {
   "cell_type": "code",
   "execution_count": 47,
   "id": "italian-cutting",
   "metadata": {
    "ExecuteTime": {
     "end_time": "2021-03-12T19:10:18.184840Z",
     "start_time": "2021-03-12T19:10:18.155844Z"
    }
   },
   "outputs": [
    {
     "data": {
      "text/plain": [
       "array([1, 3, 2, 4, 5, 6], dtype=int64)"
      ]
     },
     "execution_count": 47,
     "metadata": {},
     "output_type": "execute_result"
    }
   ],
   "source": [
    "df_train.attempts_range.unique()"
   ]
  },
  {
   "cell_type": "code",
   "execution_count": null,
   "id": "yellow-louisiana",
   "metadata": {},
   "outputs": [],
   "source": []
  }
 ],
 "metadata": {
  "kernelspec": {
   "display_name": "Python 3",
   "language": "python",
   "name": "python3"
  },
  "language_info": {
   "codemirror_mode": {
    "name": "ipython",
    "version": 3
   },
   "file_extension": ".py",
   "mimetype": "text/x-python",
   "name": "python",
   "nbconvert_exporter": "python",
   "pygments_lexer": "ipython3",
   "version": "3.8.5"
  }
 },
 "nbformat": 4,
 "nbformat_minor": 5
}
